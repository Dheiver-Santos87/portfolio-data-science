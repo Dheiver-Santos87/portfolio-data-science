{
  "cells": [
    {
      "cell_type": "code",
      "execution_count": null,
      "metadata": {
        "id": "uODYIA-i46Ke"
      },
      "outputs": [],
      "source": [
        "# %%bash\n",
        "\n",
        "# pip install tensorflow==1.7\n",
        "# pip install google-cloud-dataflow==2.3\n",
        "# pip install tensorflow-hub"
      ]
    },
    {
      "cell_type": "markdown",
      "metadata": {
        "id": "I-glWn-K46Kj"
      },
      "source": [
        "# Classificação de texto usando TensorFlow e Google Cloud\n",
        "\n",
        "Este [bigquery-public-data:hacker_news](https://cloud.google.com/bigquery/public-data/hacker-news) contém todas as histórias e comentários do Hacker News desde seu lançamento em 2006. Cada história contém uma história id, url, o título da história, o autor que fez a postagem, quando foi escrita e o número de pontos que a história recebeu.\n",
        "\n",
        "O objetivo é que, dado o título da história, queremos construir um modelo de ML que possa prever a origem dessa história.\n",
        "\n",
        "### Este caderno ilustra:\n",
        "* Criação de conjuntos de dados de ML usando o Dataflow\n",
        "* Crie modelos de classificação com as APIs do TensforFlow Estimaor e o TF.hub\n",
        "* Treine o melhor modelo usando o Cloud ML Engine\n",
        "* Implante o modelo no Cloud ML Engine e faça previsões"
      ]
    },
    {
      "cell_type": "code",
      "execution_count": null,
      "metadata": {
        "id": "5Bra_yFm46Ko"
      },
      "outputs": [],
      "source": [
        "import os\n",
        "\n",
        "class Params:\n",
        "    pass\n",
        "\n",
        "# Set to run on GCP\n",
        "Params.GCP_PROJECT_ID = 'ksalama-gcp-playground'\n",
        "Params.REGION = 'europe-west1'\n",
        "Params.BUCKET = 'ksalama-gcs-cloudml'\n",
        "\n",
        "Params.PLATFORM = 'local' # local | GCP\n",
        "\n",
        "Params.DATA_DIR = 'data/news'  if Params.PLATFORM == 'local' else 'gs://{}/data/news'.format(Params.BUCKET)\n",
        "Params.TRANSFORMED_DATA_DIR = os.path.join(Params.DATA_DIR, 'transformed')\n",
        "\n",
        "Params.RAW_TRAIN_DATA_FILE_PREFEX = os.path.join(Params.DATA_DIR, 'train')\n",
        "Params.RAW_EVAL_DATA_FILE_PREFEX = os.path.join(Params.DATA_DIR, 'eval')\n",
        "\n",
        "Params.MODELS_DIR = 'models/news' if Params.PLATFORM == 'local' else 'gs://{}/models/news'.format(Params.BUCKET)\n",
        "\n",
        "Params.TEMP_DIR = os.path.join(Params.DATA_DIR, 'tmp')\n",
        "\n",
        "Params.TRANSFORM = True\n",
        "\n",
        "Params.TRAIN = True\n",
        "\n",
        "Params.RESUME_TRAINING = False\n",
        "\n",
        "Params.EAGER = False\n",
        "\n",
        "if Params.EAGER:\n",
        "    tf.enable_eager_execution()"
      ]
    },
    {
      "cell_type": "markdown",
      "metadata": {
        "id": "FwbKU_w_46Kp"
      },
      "source": [
        "## Criar arquivos de dados de ML usando o Dataflow\n",
        "\n",
        "O pipeline de processamento de dados fará o seguinte:\n",
        "1. Leia os dados (chave, título, origem) do BigQuery\n",
        "2. Processe o texto (se necessário) e converta cada BQ raw em tsv\n",
        "3. Salve dados em arquivos tsv"
      ]
    },
    {
      "cell_type": "markdown",
      "metadata": {
        "id": "n4VNwDmf46Kq"
      },
      "source": [
        "### 1. Consulta (Query)"
      ]
    },
    {
      "cell_type": "code",
      "execution_count": null,
      "metadata": {
        "id": "FEBJmiBO46Kr"
      },
      "outputs": [],
      "source": [
        "bq_query = '''\n",
        "SELECT\n",
        "    key,\n",
        "    REGEXP_REPLACE(title, '[^a-zA-Z0-9 $.-]', ' ') AS title, \n",
        "    source\n",
        "FROM\n",
        "(\n",
        "    SELECT\n",
        "        ARRAY_REVERSE(SPLIT(REGEXP_EXTRACT(url, '.*://(.[^/]+)/'), '.'))[OFFSET(1)] AS source,\n",
        "        title,\n",
        "        ABS(FARM_FINGERPRINT(title)) AS Key\n",
        "    FROM\n",
        "      `bigquery-public-data.hacker_news.stories`\n",
        "    WHERE\n",
        "      REGEXP_CONTAINS(REGEXP_EXTRACT(url, '.*://(.[^/]+)/'), '.com$')\n",
        "      AND LENGTH(title) > 10\n",
        ")\n",
        "WHERE (source = 'github' OR source = 'nytimes' OR source = 'techcrunch')\n",
        "'''"
      ]
    },
    {
      "cell_type": "markdown",
      "metadata": {
        "id": "WoiEAzWc46Ks"
      },
      "source": [
        "### 2. Beam Pipeline"
      ]
    },
    {
      "cell_type": "code",
      "execution_count": null,
      "metadata": {
        "id": "7BAxOjvH46Ks"
      },
      "outputs": [],
      "source": [
        "import apache_beam as beam\n",
        "\n",
        "\n",
        "def to_tsv(bq_row):\n",
        "    \n",
        "    CSV_HEADER = 'key,title,source'.split(',')\n",
        "    \n",
        "    ### process bq_row['title'] \n",
        "    \n",
        "    csv_row = '\\t'.join([str(bq_row[column]) for column in CSV_HEADER])\n",
        "    return csv_row\n",
        "\n",
        "\n",
        "\n",
        "def run_pipeline(runner, opts):\n",
        "  \n",
        "    pipeline = beam.Pipeline(runner, options=opts)\n",
        "    \n",
        "    print(\"Sink train data files: {}\".format(Params.RAW_TRAIN_DATA_FILE_PREFEX))\n",
        "    print(\"Sink data files: {}\".format(Params.RAW_EVAL_DATA_FILE_PREFEX))\n",
        "    print(\"Temporary directory: {}\".format(Params.TEMP_DIR))\n",
        "    print(\"\")\n",
        "    \n",
        "    for step in ['train', 'eval']:\n",
        "        \n",
        "        if step == 'train':\n",
        "            source_query = 'SELECT * FROM ({}) WHERE MOD(key,100) <= 75'.format(bq_query)\n",
        "            sink_location = Params.RAW_TRAIN_DATA_FILE_PREFEX\n",
        "        else:\n",
        "            source_query = 'SELECT * FROM ({}) WHERE MOD(key,100) > 75'.format(bq_query)\n",
        "            sink_location = Params.RAW_EVAL_DATA_FILE_PREFEX\n",
        "            \n",
        "        (\n",
        "            pipeline \n",
        "           | '{} - Read from BigQuery'.format(step) >> beam.io.Read(beam.io.BigQuerySource(query=source_query, use_standard_sql=True))\n",
        "           | '{} - Process to TSV'.format(step) >> beam.Map(to_tsv)\n",
        "           | '{} - Write to TSV '.format(step) >> beam.io.Write(beam.io.WriteToText(sink_location,\n",
        "                                                                file_name_suffix='.tsv', num_shards=5))\n",
        "        )\n",
        "        \n",
        "    job = pipeline.run()\n",
        "    if runner == 'DirectRunner':\n",
        "        job.wait_until_finish()\n",
        "    "
      ]
    },
    {
      "cell_type": "markdown",
      "metadata": {
        "id": "NT7ZfznI46Ku"
      },
      "source": [
        "### 5. Executar Pipeline"
      ]
    },
    {
      "cell_type": "code",
      "execution_count": null,
      "metadata": {
        "id": "FF_nfqau46Ku",
        "outputId": "ca82c9af-2f66-476b-b46f-80d4767c35be"
      },
      "outputs": [
        {
          "name": "stdout",
          "output_type": "stream",
          "text": [
            "Launching DirectRunner job preprocess-hackernews-data-180514-101132 ... hang on\n",
            "Sink train data files: data/news/train\n",
            "Sink data files: data/news/eval\n",
            "Temporary directory: data/news/tmp\n",
            "\n"
          ]
        },
        {
          "name": "stderr",
          "output_type": "stream",
          "text": [
            "/Users/khalidsalama/Technology/python-venvs/py27-venv/lib/python2.7/site-packages/apache_beam/runners/direct/direct_runner.py:337: DeprecationWarning: options is deprecated since First stable release.. References to <pipeline>.options will not be supported\n",
            "  pipeline.replace_all(_get_transform_overrides(pipeline.options))\n",
            "WARNING:root:Dataset ksalama-gcp-playground:temp_dataset_4957316c922e4a4cb4cc8155db28eae4 does not exist so we will create it as temporary with location=None\n",
            "WARNING:root:Dataset ksalama-gcp-playground:temp_dataset_46d335ce2dc447a49d6a34bd5402d840 does not exist so we will create it as temporary with location=None\n"
          ]
        },
        {
          "name": "stdout",
          "output_type": "stream",
          "text": [
            "Pipline completed.\n"
          ]
        }
      ],
      "source": [
        "from datetime import datetime\n",
        "import shutil\n",
        "\n",
        "job_name = 'preprocess-hackernews-data' + '-' + datetime.utcnow().strftime('%y%m%d-%H%M%S')\n",
        "\n",
        "options = {\n",
        "    'region': Params.REGION,\n",
        "    'staging_location': os.path.join(Params.TEMP_DIR, 'staging'),\n",
        "    'temp_location': Params.TEMP_DIR,\n",
        "    'job_name': job_name,\n",
        "    'project': Params.GCP_PROJECT_ID\n",
        "}\n",
        "\n",
        "opts = beam.pipeline.PipelineOptions(flags=[], **options)\n",
        "runner = 'DirectRunner' if Params.PLATFORM == 'local' else 'DirectRunner'\n",
        "\n",
        "if Params.TRANSFORM:\n",
        "    \n",
        "    if Params.PLATFORM == 'local':\n",
        "        shutil.rmtree(Params.DATA_DIR, ignore_errors=True)\n",
        "    \n",
        "    print 'Launching {} job {} ... hang on'.format(runner, job_name)\n",
        "\n",
        "    run_pipeline(runner, opts)\n",
        "    print \"Pipline completed.\"\n",
        "else:\n",
        "    print \"Transformation skipped!\""
      ]
    },
    {
      "cell_type": "code",
      "execution_count": null,
      "metadata": {
        "id": "CsnTzTh946Kx",
        "outputId": "bf793218-55a7-4bfc-8280-69211ecfa6e7"
      },
      "outputs": [
        {
          "name": "stdout",
          "output_type": "stream",
          "text": [
            "eval-00000-of-00005.tsv\n",
            "eval-00001-of-00005.tsv\n",
            "eval-00002-of-00005.tsv\n",
            "eval-00003-of-00005.tsv\n",
            "eval-00004-of-00005.tsv\n",
            "train-00000-of-00005.tsv\n",
            "train-00001-of-00005.tsv\n",
            "train-00002-of-00005.tsv\n",
            "train-00003-of-00005.tsv\n",
            "train-00004-of-00005.tsv\n",
            "\n",
            "5389942414472222661\tCSS Lint for Sass   Compass\tgithub\n",
            "3555256076754936657\tTimers in the Linux kernel  Part 2  Introduction to the clocksource framework\tgithub\n",
            "2429143081744891045\tSmagenBot   A simple personal Telegram bot plugins based\tgithub\n",
            "8242353800264701237\tAnimateTransition  Decorate the transition between the elements of your page\tgithub\n",
            "174718255633882733\tScraping Treasury.gov with Google Docs\tgithub\n",
            "3039872211726655957\tRethinkDB Database Abstraction Layer wrapper for django\tgithub\n",
            "7931700872535387346\tDocker LAMP with Remote Logging and Email Relay\tgithub\n",
            "8369303172849865757\tShow HN  Standalone pooled APNs app written in Golang\tgithub\n",
            "8747155353335210764\tCreating PDFs on Heroku\tgithub\n",
            "4828976667965450417\tShow HN  Run Your Node.js Express Apps from AWS API Gateway\tgithub\n"
          ]
        }
      ],
      "source": [
        "%%bash\n",
        "\n",
        "ls data/news\n",
        "echo \"\"\n",
        "head data/news/train-00000-of-00005.tsv"
      ]
    },
    {
      "cell_type": "markdown",
      "metadata": {
        "id": "8AB4mi6P46Ky"
      },
      "source": [
        "## Modelo de classificação de texto TF com TF Hub para codificação de texto"
      ]
    },
    {
      "cell_type": "markdown",
      "metadata": {
        "id": "nOHXd1fn46Ky"
      },
      "source": [
        "### 1. Definir metadados e função de entrada"
      ]
    },
    {
      "cell_type": "code",
      "execution_count": null,
      "metadata": {
        "id": "IKRCQ0dZ46Kz",
        "outputId": "ff149130-50a3-41ae-bbcb-0f4447be0a7b"
      },
      "outputs": [
        {
          "name": "stdout",
          "output_type": "stream",
          "text": [
            "1.7.0\n"
          ]
        }
      ],
      "source": [
        "import tensorflow as tf\n",
        "from tensorflow import data\n",
        "print tf.__version__"
      ]
    },
    {
      "cell_type": "code",
      "execution_count": null,
      "metadata": {
        "id": "y5-J9fAH46Kz"
      },
      "outputs": [],
      "source": [
        "RAW_HEADER = 'key,title,source'.split(',')\n",
        "RAW_DEFAULTS = [['NA'],['NA'],['NA']]\n",
        "TARGET_FEATRUE_NAME = 'source'\n",
        "TARGET_LABELS = ['github', 'nytimes', 'techcrunch']\n",
        "TEXT_FEATURE_NAME = 'title'\n",
        "KEY_COLUMN = 'key'\n",
        "\n",
        "def parse_tsv(tsv_row):\n",
        "    \n",
        "    columns = tf.decode_csv(tsv_row, record_defaults=RAW_DEFAULTS, field_delim='\\t')\n",
        "    features = dict(zip(RAW_HEADER, columns))\n",
        "    \n",
        "    features.pop(KEY_COLUMN)\n",
        "    target = features.pop(TARGET_FEATRUE_NAME)\n",
        "    \n",
        "    return features, target\n",
        "\n",
        "\n",
        "def generate_tsv_input_fn(files_pattern, \n",
        "                          mode=tf.estimator.ModeKeys.EVAL, \n",
        "                          num_epochs=1, \n",
        "                          batch_size=200):\n",
        "    \n",
        "\n",
        "    def _input_fn():\n",
        "        \n",
        "        #file_names = data.Dataset.list_files(files_pattern)\n",
        "        file_names = tf.matching_files(files_pattern)\n",
        "\n",
        "        if Params.EAGER:\n",
        "            print file_names\n",
        "\n",
        "        dataset = data.TextLineDataset(file_names)\n",
        "\n",
        "        dataset = dataset.apply(\n",
        "                tf.contrib.data.shuffle_and_repeat(count=num_epochs,\n",
        "                                                   buffer_size=batch_size*2)\n",
        "        )\n",
        "\n",
        "        dataset = dataset.apply(\n",
        "                tf.contrib.data.map_and_batch(parse_tsv, \n",
        "                                              batch_size=batch_size, \n",
        "                                              num_parallel_batches=2)\n",
        "        )\n",
        "\n",
        "        datset = dataset.prefetch(batch_size)\n",
        "\n",
        "        if Params.EAGER:\n",
        "            return dataset\n",
        "\n",
        "        iterator = dataset.make_one_shot_iterator()\n",
        "        features, target = iterator.get_next()\n",
        "        return features, target\n",
        "    \n",
        "    return _input_fn"
      ]
    },
    {
      "cell_type": "markdown",
      "metadata": {
        "id": "07-sQY1H46K3"
      },
      "source": [
        "### 2. Criar Recursos"
      ]
    },
    {
      "cell_type": "code",
      "execution_count": null,
      "metadata": {
        "id": "-sLU9X9b46K9",
        "outputId": "070b4cd0-48d8-4202-e996-d408cd662f42"
      },
      "outputs": [
        {
          "name": "stdout",
          "output_type": "stream",
          "text": [
            "0.1.0\n"
          ]
        }
      ],
      "source": [
        "import tensorflow_hub as hub\n",
        "print hub.__version__"
      ]
    },
    {
      "cell_type": "code",
      "execution_count": null,
      "metadata": {
        "id": "A8vJHhJH46K-"
      },
      "outputs": [],
      "source": [
        "def create_feature_columns(hparams):\n",
        "    \n",
        "    title_embeding_column = hub.text_embedding_column(\n",
        "        \"title\", \"https://tfhub.dev/google/universal-sentence-encoder/1\",\n",
        "        trainable=hparams.trainable_embedding)\n",
        "    \n",
        "    feature_columns = [title_embeding_column]\n",
        "    \n",
        "    print \"feature columns: \\n {}\".format(feature_columns)\n",
        "    print \"\"\n",
        "    \n",
        "    return feature_columns\n",
        "    "
      ]
    },
    {
      "cell_type": "markdown",
      "metadata": {
        "id": "rhZ6M7MN46K_"
      },
      "source": [
        "### 3. Criar um modelo usando DNNClassifer"
      ]
    },
    {
      "cell_type": "code",
      "execution_count": null,
      "metadata": {
        "id": "hW-2eOiw46K_"
      },
      "outputs": [],
      "source": [
        "def create_estimator_hub(hparams, run_config):\n",
        "    \n",
        "    feature_columns = create_feature_columns(hparams)\n",
        "    \n",
        "    optimizer = tf.train.AdamOptimizer(learning_rate=hparams.learning_rate)\n",
        "    \n",
        "    estimator = tf.estimator.DNNClassifier(\n",
        "        feature_columns=feature_columns,\n",
        "        n_classes =len(TARGET_LABELS),\n",
        "        label_vocabulary=TARGET_LABELS,\n",
        "        hidden_units=hparams.hidden_units,\n",
        "        optimizer=optimizer,\n",
        "        config=run_config\n",
        "    )\n",
        "    \n",
        "    \n",
        "    return estimator"
      ]
    },
    {
      "cell_type": "markdown",
      "metadata": {
        "id": "572SHEhk46LA"
      },
      "source": [
        "### 4. Definir Experimento"
      ]
    },
    {
      "cell_type": "markdown",
      "metadata": {
        "id": "4wEaNqt-46LB"
      },
      "source": [
        "##### a) HParams e RunConfig"
      ]
    },
    {
      "cell_type": "code",
      "execution_count": null,
      "metadata": {
        "id": "1obOYKyf46LB",
        "outputId": "82d0588a-533b-4c41-ef4e-4b3ea4bb3238"
      },
      "outputs": [
        {
          "name": "stderr",
          "output_type": "stream",
          "text": [
            "WARNING:tensorflow:From /Users/khalidsalama/Technology/python-venvs/py27-venv/lib/python2.7/site-packages/tensorflow/contrib/learn/python/learn/datasets/base.py:198: retry (from tensorflow.contrib.learn.python.learn.datasets.base) is deprecated and will be removed in a future version.\n",
            "Instructions for updating:\n",
            "Use the retry module or similar alternatives.\n"
          ]
        },
        {
          "name": "stdout",
          "output_type": "stream",
          "text": [
            "[('batch_size', 1000), ('hidden_units', [256, 128]), ('learning_rate', 0.01), ('max_steps', 730), ('num_epochs', 10), ('trainable_embedding', False)]\n",
            "\n",
            "('Model Directory:', 'models/news/dnn_estimator_hub')\n",
            "('Dataset Size:', 73124)\n",
            "('Batch Size:', 1000)\n",
            "('Steps per Epoch:', 73)\n",
            "('Total Steps:', 730)\n"
          ]
        }
      ],
      "source": [
        "TRAIN_SIZE = 73124\n",
        "NUM_EPOCHS = 10\n",
        "BATCH_SIZE = 1000\n",
        "\n",
        "TOTAL_STEPS = (TRAIN_SIZE/BATCH_SIZE)*NUM_EPOCHS\n",
        "EVAL_EVERY_SEC = 60\n",
        "\n",
        "hparams  = tf.contrib.training.HParams(\n",
        "    num_epochs=NUM_EPOCHS,\n",
        "    batch_size=BATCH_SIZE,\n",
        "    trainable_embedding=False,\n",
        "    learning_rate=0.01,\n",
        "    hidden_units=[256, 128],\n",
        "    max_steps=TOTAL_STEPS\n",
        ")\n",
        "\n",
        "MODEL_NAME = 'dnn_estimator_hub' \n",
        "model_dir = os.path.join(Params.MODELS_DIR, MODEL_NAME)\n",
        "\n",
        "run_config = tf.estimator.RunConfig(\n",
        "    tf_random_seed=19830610,\n",
        "    log_step_count_steps=1000,\n",
        "    save_checkpoints_secs=EVAL_EVERY_SEC,\n",
        "    keep_checkpoint_max=1,\n",
        "    model_dir=model_dir\n",
        ")\n",
        "\n",
        "\n",
        "print(hparams)\n",
        "print(\"\")\n",
        "print(\"Model Directory:\", run_config.model_dir)\n",
        "print(\"Dataset Size:\", TRAIN_SIZE)\n",
        "print(\"Batch Size:\", BATCH_SIZE)\n",
        "print(\"Steps per Epoch:\",TRAIN_SIZE/BATCH_SIZE)\n",
        "print(\"Total Steps:\", TOTAL_STEPS)"
      ]
    },
    {
      "cell_type": "markdown",
      "metadata": {
        "id": "GZkIQ5vU46LC"
      },
      "source": [
        "##### b) Função de veiculação"
      ]
    },
    {
      "cell_type": "code",
      "execution_count": null,
      "metadata": {
        "id": "NLvZ-yZz46LD"
      },
      "outputs": [],
      "source": [
        "def generate_serving_input_fn():\n",
        "    \n",
        "    def _serving_fn():\n",
        "    \n",
        "        receiver_tensor = {\n",
        "          'title': tf.placeholder(dtype=tf.string, shape=[None])\n",
        "        }\n",
        "\n",
        "        return tf.estimator.export.ServingInputReceiver(\n",
        "            receiver_tensor, receiver_tensor)\n",
        "    \n",
        "    return _serving_fn"
      ]
    },
    {
      "cell_type": "markdown",
      "metadata": {
        "id": "mCZ9Z_TH46LD"
      },
      "source": [
        "##### c) TrainSpec & EvalSpec"
      ]
    },
    {
      "cell_type": "code",
      "execution_count": null,
      "metadata": {
        "id": "vVGJxsq246LE"
      },
      "outputs": [],
      "source": [
        "train_spec = tf.estimator.TrainSpec(\n",
        "    input_fn = generate_tsv_input_fn(\n",
        "        Params.RAW_TRAIN_DATA_FILE_PREFEX+\"*\",\n",
        "        mode = tf.estimator.ModeKeys.TRAIN,\n",
        "        num_epochs=hparams.num_epochs,\n",
        "        batch_size=hparams.batch_size\n",
        "    ),\n",
        "    max_steps=hparams.max_steps,\n",
        "    hooks=None\n",
        ")\n",
        "\n",
        "eval_spec = tf.estimator.EvalSpec(\n",
        "    input_fn = generate_tsv_input_fn(\n",
        "        Params.RAW_EVAL_DATA_FILE_PREFEX+\"*\",\n",
        "        mode=tf.estimator.ModeKeys.EVAL,\n",
        "        num_epochs=1,\n",
        "        batch_size=hparams.batch_size\n",
        "    ),\n",
        "    exporters=[tf.estimator.LatestExporter(\n",
        "        name=\"estimate\", # the name of the folder in which the model will be exported to under export\n",
        "        serving_input_receiver_fn=generate_serving_input_fn(),\n",
        "        exports_to_keep=1,\n",
        "        as_text=False)],\n",
        "    steps=None,\n",
        "    throttle_secs=EVAL_EVERY_SEC\n",
        ")"
      ]
    },
    {
      "cell_type": "markdown",
      "metadata": {
        "id": "9RqHcP6446LJ"
      },
      "source": [
        "### 5. Executar Experimento"
      ]
    },
    {
      "cell_type": "code",
      "execution_count": null,
      "metadata": {
        "id": "wpn_PSQQ46LL",
        "outputId": "f1a4fd71-ccd6-4475-dee9-50ea1b595fab"
      },
      "outputs": [
        {
          "name": "stderr",
          "output_type": "stream",
          "text": [
            "INFO:tensorflow:Using /var/folders/hp/gzm_7hs931v5kt53p6rywh5w00fqrl/T/tfhub_modules to cache modules.\n"
          ]
        },
        {
          "name": "stdout",
          "output_type": "stream",
          "text": [
            "Removing previous training artefacts...\n",
            "Experiment started at 10:13:25\n",
            ".......................................\n"
          ]
        },
        {
          "name": "stderr",
          "output_type": "stream",
          "text": [
            "INFO:tensorflow:Using config: {'_save_checkpoints_secs': 60, '_session_config': None, '_keep_checkpoint_max': 1, '_tf_random_seed': 19830610, '_task_type': 'worker', '_global_id_in_cluster': 0, '_is_chief': True, '_cluster_spec': <tensorflow.python.training.server_lib.ClusterSpec object at 0x10bf85e90>, '_model_dir': 'models/news/dnn_estimator_hub', '_num_worker_replicas': 1, '_task_id': 0, '_log_step_count_steps': 1000, '_master': '', '_save_checkpoints_steps': None, '_keep_checkpoint_every_n_hours': 10000, '_evaluation_master': '', '_service': None, '_save_summary_steps': 100, '_num_ps_replicas': 0}\n",
            "INFO:tensorflow:Running training and evaluation locally (non-distributed).\n",
            "INFO:tensorflow:Start train and evaluate loop. The evaluate will happen after 60 secs (eval_spec.throttle_secs) or training is finished.\n",
            "INFO:tensorflow:Calling model_fn.\n"
          ]
        },
        {
          "name": "stdout",
          "output_type": "stream",
          "text": [
            "feature columns: \n",
            " [_ModuleEmbeddingColumn(key='title', module_spec=<tensorflow_hub.native_module._ModuleSpec object at 0x10a5dac90>, trainable=False)]\n",
            "\n"
          ]
        },
        {
          "name": "stderr",
          "output_type": "stream",
          "text": [
            "INFO:tensorflow:Initialize variable dnn/input_from_feature_columns/input_layer/title_hub_module_embedding/module/Embeddings_en/sharded_0:0 from checkpoint /var/folders/hp/gzm_7hs931v5kt53p6rywh5w00fqrl/T/tfhub_modules/c6f5954ffa065cdb2f2e604e740e8838bf21a2d3/variables/variables with Embeddings_en/sharded_0\n",
            "INFO:tensorflow:Initialize variable dnn/input_from_feature_columns/input_layer/title_hub_module_embedding/module/Embeddings_en/sharded_1:0 from checkpoint /var/folders/hp/gzm_7hs931v5kt53p6rywh5w00fqrl/T/tfhub_modules/c6f5954ffa065cdb2f2e604e740e8838bf21a2d3/variables/variables with Embeddings_en/sharded_1\n",
            "INFO:tensorflow:Initialize variable dnn/input_from_feature_columns/input_layer/title_hub_module_embedding/module/Embeddings_en/sharded_10:0 from checkpoint /var/folders/hp/gzm_7hs931v5kt53p6rywh5w00fqrl/T/tfhub_modules/c6f5954ffa065cdb2f2e604e740e8838bf21a2d3/variables/variables with Embeddings_en/sharded_10\n",
            "INFO:tensorflow:Initialize variable dnn/input_from_feature_columns/input_layer/title_hub_module_embedding/module/Embeddings_en/sharded_11:0 from checkpoint /var/folders/hp/gzm_7hs931v5kt53p6rywh5w00fqrl/T/tfhub_modules/c6f5954ffa065cdb2f2e604e740e8838bf21a2d3/variables/variables with Embeddings_en/sharded_11\n",
            "INFO:tensorflow:Initialize variable dnn/input_from_feature_columns/input_layer/title_hub_module_embedding/module/Embeddings_en/sharded_12:0 from checkpoint /var/folders/hp/gzm_7hs931v5kt53p6rywh5w00fqrl/T/tfhub_modules/c6f5954ffa065cdb2f2e604e740e8838bf21a2d3/variables/variables with Embeddings_en/sharded_12\n",
            "INFO:tensorflow:Initialize variable dnn/input_from_feature_columns/input_layer/title_hub_module_embedding/module/Embeddings_en/sharded_13:0 from checkpoint /var/folders/hp/gzm_7hs931v5kt53p6rywh5w00fqrl/T/tfhub_modules/c6f5954ffa065cdb2f2e604e740e8838bf21a2d3/variables/variables with Embeddings_en/sharded_13\n",
            "INFO:tensorflow:Initialize variable dnn/input_from_feature_columns/input_layer/title_hub_module_embedding/module/Embeddings_en/sharded_14:0 from checkpoint /var/folders/hp/gzm_7hs931v5kt53p6rywh5w00fqrl/T/tfhub_modules/c6f5954ffa065cdb2f2e604e740e8838bf21a2d3/variables/variables with Embeddings_en/sharded_14\n",
            "INFO:tensorflow:Initialize variable dnn/input_from_feature_columns/input_layer/title_hub_module_embedding/module/Embeddings_en/sharded_15:0 from checkpoint /var/folders/hp/gzm_7hs931v5kt53p6rywh5w00fqrl/T/tfhub_modules/c6f5954ffa065cdb2f2e604e740e8838bf21a2d3/variables/variables with Embeddings_en/sharded_15\n",
            "INFO:tensorflow:Initialize variable dnn/input_from_feature_columns/input_layer/title_hub_module_embedding/module/Embeddings_en/sharded_16:0 from checkpoint /var/folders/hp/gzm_7hs931v5kt53p6rywh5w00fqrl/T/tfhub_modules/c6f5954ffa065cdb2f2e604e740e8838bf21a2d3/variables/variables with Embeddings_en/sharded_16\n",
            "INFO:tensorflow:Initialize variable dnn/input_from_feature_columns/input_layer/title_hub_module_embedding/module/Embeddings_en/sharded_2:0 from checkpoint /var/folders/hp/gzm_7hs931v5kt53p6rywh5w00fqrl/T/tfhub_modules/c6f5954ffa065cdb2f2e604e740e8838bf21a2d3/variables/variables with Embeddings_en/sharded_2\n",
            "INFO:tensorflow:Initialize variable dnn/input_from_feature_columns/input_layer/title_hub_module_embedding/module/Embeddings_en/sharded_3:0 from checkpoint /var/folders/hp/gzm_7hs931v5kt53p6rywh5w00fqrl/T/tfhub_modules/c6f5954ffa065cdb2f2e604e740e8838bf21a2d3/variables/variables with Embeddings_en/sharded_3\n",
            "INFO:tensorflow:Initialize variable dnn/input_from_feature_columns/input_layer/title_hub_module_embedding/module/Embeddings_en/sharded_4:0 from checkpoint /var/folders/hp/gzm_7hs931v5kt53p6rywh5w00fqrl/T/tfhub_modules/c6f5954ffa065cdb2f2e604e740e8838bf21a2d3/variables/variables with Embeddings_en/sharded_4\n",
            "INFO:tensorflow:Initialize variable dnn/input_from_feature_columns/input_layer/title_hub_module_embedding/module/Embeddings_en/sharded_5:0 from checkpoint /var/folders/hp/gzm_7hs931v5kt53p6rywh5w00fqrl/T/tfhub_modules/c6f5954ffa065cdb2f2e604e740e8838bf21a2d3/variables/variables with Embeddings_en/sharded_5\n",
            "INFO:tensorflow:Initialize variable dnn/input_from_feature_columns/input_layer/title_hub_module_embedding/module/Embeddings_en/sharded_6:0 from checkpoint /var/folders/hp/gzm_7hs931v5kt53p6rywh5w00fqrl/T/tfhub_modules/c6f5954ffa065cdb2f2e604e740e8838bf21a2d3/variables/variables with Embeddings_en/sharded_6\n",
            "INFO:tensorflow:Initialize variable dnn/input_from_feature_columns/input_layer/title_hub_module_embedding/module/Embeddings_en/sharded_7:0 from checkpoint /var/folders/hp/gzm_7hs931v5kt53p6rywh5w00fqrl/T/tfhub_modules/c6f5954ffa065cdb2f2e604e740e8838bf21a2d3/variables/variables with Embeddings_en/sharded_7\n",
            "INFO:tensorflow:Initialize variable dnn/input_from_feature_columns/input_layer/title_hub_module_embedding/module/Embeddings_en/sharded_8:0 from checkpoint /var/folders/hp/gzm_7hs931v5kt53p6rywh5w00fqrl/T/tfhub_modules/c6f5954ffa065cdb2f2e604e740e8838bf21a2d3/variables/variables with Embeddings_en/sharded_8\n",
            "INFO:tensorflow:Initialize variable dnn/input_from_feature_columns/input_layer/title_hub_module_embedding/module/Embeddings_en/sharded_9:0 from checkpoint /var/folders/hp/gzm_7hs931v5kt53p6rywh5w00fqrl/T/tfhub_modules/c6f5954ffa065cdb2f2e604e740e8838bf21a2d3/variables/variables with Embeddings_en/sharded_9\n",
            "INFO:tensorflow:Initialize variable dnn/input_from_feature_columns/input_layer/title_hub_module_embedding/module/Encoder_en/DNN/ResidualHidden_0/weights:0 from checkpoint /var/folders/hp/gzm_7hs931v5kt53p6rywh5w00fqrl/T/tfhub_modules/c6f5954ffa065cdb2f2e604e740e8838bf21a2d3/variables/variables with Encoder_en/DNN/ResidualHidden_0/weights\n",
            "INFO:tensorflow:Initialize variable dnn/input_from_feature_columns/input_layer/title_hub_module_embedding/module/Encoder_en/DNN/ResidualHidden_1/weights:0 from checkpoint /var/folders/hp/gzm_7hs931v5kt53p6rywh5w00fqrl/T/tfhub_modules/c6f5954ffa065cdb2f2e604e740e8838bf21a2d3/variables/variables with Encoder_en/DNN/ResidualHidden_1/weights\n",
            "INFO:tensorflow:Initialize variable dnn/input_from_feature_columns/input_layer/title_hub_module_embedding/module/Encoder_en/DNN/ResidualHidden_2/weights:0 from checkpoint /var/folders/hp/gzm_7hs931v5kt53p6rywh5w00fqrl/T/tfhub_modules/c6f5954ffa065cdb2f2e604e740e8838bf21a2d3/variables/variables with Encoder_en/DNN/ResidualHidden_2/weights\n",
            "INFO:tensorflow:Initialize variable dnn/input_from_feature_columns/input_layer/title_hub_module_embedding/module/Encoder_en/DNN/ResidualHidden_3/projection:0 from checkpoint /var/folders/hp/gzm_7hs931v5kt53p6rywh5w00fqrl/T/tfhub_modules/c6f5954ffa065cdb2f2e604e740e8838bf21a2d3/variables/variables with Encoder_en/DNN/ResidualHidden_3/projection\n",
            "INFO:tensorflow:Initialize variable dnn/input_from_feature_columns/input_layer/title_hub_module_embedding/module/Encoder_en/DNN/ResidualHidden_3/weights:0 from checkpoint /var/folders/hp/gzm_7hs931v5kt53p6rywh5w00fqrl/T/tfhub_modules/c6f5954ffa065cdb2f2e604e740e8838bf21a2d3/variables/variables with Encoder_en/DNN/ResidualHidden_3/weights\n",
            "INFO:tensorflow:Initialize variable dnn/input_from_feature_columns/input_layer/title_hub_module_embedding/module/SHARED_RANK_ANSWER/response_encoder_0/tanh_layer_0/bias:0 from checkpoint /var/folders/hp/gzm_7hs931v5kt53p6rywh5w00fqrl/T/tfhub_modules/c6f5954ffa065cdb2f2e604e740e8838bf21a2d3/variables/variables with SHARED_RANK_ANSWER/response_encoder_0/tanh_layer_0/bias\n",
            "INFO:tensorflow:Initialize variable dnn/input_from_feature_columns/input_layer/title_hub_module_embedding/module/SHARED_RANK_ANSWER/response_encoder_0/tanh_layer_0/weights:0 from checkpoint /var/folders/hp/gzm_7hs931v5kt53p6rywh5w00fqrl/T/tfhub_modules/c6f5954ffa065cdb2f2e604e740e8838bf21a2d3/variables/variables with SHARED_RANK_ANSWER/response_encoder_0/tanh_layer_0/weights\n",
            "INFO:tensorflow:Initialize variable dnn/input_from_feature_columns/input_layer/title_hub_module_embedding/module/SHARED_RANK_ANSWER/response_encoder_0/tanh_layer_1/bias:0 from checkpoint /var/folders/hp/gzm_7hs931v5kt53p6rywh5w00fqrl/T/tfhub_modules/c6f5954ffa065cdb2f2e604e740e8838bf21a2d3/variables/variables with SHARED_RANK_ANSWER/response_encoder_0/tanh_layer_1/bias\n",
            "INFO:tensorflow:Initialize variable dnn/input_from_feature_columns/input_layer/title_hub_module_embedding/module/SHARED_RANK_ANSWER/response_encoder_0/tanh_layer_1/weights:0 from checkpoint /var/folders/hp/gzm_7hs931v5kt53p6rywh5w00fqrl/T/tfhub_modules/c6f5954ffa065cdb2f2e604e740e8838bf21a2d3/variables/variables with SHARED_RANK_ANSWER/response_encoder_0/tanh_layer_1/weights\n"
          ]
        },
        {
          "name": "stderr",
          "output_type": "stream",
          "text": [
            "INFO:tensorflow:Initialize variable dnn/input_from_feature_columns/input_layer/title_hub_module_embedding/module/SHARED_RANK_ANSWER/response_encoder_0/tanh_layer_2/bias:0 from checkpoint /var/folders/hp/gzm_7hs931v5kt53p6rywh5w00fqrl/T/tfhub_modules/c6f5954ffa065cdb2f2e604e740e8838bf21a2d3/variables/variables with SHARED_RANK_ANSWER/response_encoder_0/tanh_layer_2/bias\n",
            "INFO:tensorflow:Initialize variable dnn/input_from_feature_columns/input_layer/title_hub_module_embedding/module/SHARED_RANK_ANSWER/response_encoder_0/tanh_layer_2/weights:0 from checkpoint /var/folders/hp/gzm_7hs931v5kt53p6rywh5w00fqrl/T/tfhub_modules/c6f5954ffa065cdb2f2e604e740e8838bf21a2d3/variables/variables with SHARED_RANK_ANSWER/response_encoder_0/tanh_layer_2/weights\n",
            "INFO:tensorflow:Initialize variable dnn/input_from_feature_columns/input_layer/title_hub_module_embedding/module/SNLI/Classifier/LinearLayer/bias:0 from checkpoint /var/folders/hp/gzm_7hs931v5kt53p6rywh5w00fqrl/T/tfhub_modules/c6f5954ffa065cdb2f2e604e740e8838bf21a2d3/variables/variables with SNLI/Classifier/LinearLayer/bias\n",
            "INFO:tensorflow:Initialize variable dnn/input_from_feature_columns/input_layer/title_hub_module_embedding/module/SNLI/Classifier/LinearLayer/weights:0 from checkpoint /var/folders/hp/gzm_7hs931v5kt53p6rywh5w00fqrl/T/tfhub_modules/c6f5954ffa065cdb2f2e604e740e8838bf21a2d3/variables/variables with SNLI/Classifier/LinearLayer/weights\n",
            "INFO:tensorflow:Initialize variable dnn/input_from_feature_columns/input_layer/title_hub_module_embedding/module/SNLI/Classifier/tanh_layer_0/bias:0 from checkpoint /var/folders/hp/gzm_7hs931v5kt53p6rywh5w00fqrl/T/tfhub_modules/c6f5954ffa065cdb2f2e604e740e8838bf21a2d3/variables/variables with SNLI/Classifier/tanh_layer_0/bias\n",
            "INFO:tensorflow:Initialize variable dnn/input_from_feature_columns/input_layer/title_hub_module_embedding/module/SNLI/Classifier/tanh_layer_0/weights:0 from checkpoint /var/folders/hp/gzm_7hs931v5kt53p6rywh5w00fqrl/T/tfhub_modules/c6f5954ffa065cdb2f2e604e740e8838bf21a2d3/variables/variables with SNLI/Classifier/tanh_layer_0/weights\n",
            "INFO:tensorflow:Initialize variable dnn/input_from_feature_columns/input_layer/title_hub_module_embedding/module/global_step:0 from checkpoint /var/folders/hp/gzm_7hs931v5kt53p6rywh5w00fqrl/T/tfhub_modules/c6f5954ffa065cdb2f2e604e740e8838bf21a2d3/variables/variables with global_step\n",
            "INFO:tensorflow:Done calling model_fn.\n",
            "INFO:tensorflow:Create CheckpointSaverHook.\n",
            "INFO:tensorflow:Graph was finalized.\n",
            "INFO:tensorflow:Running local_init_op.\n",
            "INFO:tensorflow:Done running local_init_op.\n",
            "INFO:tensorflow:Saving checkpoints for 1 into models/news/dnn_estimator_hub/model.ckpt.\n",
            "INFO:tensorflow:loss = 1113.0706, step = 1\n",
            "INFO:tensorflow:loss = 331.8048, step = 101 (11.346 sec)\n",
            "INFO:tensorflow:loss = 341.05798, step = 201 (12.077 sec)\n",
            "INFO:tensorflow:Saving checkpoints for 262 into models/news/dnn_estimator_hub/model.ckpt.\n",
            "INFO:tensorflow:Loss for final step: 304.42865.\n",
            "INFO:tensorflow:Calling model_fn.\n",
            "INFO:tensorflow:Initialize variable dnn/input_from_feature_columns/input_layer/title_hub_module_embedding/module/Embeddings_en/sharded_0:0 from checkpoint /var/folders/hp/gzm_7hs931v5kt53p6rywh5w00fqrl/T/tfhub_modules/c6f5954ffa065cdb2f2e604e740e8838bf21a2d3/variables/variables with Embeddings_en/sharded_0\n",
            "INFO:tensorflow:Initialize variable dnn/input_from_feature_columns/input_layer/title_hub_module_embedding/module/Embeddings_en/sharded_1:0 from checkpoint /var/folders/hp/gzm_7hs931v5kt53p6rywh5w00fqrl/T/tfhub_modules/c6f5954ffa065cdb2f2e604e740e8838bf21a2d3/variables/variables with Embeddings_en/sharded_1\n",
            "INFO:tensorflow:Initialize variable dnn/input_from_feature_columns/input_layer/title_hub_module_embedding/module/Embeddings_en/sharded_10:0 from checkpoint /var/folders/hp/gzm_7hs931v5kt53p6rywh5w00fqrl/T/tfhub_modules/c6f5954ffa065cdb2f2e604e740e8838bf21a2d3/variables/variables with Embeddings_en/sharded_10\n",
            "INFO:tensorflow:Initialize variable dnn/input_from_feature_columns/input_layer/title_hub_module_embedding/module/Embeddings_en/sharded_11:0 from checkpoint /var/folders/hp/gzm_7hs931v5kt53p6rywh5w00fqrl/T/tfhub_modules/c6f5954ffa065cdb2f2e604e740e8838bf21a2d3/variables/variables with Embeddings_en/sharded_11\n",
            "INFO:tensorflow:Initialize variable dnn/input_from_feature_columns/input_layer/title_hub_module_embedding/module/Embeddings_en/sharded_12:0 from checkpoint /var/folders/hp/gzm_7hs931v5kt53p6rywh5w00fqrl/T/tfhub_modules/c6f5954ffa065cdb2f2e604e740e8838bf21a2d3/variables/variables with Embeddings_en/sharded_12\n",
            "INFO:tensorflow:Initialize variable dnn/input_from_feature_columns/input_layer/title_hub_module_embedding/module/Embeddings_en/sharded_13:0 from checkpoint /var/folders/hp/gzm_7hs931v5kt53p6rywh5w00fqrl/T/tfhub_modules/c6f5954ffa065cdb2f2e604e740e8838bf21a2d3/variables/variables with Embeddings_en/sharded_13\n",
            "INFO:tensorflow:Initialize variable dnn/input_from_feature_columns/input_layer/title_hub_module_embedding/module/Embeddings_en/sharded_14:0 from checkpoint /var/folders/hp/gzm_7hs931v5kt53p6rywh5w00fqrl/T/tfhub_modules/c6f5954ffa065cdb2f2e604e740e8838bf21a2d3/variables/variables with Embeddings_en/sharded_14\n",
            "INFO:tensorflow:Initialize variable dnn/input_from_feature_columns/input_layer/title_hub_module_embedding/module/Embeddings_en/sharded_15:0 from checkpoint /var/folders/hp/gzm_7hs931v5kt53p6rywh5w00fqrl/T/tfhub_modules/c6f5954ffa065cdb2f2e604e740e8838bf21a2d3/variables/variables with Embeddings_en/sharded_15\n",
            "INFO:tensorflow:Initialize variable dnn/input_from_feature_columns/input_layer/title_hub_module_embedding/module/Embeddings_en/sharded_16:0 from checkpoint /var/folders/hp/gzm_7hs931v5kt53p6rywh5w00fqrl/T/tfhub_modules/c6f5954ffa065cdb2f2e604e740e8838bf21a2d3/variables/variables with Embeddings_en/sharded_16\n",
            "INFO:tensorflow:Initialize variable dnn/input_from_feature_columns/input_layer/title_hub_module_embedding/module/Embeddings_en/sharded_2:0 from checkpoint /var/folders/hp/gzm_7hs931v5kt53p6rywh5w00fqrl/T/tfhub_modules/c6f5954ffa065cdb2f2e604e740e8838bf21a2d3/variables/variables with Embeddings_en/sharded_2\n",
            "INFO:tensorflow:Initialize variable dnn/input_from_feature_columns/input_layer/title_hub_module_embedding/module/Embeddings_en/sharded_3:0 from checkpoint /var/folders/hp/gzm_7hs931v5kt53p6rywh5w00fqrl/T/tfhub_modules/c6f5954ffa065cdb2f2e604e740e8838bf21a2d3/variables/variables with Embeddings_en/sharded_3\n",
            "INFO:tensorflow:Initialize variable dnn/input_from_feature_columns/input_layer/title_hub_module_embedding/module/Embeddings_en/sharded_4:0 from checkpoint /var/folders/hp/gzm_7hs931v5kt53p6rywh5w00fqrl/T/tfhub_modules/c6f5954ffa065cdb2f2e604e740e8838bf21a2d3/variables/variables with Embeddings_en/sharded_4\n",
            "INFO:tensorflow:Initialize variable dnn/input_from_feature_columns/input_layer/title_hub_module_embedding/module/Embeddings_en/sharded_5:0 from checkpoint /var/folders/hp/gzm_7hs931v5kt53p6rywh5w00fqrl/T/tfhub_modules/c6f5954ffa065cdb2f2e604e740e8838bf21a2d3/variables/variables with Embeddings_en/sharded_5\n",
            "INFO:tensorflow:Initialize variable dnn/input_from_feature_columns/input_layer/title_hub_module_embedding/module/Embeddings_en/sharded_6:0 from checkpoint /var/folders/hp/gzm_7hs931v5kt53p6rywh5w00fqrl/T/tfhub_modules/c6f5954ffa065cdb2f2e604e740e8838bf21a2d3/variables/variables with Embeddings_en/sharded_6\n",
            "INFO:tensorflow:Initialize variable dnn/input_from_feature_columns/input_layer/title_hub_module_embedding/module/Embeddings_en/sharded_7:0 from checkpoint /var/folders/hp/gzm_7hs931v5kt53p6rywh5w00fqrl/T/tfhub_modules/c6f5954ffa065cdb2f2e604e740e8838bf21a2d3/variables/variables with Embeddings_en/sharded_7\n",
            "INFO:tensorflow:Initialize variable dnn/input_from_feature_columns/input_layer/title_hub_module_embedding/module/Embeddings_en/sharded_8:0 from checkpoint /var/folders/hp/gzm_7hs931v5kt53p6rywh5w00fqrl/T/tfhub_modules/c6f5954ffa065cdb2f2e604e740e8838bf21a2d3/variables/variables with Embeddings_en/sharded_8\n",
            "INFO:tensorflow:Initialize variable dnn/input_from_feature_columns/input_layer/title_hub_module_embedding/module/Embeddings_en/sharded_9:0 from checkpoint /var/folders/hp/gzm_7hs931v5kt53p6rywh5w00fqrl/T/tfhub_modules/c6f5954ffa065cdb2f2e604e740e8838bf21a2d3/variables/variables with Embeddings_en/sharded_9\n"
          ]
        },
        {
          "name": "stderr",
          "output_type": "stream",
          "text": [
            "INFO:tensorflow:Initialize variable dnn/input_from_feature_columns/input_layer/title_hub_module_embedding/module/Encoder_en/DNN/ResidualHidden_0/weights:0 from checkpoint /var/folders/hp/gzm_7hs931v5kt53p6rywh5w00fqrl/T/tfhub_modules/c6f5954ffa065cdb2f2e604e740e8838bf21a2d3/variables/variables with Encoder_en/DNN/ResidualHidden_0/weights\n",
            "INFO:tensorflow:Initialize variable dnn/input_from_feature_columns/input_layer/title_hub_module_embedding/module/Encoder_en/DNN/ResidualHidden_1/weights:0 from checkpoint /var/folders/hp/gzm_7hs931v5kt53p6rywh5w00fqrl/T/tfhub_modules/c6f5954ffa065cdb2f2e604e740e8838bf21a2d3/variables/variables with Encoder_en/DNN/ResidualHidden_1/weights\n",
            "INFO:tensorflow:Initialize variable dnn/input_from_feature_columns/input_layer/title_hub_module_embedding/module/Encoder_en/DNN/ResidualHidden_2/weights:0 from checkpoint /var/folders/hp/gzm_7hs931v5kt53p6rywh5w00fqrl/T/tfhub_modules/c6f5954ffa065cdb2f2e604e740e8838bf21a2d3/variables/variables with Encoder_en/DNN/ResidualHidden_2/weights\n",
            "INFO:tensorflow:Initialize variable dnn/input_from_feature_columns/input_layer/title_hub_module_embedding/module/Encoder_en/DNN/ResidualHidden_3/projection:0 from checkpoint /var/folders/hp/gzm_7hs931v5kt53p6rywh5w00fqrl/T/tfhub_modules/c6f5954ffa065cdb2f2e604e740e8838bf21a2d3/variables/variables with Encoder_en/DNN/ResidualHidden_3/projection\n",
            "INFO:tensorflow:Initialize variable dnn/input_from_feature_columns/input_layer/title_hub_module_embedding/module/Encoder_en/DNN/ResidualHidden_3/weights:0 from checkpoint /var/folders/hp/gzm_7hs931v5kt53p6rywh5w00fqrl/T/tfhub_modules/c6f5954ffa065cdb2f2e604e740e8838bf21a2d3/variables/variables with Encoder_en/DNN/ResidualHidden_3/weights\n",
            "INFO:tensorflow:Initialize variable dnn/input_from_feature_columns/input_layer/title_hub_module_embedding/module/SHARED_RANK_ANSWER/response_encoder_0/tanh_layer_0/bias:0 from checkpoint /var/folders/hp/gzm_7hs931v5kt53p6rywh5w00fqrl/T/tfhub_modules/c6f5954ffa065cdb2f2e604e740e8838bf21a2d3/variables/variables with SHARED_RANK_ANSWER/response_encoder_0/tanh_layer_0/bias\n",
            "INFO:tensorflow:Initialize variable dnn/input_from_feature_columns/input_layer/title_hub_module_embedding/module/SHARED_RANK_ANSWER/response_encoder_0/tanh_layer_0/weights:0 from checkpoint /var/folders/hp/gzm_7hs931v5kt53p6rywh5w00fqrl/T/tfhub_modules/c6f5954ffa065cdb2f2e604e740e8838bf21a2d3/variables/variables with SHARED_RANK_ANSWER/response_encoder_0/tanh_layer_0/weights\n",
            "INFO:tensorflow:Initialize variable dnn/input_from_feature_columns/input_layer/title_hub_module_embedding/module/SHARED_RANK_ANSWER/response_encoder_0/tanh_layer_1/bias:0 from checkpoint /var/folders/hp/gzm_7hs931v5kt53p6rywh5w00fqrl/T/tfhub_modules/c6f5954ffa065cdb2f2e604e740e8838bf21a2d3/variables/variables with SHARED_RANK_ANSWER/response_encoder_0/tanh_layer_1/bias\n",
            "INFO:tensorflow:Initialize variable dnn/input_from_feature_columns/input_layer/title_hub_module_embedding/module/SHARED_RANK_ANSWER/response_encoder_0/tanh_layer_1/weights:0 from checkpoint /var/folders/hp/gzm_7hs931v5kt53p6rywh5w00fqrl/T/tfhub_modules/c6f5954ffa065cdb2f2e604e740e8838bf21a2d3/variables/variables with SHARED_RANK_ANSWER/response_encoder_0/tanh_layer_1/weights\n",
            "INFO:tensorflow:Initialize variable dnn/input_from_feature_columns/input_layer/title_hub_module_embedding/module/SHARED_RANK_ANSWER/response_encoder_0/tanh_layer_2/bias:0 from checkpoint /var/folders/hp/gzm_7hs931v5kt53p6rywh5w00fqrl/T/tfhub_modules/c6f5954ffa065cdb2f2e604e740e8838bf21a2d3/variables/variables with SHARED_RANK_ANSWER/response_encoder_0/tanh_layer_2/bias\n",
            "INFO:tensorflow:Initialize variable dnn/input_from_feature_columns/input_layer/title_hub_module_embedding/module/SHARED_RANK_ANSWER/response_encoder_0/tanh_layer_2/weights:0 from checkpoint /var/folders/hp/gzm_7hs931v5kt53p6rywh5w00fqrl/T/tfhub_modules/c6f5954ffa065cdb2f2e604e740e8838bf21a2d3/variables/variables with SHARED_RANK_ANSWER/response_encoder_0/tanh_layer_2/weights\n",
            "INFO:tensorflow:Initialize variable dnn/input_from_feature_columns/input_layer/title_hub_module_embedding/module/SNLI/Classifier/LinearLayer/bias:0 from checkpoint /var/folders/hp/gzm_7hs931v5kt53p6rywh5w00fqrl/T/tfhub_modules/c6f5954ffa065cdb2f2e604e740e8838bf21a2d3/variables/variables with SNLI/Classifier/LinearLayer/bias\n",
            "INFO:tensorflow:Initialize variable dnn/input_from_feature_columns/input_layer/title_hub_module_embedding/module/SNLI/Classifier/LinearLayer/weights:0 from checkpoint /var/folders/hp/gzm_7hs931v5kt53p6rywh5w00fqrl/T/tfhub_modules/c6f5954ffa065cdb2f2e604e740e8838bf21a2d3/variables/variables with SNLI/Classifier/LinearLayer/weights\n",
            "INFO:tensorflow:Initialize variable dnn/input_from_feature_columns/input_layer/title_hub_module_embedding/module/SNLI/Classifier/tanh_layer_0/bias:0 from checkpoint /var/folders/hp/gzm_7hs931v5kt53p6rywh5w00fqrl/T/tfhub_modules/c6f5954ffa065cdb2f2e604e740e8838bf21a2d3/variables/variables with SNLI/Classifier/tanh_layer_0/bias\n",
            "INFO:tensorflow:Initialize variable dnn/input_from_feature_columns/input_layer/title_hub_module_embedding/module/SNLI/Classifier/tanh_layer_0/weights:0 from checkpoint /var/folders/hp/gzm_7hs931v5kt53p6rywh5w00fqrl/T/tfhub_modules/c6f5954ffa065cdb2f2e604e740e8838bf21a2d3/variables/variables with SNLI/Classifier/tanh_layer_0/weights\n",
            "INFO:tensorflow:Initialize variable dnn/input_from_feature_columns/input_layer/title_hub_module_embedding/module/global_step:0 from checkpoint /var/folders/hp/gzm_7hs931v5kt53p6rywh5w00fqrl/T/tfhub_modules/c6f5954ffa065cdb2f2e604e740e8838bf21a2d3/variables/variables with global_step\n",
            "INFO:tensorflow:Done calling model_fn.\n",
            "INFO:tensorflow:Starting evaluation at 2018-05-14-10:14:44\n",
            "INFO:tensorflow:Graph was finalized.\n",
            "INFO:tensorflow:Restoring parameters from models/news/dnn_estimator_hub/model.ckpt-262\n",
            "INFO:tensorflow:Running local_init_op.\n",
            "INFO:tensorflow:Done running local_init_op.\n",
            "INFO:tensorflow:Finished evaluation at 2018-05-14-10:14:57\n",
            "INFO:tensorflow:Saving dict for global step 262: accuracy = 0.8035877, average_loss = 0.45759302, global_step = 262, loss = 440.03287\n",
            "INFO:tensorflow:Calling model_fn.\n",
            "INFO:tensorflow:Initialize variable dnn/input_from_feature_columns/input_layer/title_hub_module_embedding/module/Embeddings_en/sharded_0:0 from checkpoint /var/folders/hp/gzm_7hs931v5kt53p6rywh5w00fqrl/T/tfhub_modules/c6f5954ffa065cdb2f2e604e740e8838bf21a2d3/variables/variables with Embeddings_en/sharded_0\n",
            "INFO:tensorflow:Initialize variable dnn/input_from_feature_columns/input_layer/title_hub_module_embedding/module/Embeddings_en/sharded_1:0 from checkpoint /var/folders/hp/gzm_7hs931v5kt53p6rywh5w00fqrl/T/tfhub_modules/c6f5954ffa065cdb2f2e604e740e8838bf21a2d3/variables/variables with Embeddings_en/sharded_1\n",
            "INFO:tensorflow:Initialize variable dnn/input_from_feature_columns/input_layer/title_hub_module_embedding/module/Embeddings_en/sharded_10:0 from checkpoint /var/folders/hp/gzm_7hs931v5kt53p6rywh5w00fqrl/T/tfhub_modules/c6f5954ffa065cdb2f2e604e740e8838bf21a2d3/variables/variables with Embeddings_en/sharded_10\n",
            "INFO:tensorflow:Initialize variable dnn/input_from_feature_columns/input_layer/title_hub_module_embedding/module/Embeddings_en/sharded_11:0 from checkpoint /var/folders/hp/gzm_7hs931v5kt53p6rywh5w00fqrl/T/tfhub_modules/c6f5954ffa065cdb2f2e604e740e8838bf21a2d3/variables/variables with Embeddings_en/sharded_11\n",
            "INFO:tensorflow:Initialize variable dnn/input_from_feature_columns/input_layer/title_hub_module_embedding/module/Embeddings_en/sharded_12:0 from checkpoint /var/folders/hp/gzm_7hs931v5kt53p6rywh5w00fqrl/T/tfhub_modules/c6f5954ffa065cdb2f2e604e740e8838bf21a2d3/variables/variables with Embeddings_en/sharded_12\n",
            "INFO:tensorflow:Initialize variable dnn/input_from_feature_columns/input_layer/title_hub_module_embedding/module/Embeddings_en/sharded_13:0 from checkpoint /var/folders/hp/gzm_7hs931v5kt53p6rywh5w00fqrl/T/tfhub_modules/c6f5954ffa065cdb2f2e604e740e8838bf21a2d3/variables/variables with Embeddings_en/sharded_13\n",
            "INFO:tensorflow:Initialize variable dnn/input_from_feature_columns/input_layer/title_hub_module_embedding/module/Embeddings_en/sharded_14:0 from checkpoint /var/folders/hp/gzm_7hs931v5kt53p6rywh5w00fqrl/T/tfhub_modules/c6f5954ffa065cdb2f2e604e740e8838bf21a2d3/variables/variables with Embeddings_en/sharded_14\n"
          ]
        },
        {
          "name": "stderr",
          "output_type": "stream",
          "text": [
            "INFO:tensorflow:Initialize variable dnn/input_from_feature_columns/input_layer/title_hub_module_embedding/module/Embeddings_en/sharded_15:0 from checkpoint /var/folders/hp/gzm_7hs931v5kt53p6rywh5w00fqrl/T/tfhub_modules/c6f5954ffa065cdb2f2e604e740e8838bf21a2d3/variables/variables with Embeddings_en/sharded_15\n",
            "INFO:tensorflow:Initialize variable dnn/input_from_feature_columns/input_layer/title_hub_module_embedding/module/Embeddings_en/sharded_16:0 from checkpoint /var/folders/hp/gzm_7hs931v5kt53p6rywh5w00fqrl/T/tfhub_modules/c6f5954ffa065cdb2f2e604e740e8838bf21a2d3/variables/variables with Embeddings_en/sharded_16\n",
            "INFO:tensorflow:Initialize variable dnn/input_from_feature_columns/input_layer/title_hub_module_embedding/module/Embeddings_en/sharded_2:0 from checkpoint /var/folders/hp/gzm_7hs931v5kt53p6rywh5w00fqrl/T/tfhub_modules/c6f5954ffa065cdb2f2e604e740e8838bf21a2d3/variables/variables with Embeddings_en/sharded_2\n",
            "INFO:tensorflow:Initialize variable dnn/input_from_feature_columns/input_layer/title_hub_module_embedding/module/Embeddings_en/sharded_3:0 from checkpoint /var/folders/hp/gzm_7hs931v5kt53p6rywh5w00fqrl/T/tfhub_modules/c6f5954ffa065cdb2f2e604e740e8838bf21a2d3/variables/variables with Embeddings_en/sharded_3\n",
            "INFO:tensorflow:Initialize variable dnn/input_from_feature_columns/input_layer/title_hub_module_embedding/module/Embeddings_en/sharded_4:0 from checkpoint /var/folders/hp/gzm_7hs931v5kt53p6rywh5w00fqrl/T/tfhub_modules/c6f5954ffa065cdb2f2e604e740e8838bf21a2d3/variables/variables with Embeddings_en/sharded_4\n",
            "INFO:tensorflow:Initialize variable dnn/input_from_feature_columns/input_layer/title_hub_module_embedding/module/Embeddings_en/sharded_5:0 from checkpoint /var/folders/hp/gzm_7hs931v5kt53p6rywh5w00fqrl/T/tfhub_modules/c6f5954ffa065cdb2f2e604e740e8838bf21a2d3/variables/variables with Embeddings_en/sharded_5\n",
            "INFO:tensorflow:Initialize variable dnn/input_from_feature_columns/input_layer/title_hub_module_embedding/module/Embeddings_en/sharded_6:0 from checkpoint /var/folders/hp/gzm_7hs931v5kt53p6rywh5w00fqrl/T/tfhub_modules/c6f5954ffa065cdb2f2e604e740e8838bf21a2d3/variables/variables with Embeddings_en/sharded_6\n",
            "INFO:tensorflow:Initialize variable dnn/input_from_feature_columns/input_layer/title_hub_module_embedding/module/Embeddings_en/sharded_7:0 from checkpoint /var/folders/hp/gzm_7hs931v5kt53p6rywh5w00fqrl/T/tfhub_modules/c6f5954ffa065cdb2f2e604e740e8838bf21a2d3/variables/variables with Embeddings_en/sharded_7\n",
            "INFO:tensorflow:Initialize variable dnn/input_from_feature_columns/input_layer/title_hub_module_embedding/module/Embeddings_en/sharded_8:0 from checkpoint /var/folders/hp/gzm_7hs931v5kt53p6rywh5w00fqrl/T/tfhub_modules/c6f5954ffa065cdb2f2e604e740e8838bf21a2d3/variables/variables with Embeddings_en/sharded_8\n",
            "INFO:tensorflow:Initialize variable dnn/input_from_feature_columns/input_layer/title_hub_module_embedding/module/Embeddings_en/sharded_9:0 from checkpoint /var/folders/hp/gzm_7hs931v5kt53p6rywh5w00fqrl/T/tfhub_modules/c6f5954ffa065cdb2f2e604e740e8838bf21a2d3/variables/variables with Embeddings_en/sharded_9\n",
            "INFO:tensorflow:Initialize variable dnn/input_from_feature_columns/input_layer/title_hub_module_embedding/module/Encoder_en/DNN/ResidualHidden_0/weights:0 from checkpoint /var/folders/hp/gzm_7hs931v5kt53p6rywh5w00fqrl/T/tfhub_modules/c6f5954ffa065cdb2f2e604e740e8838bf21a2d3/variables/variables with Encoder_en/DNN/ResidualHidden_0/weights\n",
            "INFO:tensorflow:Initialize variable dnn/input_from_feature_columns/input_layer/title_hub_module_embedding/module/Encoder_en/DNN/ResidualHidden_1/weights:0 from checkpoint /var/folders/hp/gzm_7hs931v5kt53p6rywh5w00fqrl/T/tfhub_modules/c6f5954ffa065cdb2f2e604e740e8838bf21a2d3/variables/variables with Encoder_en/DNN/ResidualHidden_1/weights\n",
            "INFO:tensorflow:Initialize variable dnn/input_from_feature_columns/input_layer/title_hub_module_embedding/module/Encoder_en/DNN/ResidualHidden_2/weights:0 from checkpoint /var/folders/hp/gzm_7hs931v5kt53p6rywh5w00fqrl/T/tfhub_modules/c6f5954ffa065cdb2f2e604e740e8838bf21a2d3/variables/variables with Encoder_en/DNN/ResidualHidden_2/weights\n",
            "INFO:tensorflow:Initialize variable dnn/input_from_feature_columns/input_layer/title_hub_module_embedding/module/Encoder_en/DNN/ResidualHidden_3/projection:0 from checkpoint /var/folders/hp/gzm_7hs931v5kt53p6rywh5w00fqrl/T/tfhub_modules/c6f5954ffa065cdb2f2e604e740e8838bf21a2d3/variables/variables with Encoder_en/DNN/ResidualHidden_3/projection\n",
            "INFO:tensorflow:Initialize variable dnn/input_from_feature_columns/input_layer/title_hub_module_embedding/module/Encoder_en/DNN/ResidualHidden_3/weights:0 from checkpoint /var/folders/hp/gzm_7hs931v5kt53p6rywh5w00fqrl/T/tfhub_modules/c6f5954ffa065cdb2f2e604e740e8838bf21a2d3/variables/variables with Encoder_en/DNN/ResidualHidden_3/weights\n",
            "INFO:tensorflow:Initialize variable dnn/input_from_feature_columns/input_layer/title_hub_module_embedding/module/SHARED_RANK_ANSWER/response_encoder_0/tanh_layer_0/bias:0 from checkpoint /var/folders/hp/gzm_7hs931v5kt53p6rywh5w00fqrl/T/tfhub_modules/c6f5954ffa065cdb2f2e604e740e8838bf21a2d3/variables/variables with SHARED_RANK_ANSWER/response_encoder_0/tanh_layer_0/bias\n",
            "INFO:tensorflow:Initialize variable dnn/input_from_feature_columns/input_layer/title_hub_module_embedding/module/SHARED_RANK_ANSWER/response_encoder_0/tanh_layer_0/weights:0 from checkpoint /var/folders/hp/gzm_7hs931v5kt53p6rywh5w00fqrl/T/tfhub_modules/c6f5954ffa065cdb2f2e604e740e8838bf21a2d3/variables/variables with SHARED_RANK_ANSWER/response_encoder_0/tanh_layer_0/weights\n",
            "INFO:tensorflow:Initialize variable dnn/input_from_feature_columns/input_layer/title_hub_module_embedding/module/SHARED_RANK_ANSWER/response_encoder_0/tanh_layer_1/bias:0 from checkpoint /var/folders/hp/gzm_7hs931v5kt53p6rywh5w00fqrl/T/tfhub_modules/c6f5954ffa065cdb2f2e604e740e8838bf21a2d3/variables/variables with SHARED_RANK_ANSWER/response_encoder_0/tanh_layer_1/bias\n",
            "INFO:tensorflow:Initialize variable dnn/input_from_feature_columns/input_layer/title_hub_module_embedding/module/SHARED_RANK_ANSWER/response_encoder_0/tanh_layer_1/weights:0 from checkpoint /var/folders/hp/gzm_7hs931v5kt53p6rywh5w00fqrl/T/tfhub_modules/c6f5954ffa065cdb2f2e604e740e8838bf21a2d3/variables/variables with SHARED_RANK_ANSWER/response_encoder_0/tanh_layer_1/weights\n",
            "INFO:tensorflow:Initialize variable dnn/input_from_feature_columns/input_layer/title_hub_module_embedding/module/SHARED_RANK_ANSWER/response_encoder_0/tanh_layer_2/bias:0 from checkpoint /var/folders/hp/gzm_7hs931v5kt53p6rywh5w00fqrl/T/tfhub_modules/c6f5954ffa065cdb2f2e604e740e8838bf21a2d3/variables/variables with SHARED_RANK_ANSWER/response_encoder_0/tanh_layer_2/bias\n",
            "INFO:tensorflow:Initialize variable dnn/input_from_feature_columns/input_layer/title_hub_module_embedding/module/SHARED_RANK_ANSWER/response_encoder_0/tanh_layer_2/weights:0 from checkpoint /var/folders/hp/gzm_7hs931v5kt53p6rywh5w00fqrl/T/tfhub_modules/c6f5954ffa065cdb2f2e604e740e8838bf21a2d3/variables/variables with SHARED_RANK_ANSWER/response_encoder_0/tanh_layer_2/weights\n",
            "INFO:tensorflow:Initialize variable dnn/input_from_feature_columns/input_layer/title_hub_module_embedding/module/SNLI/Classifier/LinearLayer/bias:0 from checkpoint /var/folders/hp/gzm_7hs931v5kt53p6rywh5w00fqrl/T/tfhub_modules/c6f5954ffa065cdb2f2e604e740e8838bf21a2d3/variables/variables with SNLI/Classifier/LinearLayer/bias\n",
            "INFO:tensorflow:Initialize variable dnn/input_from_feature_columns/input_layer/title_hub_module_embedding/module/SNLI/Classifier/LinearLayer/weights:0 from checkpoint /var/folders/hp/gzm_7hs931v5kt53p6rywh5w00fqrl/T/tfhub_modules/c6f5954ffa065cdb2f2e604e740e8838bf21a2d3/variables/variables with SNLI/Classifier/LinearLayer/weights\n",
            "INFO:tensorflow:Initialize variable dnn/input_from_feature_columns/input_layer/title_hub_module_embedding/module/SNLI/Classifier/tanh_layer_0/bias:0 from checkpoint /var/folders/hp/gzm_7hs931v5kt53p6rywh5w00fqrl/T/tfhub_modules/c6f5954ffa065cdb2f2e604e740e8838bf21a2d3/variables/variables with SNLI/Classifier/tanh_layer_0/bias\n",
            "INFO:tensorflow:Initialize variable dnn/input_from_feature_columns/input_layer/title_hub_module_embedding/module/SNLI/Classifier/tanh_layer_0/weights:0 from checkpoint /var/folders/hp/gzm_7hs931v5kt53p6rywh5w00fqrl/T/tfhub_modules/c6f5954ffa065cdb2f2e604e740e8838bf21a2d3/variables/variables with SNLI/Classifier/tanh_layer_0/weights\n"
          ]
        },
        {
          "name": "stderr",
          "output_type": "stream",
          "text": [
            "INFO:tensorflow:Initialize variable dnn/input_from_feature_columns/input_layer/title_hub_module_embedding/module/global_step:0 from checkpoint /var/folders/hp/gzm_7hs931v5kt53p6rywh5w00fqrl/T/tfhub_modules/c6f5954ffa065cdb2f2e604e740e8838bf21a2d3/variables/variables with global_step\n",
            "INFO:tensorflow:Done calling model_fn.\n",
            "INFO:tensorflow:Signatures INCLUDED in export for Classify: ['serving_default', 'classification']\n",
            "INFO:tensorflow:Signatures INCLUDED in export for Regress: None\n",
            "INFO:tensorflow:Signatures INCLUDED in export for Predict: ['predict']\n",
            "INFO:tensorflow:Restoring parameters from models/news/dnn_estimator_hub/model.ckpt-262\n",
            "INFO:tensorflow:Assets added to graph.\n",
            "INFO:tensorflow:No assets to write.\n",
            "INFO:tensorflow:SavedModel written to: models/news/dnn_estimator_hub/export/estimate/temp-1526292907/saved_model.pb\n",
            "INFO:tensorflow:Calling model_fn.\n",
            "INFO:tensorflow:Initialize variable dnn/input_from_feature_columns/input_layer/title_hub_module_embedding/module/Embeddings_en/sharded_0:0 from checkpoint /var/folders/hp/gzm_7hs931v5kt53p6rywh5w00fqrl/T/tfhub_modules/c6f5954ffa065cdb2f2e604e740e8838bf21a2d3/variables/variables with Embeddings_en/sharded_0\n",
            "INFO:tensorflow:Initialize variable dnn/input_from_feature_columns/input_layer/title_hub_module_embedding/module/Embeddings_en/sharded_1:0 from checkpoint /var/folders/hp/gzm_7hs931v5kt53p6rywh5w00fqrl/T/tfhub_modules/c6f5954ffa065cdb2f2e604e740e8838bf21a2d3/variables/variables with Embeddings_en/sharded_1\n",
            "INFO:tensorflow:Initialize variable dnn/input_from_feature_columns/input_layer/title_hub_module_embedding/module/Embeddings_en/sharded_10:0 from checkpoint /var/folders/hp/gzm_7hs931v5kt53p6rywh5w00fqrl/T/tfhub_modules/c6f5954ffa065cdb2f2e604e740e8838bf21a2d3/variables/variables with Embeddings_en/sharded_10\n",
            "INFO:tensorflow:Initialize variable dnn/input_from_feature_columns/input_layer/title_hub_module_embedding/module/Embeddings_en/sharded_11:0 from checkpoint /var/folders/hp/gzm_7hs931v5kt53p6rywh5w00fqrl/T/tfhub_modules/c6f5954ffa065cdb2f2e604e740e8838bf21a2d3/variables/variables with Embeddings_en/sharded_11\n",
            "INFO:tensorflow:Initialize variable dnn/input_from_feature_columns/input_layer/title_hub_module_embedding/module/Embeddings_en/sharded_12:0 from checkpoint /var/folders/hp/gzm_7hs931v5kt53p6rywh5w00fqrl/T/tfhub_modules/c6f5954ffa065cdb2f2e604e740e8838bf21a2d3/variables/variables with Embeddings_en/sharded_12\n",
            "INFO:tensorflow:Initialize variable dnn/input_from_feature_columns/input_layer/title_hub_module_embedding/module/Embeddings_en/sharded_13:0 from checkpoint /var/folders/hp/gzm_7hs931v5kt53p6rywh5w00fqrl/T/tfhub_modules/c6f5954ffa065cdb2f2e604e740e8838bf21a2d3/variables/variables with Embeddings_en/sharded_13\n",
            "INFO:tensorflow:Initialize variable dnn/input_from_feature_columns/input_layer/title_hub_module_embedding/module/Embeddings_en/sharded_14:0 from checkpoint /var/folders/hp/gzm_7hs931v5kt53p6rywh5w00fqrl/T/tfhub_modules/c6f5954ffa065cdb2f2e604e740e8838bf21a2d3/variables/variables with Embeddings_en/sharded_14\n",
            "INFO:tensorflow:Initialize variable dnn/input_from_feature_columns/input_layer/title_hub_module_embedding/module/Embeddings_en/sharded_15:0 from checkpoint /var/folders/hp/gzm_7hs931v5kt53p6rywh5w00fqrl/T/tfhub_modules/c6f5954ffa065cdb2f2e604e740e8838bf21a2d3/variables/variables with Embeddings_en/sharded_15\n",
            "INFO:tensorflow:Initialize variable dnn/input_from_feature_columns/input_layer/title_hub_module_embedding/module/Embeddings_en/sharded_16:0 from checkpoint /var/folders/hp/gzm_7hs931v5kt53p6rywh5w00fqrl/T/tfhub_modules/c6f5954ffa065cdb2f2e604e740e8838bf21a2d3/variables/variables with Embeddings_en/sharded_16\n",
            "INFO:tensorflow:Initialize variable dnn/input_from_feature_columns/input_layer/title_hub_module_embedding/module/Embeddings_en/sharded_2:0 from checkpoint /var/folders/hp/gzm_7hs931v5kt53p6rywh5w00fqrl/T/tfhub_modules/c6f5954ffa065cdb2f2e604e740e8838bf21a2d3/variables/variables with Embeddings_en/sharded_2\n",
            "INFO:tensorflow:Initialize variable dnn/input_from_feature_columns/input_layer/title_hub_module_embedding/module/Embeddings_en/sharded_3:0 from checkpoint /var/folders/hp/gzm_7hs931v5kt53p6rywh5w00fqrl/T/tfhub_modules/c6f5954ffa065cdb2f2e604e740e8838bf21a2d3/variables/variables with Embeddings_en/sharded_3\n",
            "INFO:tensorflow:Initialize variable dnn/input_from_feature_columns/input_layer/title_hub_module_embedding/module/Embeddings_en/sharded_4:0 from checkpoint /var/folders/hp/gzm_7hs931v5kt53p6rywh5w00fqrl/T/tfhub_modules/c6f5954ffa065cdb2f2e604e740e8838bf21a2d3/variables/variables with Embeddings_en/sharded_4\n",
            "INFO:tensorflow:Initialize variable dnn/input_from_feature_columns/input_layer/title_hub_module_embedding/module/Embeddings_en/sharded_5:0 from checkpoint /var/folders/hp/gzm_7hs931v5kt53p6rywh5w00fqrl/T/tfhub_modules/c6f5954ffa065cdb2f2e604e740e8838bf21a2d3/variables/variables with Embeddings_en/sharded_5\n",
            "INFO:tensorflow:Initialize variable dnn/input_from_feature_columns/input_layer/title_hub_module_embedding/module/Embeddings_en/sharded_6:0 from checkpoint /var/folders/hp/gzm_7hs931v5kt53p6rywh5w00fqrl/T/tfhub_modules/c6f5954ffa065cdb2f2e604e740e8838bf21a2d3/variables/variables with Embeddings_en/sharded_6\n",
            "INFO:tensorflow:Initialize variable dnn/input_from_feature_columns/input_layer/title_hub_module_embedding/module/Embeddings_en/sharded_7:0 from checkpoint /var/folders/hp/gzm_7hs931v5kt53p6rywh5w00fqrl/T/tfhub_modules/c6f5954ffa065cdb2f2e604e740e8838bf21a2d3/variables/variables with Embeddings_en/sharded_7\n",
            "INFO:tensorflow:Initialize variable dnn/input_from_feature_columns/input_layer/title_hub_module_embedding/module/Embeddings_en/sharded_8:0 from checkpoint /var/folders/hp/gzm_7hs931v5kt53p6rywh5w00fqrl/T/tfhub_modules/c6f5954ffa065cdb2f2e604e740e8838bf21a2d3/variables/variables with Embeddings_en/sharded_8\n",
            "INFO:tensorflow:Initialize variable dnn/input_from_feature_columns/input_layer/title_hub_module_embedding/module/Embeddings_en/sharded_9:0 from checkpoint /var/folders/hp/gzm_7hs931v5kt53p6rywh5w00fqrl/T/tfhub_modules/c6f5954ffa065cdb2f2e604e740e8838bf21a2d3/variables/variables with Embeddings_en/sharded_9\n",
            "INFO:tensorflow:Initialize variable dnn/input_from_feature_columns/input_layer/title_hub_module_embedding/module/Encoder_en/DNN/ResidualHidden_0/weights:0 from checkpoint /var/folders/hp/gzm_7hs931v5kt53p6rywh5w00fqrl/T/tfhub_modules/c6f5954ffa065cdb2f2e604e740e8838bf21a2d3/variables/variables with Encoder_en/DNN/ResidualHidden_0/weights\n",
            "INFO:tensorflow:Initialize variable dnn/input_from_feature_columns/input_layer/title_hub_module_embedding/module/Encoder_en/DNN/ResidualHidden_1/weights:0 from checkpoint /var/folders/hp/gzm_7hs931v5kt53p6rywh5w00fqrl/T/tfhub_modules/c6f5954ffa065cdb2f2e604e740e8838bf21a2d3/variables/variables with Encoder_en/DNN/ResidualHidden_1/weights\n",
            "INFO:tensorflow:Initialize variable dnn/input_from_feature_columns/input_layer/title_hub_module_embedding/module/Encoder_en/DNN/ResidualHidden_2/weights:0 from checkpoint /var/folders/hp/gzm_7hs931v5kt53p6rywh5w00fqrl/T/tfhub_modules/c6f5954ffa065cdb2f2e604e740e8838bf21a2d3/variables/variables with Encoder_en/DNN/ResidualHidden_2/weights\n",
            "INFO:tensorflow:Initialize variable dnn/input_from_feature_columns/input_layer/title_hub_module_embedding/module/Encoder_en/DNN/ResidualHidden_3/projection:0 from checkpoint /var/folders/hp/gzm_7hs931v5kt53p6rywh5w00fqrl/T/tfhub_modules/c6f5954ffa065cdb2f2e604e740e8838bf21a2d3/variables/variables with Encoder_en/DNN/ResidualHidden_3/projection\n",
            "INFO:tensorflow:Initialize variable dnn/input_from_feature_columns/input_layer/title_hub_module_embedding/module/Encoder_en/DNN/ResidualHidden_3/weights:0 from checkpoint /var/folders/hp/gzm_7hs931v5kt53p6rywh5w00fqrl/T/tfhub_modules/c6f5954ffa065cdb2f2e604e740e8838bf21a2d3/variables/variables with Encoder_en/DNN/ResidualHidden_3/weights\n",
            "INFO:tensorflow:Initialize variable dnn/input_from_feature_columns/input_layer/title_hub_module_embedding/module/SHARED_RANK_ANSWER/response_encoder_0/tanh_layer_0/bias:0 from checkpoint /var/folders/hp/gzm_7hs931v5kt53p6rywh5w00fqrl/T/tfhub_modules/c6f5954ffa065cdb2f2e604e740e8838bf21a2d3/variables/variables with SHARED_RANK_ANSWER/response_encoder_0/tanh_layer_0/bias\n"
          ]
        },
        {
          "name": "stderr",
          "output_type": "stream",
          "text": [
            "INFO:tensorflow:Initialize variable dnn/input_from_feature_columns/input_layer/title_hub_module_embedding/module/SHARED_RANK_ANSWER/response_encoder_0/tanh_layer_0/weights:0 from checkpoint /var/folders/hp/gzm_7hs931v5kt53p6rywh5w00fqrl/T/tfhub_modules/c6f5954ffa065cdb2f2e604e740e8838bf21a2d3/variables/variables with SHARED_RANK_ANSWER/response_encoder_0/tanh_layer_0/weights\n",
            "INFO:tensorflow:Initialize variable dnn/input_from_feature_columns/input_layer/title_hub_module_embedding/module/SHARED_RANK_ANSWER/response_encoder_0/tanh_layer_1/bias:0 from checkpoint /var/folders/hp/gzm_7hs931v5kt53p6rywh5w00fqrl/T/tfhub_modules/c6f5954ffa065cdb2f2e604e740e8838bf21a2d3/variables/variables with SHARED_RANK_ANSWER/response_encoder_0/tanh_layer_1/bias\n",
            "INFO:tensorflow:Initialize variable dnn/input_from_feature_columns/input_layer/title_hub_module_embedding/module/SHARED_RANK_ANSWER/response_encoder_0/tanh_layer_1/weights:0 from checkpoint /var/folders/hp/gzm_7hs931v5kt53p6rywh5w00fqrl/T/tfhub_modules/c6f5954ffa065cdb2f2e604e740e8838bf21a2d3/variables/variables with SHARED_RANK_ANSWER/response_encoder_0/tanh_layer_1/weights\n",
            "INFO:tensorflow:Initialize variable dnn/input_from_feature_columns/input_layer/title_hub_module_embedding/module/SHARED_RANK_ANSWER/response_encoder_0/tanh_layer_2/bias:0 from checkpoint /var/folders/hp/gzm_7hs931v5kt53p6rywh5w00fqrl/T/tfhub_modules/c6f5954ffa065cdb2f2e604e740e8838bf21a2d3/variables/variables with SHARED_RANK_ANSWER/response_encoder_0/tanh_layer_2/bias\n",
            "INFO:tensorflow:Initialize variable dnn/input_from_feature_columns/input_layer/title_hub_module_embedding/module/SHARED_RANK_ANSWER/response_encoder_0/tanh_layer_2/weights:0 from checkpoint /var/folders/hp/gzm_7hs931v5kt53p6rywh5w00fqrl/T/tfhub_modules/c6f5954ffa065cdb2f2e604e740e8838bf21a2d3/variables/variables with SHARED_RANK_ANSWER/response_encoder_0/tanh_layer_2/weights\n",
            "INFO:tensorflow:Initialize variable dnn/input_from_feature_columns/input_layer/title_hub_module_embedding/module/SNLI/Classifier/LinearLayer/bias:0 from checkpoint /var/folders/hp/gzm_7hs931v5kt53p6rywh5w00fqrl/T/tfhub_modules/c6f5954ffa065cdb2f2e604e740e8838bf21a2d3/variables/variables with SNLI/Classifier/LinearLayer/bias\n",
            "INFO:tensorflow:Initialize variable dnn/input_from_feature_columns/input_layer/title_hub_module_embedding/module/SNLI/Classifier/LinearLayer/weights:0 from checkpoint /var/folders/hp/gzm_7hs931v5kt53p6rywh5w00fqrl/T/tfhub_modules/c6f5954ffa065cdb2f2e604e740e8838bf21a2d3/variables/variables with SNLI/Classifier/LinearLayer/weights\n",
            "INFO:tensorflow:Initialize variable dnn/input_from_feature_columns/input_layer/title_hub_module_embedding/module/SNLI/Classifier/tanh_layer_0/bias:0 from checkpoint /var/folders/hp/gzm_7hs931v5kt53p6rywh5w00fqrl/T/tfhub_modules/c6f5954ffa065cdb2f2e604e740e8838bf21a2d3/variables/variables with SNLI/Classifier/tanh_layer_0/bias\n",
            "INFO:tensorflow:Initialize variable dnn/input_from_feature_columns/input_layer/title_hub_module_embedding/module/SNLI/Classifier/tanh_layer_0/weights:0 from checkpoint /var/folders/hp/gzm_7hs931v5kt53p6rywh5w00fqrl/T/tfhub_modules/c6f5954ffa065cdb2f2e604e740e8838bf21a2d3/variables/variables with SNLI/Classifier/tanh_layer_0/weights\n",
            "INFO:tensorflow:Initialize variable dnn/input_from_feature_columns/input_layer/title_hub_module_embedding/module/global_step:0 from checkpoint /var/folders/hp/gzm_7hs931v5kt53p6rywh5w00fqrl/T/tfhub_modules/c6f5954ffa065cdb2f2e604e740e8838bf21a2d3/variables/variables with global_step\n",
            "INFO:tensorflow:Done calling model_fn.\n",
            "INFO:tensorflow:Create CheckpointSaverHook.\n",
            "INFO:tensorflow:Graph was finalized.\n",
            "INFO:tensorflow:Restoring parameters from models/news/dnn_estimator_hub/model.ckpt-262\n",
            "INFO:tensorflow:Running local_init_op.\n",
            "INFO:tensorflow:Done running local_init_op.\n",
            "INFO:tensorflow:Saving checkpoints for 263 into models/news/dnn_estimator_hub/model.ckpt.\n",
            "INFO:tensorflow:loss = 616.0958, step = 263\n",
            "INFO:tensorflow:loss = 289.83878, step = 363 (11.215 sec)\n",
            "INFO:tensorflow:loss = 318.89044, step = 463 (12.543 sec)\n",
            "INFO:tensorflow:Saving checkpoints for 526 into models/news/dnn_estimator_hub/model.ckpt.\n",
            "INFO:tensorflow:Loss for final step: 485.92853.\n",
            "INFO:tensorflow:Calling model_fn.\n",
            "INFO:tensorflow:Initialize variable dnn/input_from_feature_columns/input_layer/title_hub_module_embedding/module/Embeddings_en/sharded_0:0 from checkpoint /var/folders/hp/gzm_7hs931v5kt53p6rywh5w00fqrl/T/tfhub_modules/c6f5954ffa065cdb2f2e604e740e8838bf21a2d3/variables/variables with Embeddings_en/sharded_0\n",
            "INFO:tensorflow:Initialize variable dnn/input_from_feature_columns/input_layer/title_hub_module_embedding/module/Embeddings_en/sharded_1:0 from checkpoint /var/folders/hp/gzm_7hs931v5kt53p6rywh5w00fqrl/T/tfhub_modules/c6f5954ffa065cdb2f2e604e740e8838bf21a2d3/variables/variables with Embeddings_en/sharded_1\n",
            "INFO:tensorflow:Initialize variable dnn/input_from_feature_columns/input_layer/title_hub_module_embedding/module/Embeddings_en/sharded_10:0 from checkpoint /var/folders/hp/gzm_7hs931v5kt53p6rywh5w00fqrl/T/tfhub_modules/c6f5954ffa065cdb2f2e604e740e8838bf21a2d3/variables/variables with Embeddings_en/sharded_10\n",
            "INFO:tensorflow:Initialize variable dnn/input_from_feature_columns/input_layer/title_hub_module_embedding/module/Embeddings_en/sharded_11:0 from checkpoint /var/folders/hp/gzm_7hs931v5kt53p6rywh5w00fqrl/T/tfhub_modules/c6f5954ffa065cdb2f2e604e740e8838bf21a2d3/variables/variables with Embeddings_en/sharded_11\n",
            "INFO:tensorflow:Initialize variable dnn/input_from_feature_columns/input_layer/title_hub_module_embedding/module/Embeddings_en/sharded_12:0 from checkpoint /var/folders/hp/gzm_7hs931v5kt53p6rywh5w00fqrl/T/tfhub_modules/c6f5954ffa065cdb2f2e604e740e8838bf21a2d3/variables/variables with Embeddings_en/sharded_12\n",
            "INFO:tensorflow:Initialize variable dnn/input_from_feature_columns/input_layer/title_hub_module_embedding/module/Embeddings_en/sharded_13:0 from checkpoint /var/folders/hp/gzm_7hs931v5kt53p6rywh5w00fqrl/T/tfhub_modules/c6f5954ffa065cdb2f2e604e740e8838bf21a2d3/variables/variables with Embeddings_en/sharded_13\n",
            "INFO:tensorflow:Initialize variable dnn/input_from_feature_columns/input_layer/title_hub_module_embedding/module/Embeddings_en/sharded_14:0 from checkpoint /var/folders/hp/gzm_7hs931v5kt53p6rywh5w00fqrl/T/tfhub_modules/c6f5954ffa065cdb2f2e604e740e8838bf21a2d3/variables/variables with Embeddings_en/sharded_14\n",
            "INFO:tensorflow:Initialize variable dnn/input_from_feature_columns/input_layer/title_hub_module_embedding/module/Embeddings_en/sharded_15:0 from checkpoint /var/folders/hp/gzm_7hs931v5kt53p6rywh5w00fqrl/T/tfhub_modules/c6f5954ffa065cdb2f2e604e740e8838bf21a2d3/variables/variables with Embeddings_en/sharded_15\n",
            "INFO:tensorflow:Initialize variable dnn/input_from_feature_columns/input_layer/title_hub_module_embedding/module/Embeddings_en/sharded_16:0 from checkpoint /var/folders/hp/gzm_7hs931v5kt53p6rywh5w00fqrl/T/tfhub_modules/c6f5954ffa065cdb2f2e604e740e8838bf21a2d3/variables/variables with Embeddings_en/sharded_16\n",
            "INFO:tensorflow:Initialize variable dnn/input_from_feature_columns/input_layer/title_hub_module_embedding/module/Embeddings_en/sharded_2:0 from checkpoint /var/folders/hp/gzm_7hs931v5kt53p6rywh5w00fqrl/T/tfhub_modules/c6f5954ffa065cdb2f2e604e740e8838bf21a2d3/variables/variables with Embeddings_en/sharded_2\n",
            "INFO:tensorflow:Initialize variable dnn/input_from_feature_columns/input_layer/title_hub_module_embedding/module/Embeddings_en/sharded_3:0 from checkpoint /var/folders/hp/gzm_7hs931v5kt53p6rywh5w00fqrl/T/tfhub_modules/c6f5954ffa065cdb2f2e604e740e8838bf21a2d3/variables/variables with Embeddings_en/sharded_3\n",
            "INFO:tensorflow:Initialize variable dnn/input_from_feature_columns/input_layer/title_hub_module_embedding/module/Embeddings_en/sharded_4:0 from checkpoint /var/folders/hp/gzm_7hs931v5kt53p6rywh5w00fqrl/T/tfhub_modules/c6f5954ffa065cdb2f2e604e740e8838bf21a2d3/variables/variables with Embeddings_en/sharded_4\n",
            "INFO:tensorflow:Initialize variable dnn/input_from_feature_columns/input_layer/title_hub_module_embedding/module/Embeddings_en/sharded_5:0 from checkpoint /var/folders/hp/gzm_7hs931v5kt53p6rywh5w00fqrl/T/tfhub_modules/c6f5954ffa065cdb2f2e604e740e8838bf21a2d3/variables/variables with Embeddings_en/sharded_5\n"
          ]
        },
        {
          "name": "stderr",
          "output_type": "stream",
          "text": [
            "INFO:tensorflow:Initialize variable dnn/input_from_feature_columns/input_layer/title_hub_module_embedding/module/Embeddings_en/sharded_6:0 from checkpoint /var/folders/hp/gzm_7hs931v5kt53p6rywh5w00fqrl/T/tfhub_modules/c6f5954ffa065cdb2f2e604e740e8838bf21a2d3/variables/variables with Embeddings_en/sharded_6\n",
            "INFO:tensorflow:Initialize variable dnn/input_from_feature_columns/input_layer/title_hub_module_embedding/module/Embeddings_en/sharded_7:0 from checkpoint /var/folders/hp/gzm_7hs931v5kt53p6rywh5w00fqrl/T/tfhub_modules/c6f5954ffa065cdb2f2e604e740e8838bf21a2d3/variables/variables with Embeddings_en/sharded_7\n",
            "INFO:tensorflow:Initialize variable dnn/input_from_feature_columns/input_layer/title_hub_module_embedding/module/Embeddings_en/sharded_8:0 from checkpoint /var/folders/hp/gzm_7hs931v5kt53p6rywh5w00fqrl/T/tfhub_modules/c6f5954ffa065cdb2f2e604e740e8838bf21a2d3/variables/variables with Embeddings_en/sharded_8\n",
            "INFO:tensorflow:Initialize variable dnn/input_from_feature_columns/input_layer/title_hub_module_embedding/module/Embeddings_en/sharded_9:0 from checkpoint /var/folders/hp/gzm_7hs931v5kt53p6rywh5w00fqrl/T/tfhub_modules/c6f5954ffa065cdb2f2e604e740e8838bf21a2d3/variables/variables with Embeddings_en/sharded_9\n",
            "INFO:tensorflow:Initialize variable dnn/input_from_feature_columns/input_layer/title_hub_module_embedding/module/Encoder_en/DNN/ResidualHidden_0/weights:0 from checkpoint /var/folders/hp/gzm_7hs931v5kt53p6rywh5w00fqrl/T/tfhub_modules/c6f5954ffa065cdb2f2e604e740e8838bf21a2d3/variables/variables with Encoder_en/DNN/ResidualHidden_0/weights\n",
            "INFO:tensorflow:Initialize variable dnn/input_from_feature_columns/input_layer/title_hub_module_embedding/module/Encoder_en/DNN/ResidualHidden_1/weights:0 from checkpoint /var/folders/hp/gzm_7hs931v5kt53p6rywh5w00fqrl/T/tfhub_modules/c6f5954ffa065cdb2f2e604e740e8838bf21a2d3/variables/variables with Encoder_en/DNN/ResidualHidden_1/weights\n",
            "INFO:tensorflow:Initialize variable dnn/input_from_feature_columns/input_layer/title_hub_module_embedding/module/Encoder_en/DNN/ResidualHidden_2/weights:0 from checkpoint /var/folders/hp/gzm_7hs931v5kt53p6rywh5w00fqrl/T/tfhub_modules/c6f5954ffa065cdb2f2e604e740e8838bf21a2d3/variables/variables with Encoder_en/DNN/ResidualHidden_2/weights\n",
            "INFO:tensorflow:Initialize variable dnn/input_from_feature_columns/input_layer/title_hub_module_embedding/module/Encoder_en/DNN/ResidualHidden_3/projection:0 from checkpoint /var/folders/hp/gzm_7hs931v5kt53p6rywh5w00fqrl/T/tfhub_modules/c6f5954ffa065cdb2f2e604e740e8838bf21a2d3/variables/variables with Encoder_en/DNN/ResidualHidden_3/projection\n",
            "INFO:tensorflow:Initialize variable dnn/input_from_feature_columns/input_layer/title_hub_module_embedding/module/Encoder_en/DNN/ResidualHidden_3/weights:0 from checkpoint /var/folders/hp/gzm_7hs931v5kt53p6rywh5w00fqrl/T/tfhub_modules/c6f5954ffa065cdb2f2e604e740e8838bf21a2d3/variables/variables with Encoder_en/DNN/ResidualHidden_3/weights\n",
            "INFO:tensorflow:Initialize variable dnn/input_from_feature_columns/input_layer/title_hub_module_embedding/module/SHARED_RANK_ANSWER/response_encoder_0/tanh_layer_0/bias:0 from checkpoint /var/folders/hp/gzm_7hs931v5kt53p6rywh5w00fqrl/T/tfhub_modules/c6f5954ffa065cdb2f2e604e740e8838bf21a2d3/variables/variables with SHARED_RANK_ANSWER/response_encoder_0/tanh_layer_0/bias\n",
            "INFO:tensorflow:Initialize variable dnn/input_from_feature_columns/input_layer/title_hub_module_embedding/module/SHARED_RANK_ANSWER/response_encoder_0/tanh_layer_0/weights:0 from checkpoint /var/folders/hp/gzm_7hs931v5kt53p6rywh5w00fqrl/T/tfhub_modules/c6f5954ffa065cdb2f2e604e740e8838bf21a2d3/variables/variables with SHARED_RANK_ANSWER/response_encoder_0/tanh_layer_0/weights\n",
            "INFO:tensorflow:Initialize variable dnn/input_from_feature_columns/input_layer/title_hub_module_embedding/module/SHARED_RANK_ANSWER/response_encoder_0/tanh_layer_1/bias:0 from checkpoint /var/folders/hp/gzm_7hs931v5kt53p6rywh5w00fqrl/T/tfhub_modules/c6f5954ffa065cdb2f2e604e740e8838bf21a2d3/variables/variables with SHARED_RANK_ANSWER/response_encoder_0/tanh_layer_1/bias\n",
            "INFO:tensorflow:Initialize variable dnn/input_from_feature_columns/input_layer/title_hub_module_embedding/module/SHARED_RANK_ANSWER/response_encoder_0/tanh_layer_1/weights:0 from checkpoint /var/folders/hp/gzm_7hs931v5kt53p6rywh5w00fqrl/T/tfhub_modules/c6f5954ffa065cdb2f2e604e740e8838bf21a2d3/variables/variables with SHARED_RANK_ANSWER/response_encoder_0/tanh_layer_1/weights\n",
            "INFO:tensorflow:Initialize variable dnn/input_from_feature_columns/input_layer/title_hub_module_embedding/module/SHARED_RANK_ANSWER/response_encoder_0/tanh_layer_2/bias:0 from checkpoint /var/folders/hp/gzm_7hs931v5kt53p6rywh5w00fqrl/T/tfhub_modules/c6f5954ffa065cdb2f2e604e740e8838bf21a2d3/variables/variables with SHARED_RANK_ANSWER/response_encoder_0/tanh_layer_2/bias\n",
            "INFO:tensorflow:Initialize variable dnn/input_from_feature_columns/input_layer/title_hub_module_embedding/module/SHARED_RANK_ANSWER/response_encoder_0/tanh_layer_2/weights:0 from checkpoint /var/folders/hp/gzm_7hs931v5kt53p6rywh5w00fqrl/T/tfhub_modules/c6f5954ffa065cdb2f2e604e740e8838bf21a2d3/variables/variables with SHARED_RANK_ANSWER/response_encoder_0/tanh_layer_2/weights\n",
            "INFO:tensorflow:Initialize variable dnn/input_from_feature_columns/input_layer/title_hub_module_embedding/module/SNLI/Classifier/LinearLayer/bias:0 from checkpoint /var/folders/hp/gzm_7hs931v5kt53p6rywh5w00fqrl/T/tfhub_modules/c6f5954ffa065cdb2f2e604e740e8838bf21a2d3/variables/variables with SNLI/Classifier/LinearLayer/bias\n",
            "INFO:tensorflow:Initialize variable dnn/input_from_feature_columns/input_layer/title_hub_module_embedding/module/SNLI/Classifier/LinearLayer/weights:0 from checkpoint /var/folders/hp/gzm_7hs931v5kt53p6rywh5w00fqrl/T/tfhub_modules/c6f5954ffa065cdb2f2e604e740e8838bf21a2d3/variables/variables with SNLI/Classifier/LinearLayer/weights\n",
            "INFO:tensorflow:Initialize variable dnn/input_from_feature_columns/input_layer/title_hub_module_embedding/module/SNLI/Classifier/tanh_layer_0/bias:0 from checkpoint /var/folders/hp/gzm_7hs931v5kt53p6rywh5w00fqrl/T/tfhub_modules/c6f5954ffa065cdb2f2e604e740e8838bf21a2d3/variables/variables with SNLI/Classifier/tanh_layer_0/bias\n",
            "INFO:tensorflow:Initialize variable dnn/input_from_feature_columns/input_layer/title_hub_module_embedding/module/SNLI/Classifier/tanh_layer_0/weights:0 from checkpoint /var/folders/hp/gzm_7hs931v5kt53p6rywh5w00fqrl/T/tfhub_modules/c6f5954ffa065cdb2f2e604e740e8838bf21a2d3/variables/variables with SNLI/Classifier/tanh_layer_0/weights\n",
            "INFO:tensorflow:Initialize variable dnn/input_from_feature_columns/input_layer/title_hub_module_embedding/module/global_step:0 from checkpoint /var/folders/hp/gzm_7hs931v5kt53p6rywh5w00fqrl/T/tfhub_modules/c6f5954ffa065cdb2f2e604e740e8838bf21a2d3/variables/variables with global_step\n",
            "INFO:tensorflow:Done calling model_fn.\n",
            "INFO:tensorflow:Starting evaluation at 2018-05-14-10:16:32\n",
            "INFO:tensorflow:Graph was finalized.\n",
            "INFO:tensorflow:Restoring parameters from models/news/dnn_estimator_hub/model.ckpt-526\n",
            "INFO:tensorflow:Running local_init_op.\n",
            "INFO:tensorflow:Done running local_init_op.\n",
            "INFO:tensorflow:Finished evaluation at 2018-05-14-10:16:46\n",
            "INFO:tensorflow:Saving dict for global step 526: accuracy = 0.8061008, average_loss = 0.44570565, global_step = 526, loss = 428.60168\n",
            "INFO:tensorflow:Calling model_fn.\n",
            "INFO:tensorflow:Initialize variable dnn/input_from_feature_columns/input_layer/title_hub_module_embedding/module/Embeddings_en/sharded_0:0 from checkpoint /var/folders/hp/gzm_7hs931v5kt53p6rywh5w00fqrl/T/tfhub_modules/c6f5954ffa065cdb2f2e604e740e8838bf21a2d3/variables/variables with Embeddings_en/sharded_0\n",
            "INFO:tensorflow:Initialize variable dnn/input_from_feature_columns/input_layer/title_hub_module_embedding/module/Embeddings_en/sharded_1:0 from checkpoint /var/folders/hp/gzm_7hs931v5kt53p6rywh5w00fqrl/T/tfhub_modules/c6f5954ffa065cdb2f2e604e740e8838bf21a2d3/variables/variables with Embeddings_en/sharded_1\n",
            "INFO:tensorflow:Initialize variable dnn/input_from_feature_columns/input_layer/title_hub_module_embedding/module/Embeddings_en/sharded_10:0 from checkpoint /var/folders/hp/gzm_7hs931v5kt53p6rywh5w00fqrl/T/tfhub_modules/c6f5954ffa065cdb2f2e604e740e8838bf21a2d3/variables/variables with Embeddings_en/sharded_10\n"
          ]
        },
        {
          "name": "stderr",
          "output_type": "stream",
          "text": [
            "INFO:tensorflow:Initialize variable dnn/input_from_feature_columns/input_layer/title_hub_module_embedding/module/Embeddings_en/sharded_11:0 from checkpoint /var/folders/hp/gzm_7hs931v5kt53p6rywh5w00fqrl/T/tfhub_modules/c6f5954ffa065cdb2f2e604e740e8838bf21a2d3/variables/variables with Embeddings_en/sharded_11\n",
            "INFO:tensorflow:Initialize variable dnn/input_from_feature_columns/input_layer/title_hub_module_embedding/module/Embeddings_en/sharded_12:0 from checkpoint /var/folders/hp/gzm_7hs931v5kt53p6rywh5w00fqrl/T/tfhub_modules/c6f5954ffa065cdb2f2e604e740e8838bf21a2d3/variables/variables with Embeddings_en/sharded_12\n",
            "INFO:tensorflow:Initialize variable dnn/input_from_feature_columns/input_layer/title_hub_module_embedding/module/Embeddings_en/sharded_13:0 from checkpoint /var/folders/hp/gzm_7hs931v5kt53p6rywh5w00fqrl/T/tfhub_modules/c6f5954ffa065cdb2f2e604e740e8838bf21a2d3/variables/variables with Embeddings_en/sharded_13\n",
            "INFO:tensorflow:Initialize variable dnn/input_from_feature_columns/input_layer/title_hub_module_embedding/module/Embeddings_en/sharded_14:0 from checkpoint /var/folders/hp/gzm_7hs931v5kt53p6rywh5w00fqrl/T/tfhub_modules/c6f5954ffa065cdb2f2e604e740e8838bf21a2d3/variables/variables with Embeddings_en/sharded_14\n",
            "INFO:tensorflow:Initialize variable dnn/input_from_feature_columns/input_layer/title_hub_module_embedding/module/Embeddings_en/sharded_15:0 from checkpoint /var/folders/hp/gzm_7hs931v5kt53p6rywh5w00fqrl/T/tfhub_modules/c6f5954ffa065cdb2f2e604e740e8838bf21a2d3/variables/variables with Embeddings_en/sharded_15\n",
            "INFO:tensorflow:Initialize variable dnn/input_from_feature_columns/input_layer/title_hub_module_embedding/module/Embeddings_en/sharded_16:0 from checkpoint /var/folders/hp/gzm_7hs931v5kt53p6rywh5w00fqrl/T/tfhub_modules/c6f5954ffa065cdb2f2e604e740e8838bf21a2d3/variables/variables with Embeddings_en/sharded_16\n",
            "INFO:tensorflow:Initialize variable dnn/input_from_feature_columns/input_layer/title_hub_module_embedding/module/Embeddings_en/sharded_2:0 from checkpoint /var/folders/hp/gzm_7hs931v5kt53p6rywh5w00fqrl/T/tfhub_modules/c6f5954ffa065cdb2f2e604e740e8838bf21a2d3/variables/variables with Embeddings_en/sharded_2\n",
            "INFO:tensorflow:Initialize variable dnn/input_from_feature_columns/input_layer/title_hub_module_embedding/module/Embeddings_en/sharded_3:0 from checkpoint /var/folders/hp/gzm_7hs931v5kt53p6rywh5w00fqrl/T/tfhub_modules/c6f5954ffa065cdb2f2e604e740e8838bf21a2d3/variables/variables with Embeddings_en/sharded_3\n",
            "INFO:tensorflow:Initialize variable dnn/input_from_feature_columns/input_layer/title_hub_module_embedding/module/Embeddings_en/sharded_4:0 from checkpoint /var/folders/hp/gzm_7hs931v5kt53p6rywh5w00fqrl/T/tfhub_modules/c6f5954ffa065cdb2f2e604e740e8838bf21a2d3/variables/variables with Embeddings_en/sharded_4\n",
            "INFO:tensorflow:Initialize variable dnn/input_from_feature_columns/input_layer/title_hub_module_embedding/module/Embeddings_en/sharded_5:0 from checkpoint /var/folders/hp/gzm_7hs931v5kt53p6rywh5w00fqrl/T/tfhub_modules/c6f5954ffa065cdb2f2e604e740e8838bf21a2d3/variables/variables with Embeddings_en/sharded_5\n",
            "INFO:tensorflow:Initialize variable dnn/input_from_feature_columns/input_layer/title_hub_module_embedding/module/Embeddings_en/sharded_6:0 from checkpoint /var/folders/hp/gzm_7hs931v5kt53p6rywh5w00fqrl/T/tfhub_modules/c6f5954ffa065cdb2f2e604e740e8838bf21a2d3/variables/variables with Embeddings_en/sharded_6\n",
            "INFO:tensorflow:Initialize variable dnn/input_from_feature_columns/input_layer/title_hub_module_embedding/module/Embeddings_en/sharded_7:0 from checkpoint /var/folders/hp/gzm_7hs931v5kt53p6rywh5w00fqrl/T/tfhub_modules/c6f5954ffa065cdb2f2e604e740e8838bf21a2d3/variables/variables with Embeddings_en/sharded_7\n",
            "INFO:tensorflow:Initialize variable dnn/input_from_feature_columns/input_layer/title_hub_module_embedding/module/Embeddings_en/sharded_8:0 from checkpoint /var/folders/hp/gzm_7hs931v5kt53p6rywh5w00fqrl/T/tfhub_modules/c6f5954ffa065cdb2f2e604e740e8838bf21a2d3/variables/variables with Embeddings_en/sharded_8\n",
            "INFO:tensorflow:Initialize variable dnn/input_from_feature_columns/input_layer/title_hub_module_embedding/module/Embeddings_en/sharded_9:0 from checkpoint /var/folders/hp/gzm_7hs931v5kt53p6rywh5w00fqrl/T/tfhub_modules/c6f5954ffa065cdb2f2e604e740e8838bf21a2d3/variables/variables with Embeddings_en/sharded_9\n",
            "INFO:tensorflow:Initialize variable dnn/input_from_feature_columns/input_layer/title_hub_module_embedding/module/Encoder_en/DNN/ResidualHidden_0/weights:0 from checkpoint /var/folders/hp/gzm_7hs931v5kt53p6rywh5w00fqrl/T/tfhub_modules/c6f5954ffa065cdb2f2e604e740e8838bf21a2d3/variables/variables with Encoder_en/DNN/ResidualHidden_0/weights\n",
            "INFO:tensorflow:Initialize variable dnn/input_from_feature_columns/input_layer/title_hub_module_embedding/module/Encoder_en/DNN/ResidualHidden_1/weights:0 from checkpoint /var/folders/hp/gzm_7hs931v5kt53p6rywh5w00fqrl/T/tfhub_modules/c6f5954ffa065cdb2f2e604e740e8838bf21a2d3/variables/variables with Encoder_en/DNN/ResidualHidden_1/weights\n",
            "INFO:tensorflow:Initialize variable dnn/input_from_feature_columns/input_layer/title_hub_module_embedding/module/Encoder_en/DNN/ResidualHidden_2/weights:0 from checkpoint /var/folders/hp/gzm_7hs931v5kt53p6rywh5w00fqrl/T/tfhub_modules/c6f5954ffa065cdb2f2e604e740e8838bf21a2d3/variables/variables with Encoder_en/DNN/ResidualHidden_2/weights\n",
            "INFO:tensorflow:Initialize variable dnn/input_from_feature_columns/input_layer/title_hub_module_embedding/module/Encoder_en/DNN/ResidualHidden_3/projection:0 from checkpoint /var/folders/hp/gzm_7hs931v5kt53p6rywh5w00fqrl/T/tfhub_modules/c6f5954ffa065cdb2f2e604e740e8838bf21a2d3/variables/variables with Encoder_en/DNN/ResidualHidden_3/projection\n",
            "INFO:tensorflow:Initialize variable dnn/input_from_feature_columns/input_layer/title_hub_module_embedding/module/Encoder_en/DNN/ResidualHidden_3/weights:0 from checkpoint /var/folders/hp/gzm_7hs931v5kt53p6rywh5w00fqrl/T/tfhub_modules/c6f5954ffa065cdb2f2e604e740e8838bf21a2d3/variables/variables with Encoder_en/DNN/ResidualHidden_3/weights\n",
            "INFO:tensorflow:Initialize variable dnn/input_from_feature_columns/input_layer/title_hub_module_embedding/module/SHARED_RANK_ANSWER/response_encoder_0/tanh_layer_0/bias:0 from checkpoint /var/folders/hp/gzm_7hs931v5kt53p6rywh5w00fqrl/T/tfhub_modules/c6f5954ffa065cdb2f2e604e740e8838bf21a2d3/variables/variables with SHARED_RANK_ANSWER/response_encoder_0/tanh_layer_0/bias\n",
            "INFO:tensorflow:Initialize variable dnn/input_from_feature_columns/input_layer/title_hub_module_embedding/module/SHARED_RANK_ANSWER/response_encoder_0/tanh_layer_0/weights:0 from checkpoint /var/folders/hp/gzm_7hs931v5kt53p6rywh5w00fqrl/T/tfhub_modules/c6f5954ffa065cdb2f2e604e740e8838bf21a2d3/variables/variables with SHARED_RANK_ANSWER/response_encoder_0/tanh_layer_0/weights\n",
            "INFO:tensorflow:Initialize variable dnn/input_from_feature_columns/input_layer/title_hub_module_embedding/module/SHARED_RANK_ANSWER/response_encoder_0/tanh_layer_1/bias:0 from checkpoint /var/folders/hp/gzm_7hs931v5kt53p6rywh5w00fqrl/T/tfhub_modules/c6f5954ffa065cdb2f2e604e740e8838bf21a2d3/variables/variables with SHARED_RANK_ANSWER/response_encoder_0/tanh_layer_1/bias\n",
            "INFO:tensorflow:Initialize variable dnn/input_from_feature_columns/input_layer/title_hub_module_embedding/module/SHARED_RANK_ANSWER/response_encoder_0/tanh_layer_1/weights:0 from checkpoint /var/folders/hp/gzm_7hs931v5kt53p6rywh5w00fqrl/T/tfhub_modules/c6f5954ffa065cdb2f2e604e740e8838bf21a2d3/variables/variables with SHARED_RANK_ANSWER/response_encoder_0/tanh_layer_1/weights\n",
            "INFO:tensorflow:Initialize variable dnn/input_from_feature_columns/input_layer/title_hub_module_embedding/module/SHARED_RANK_ANSWER/response_encoder_0/tanh_layer_2/bias:0 from checkpoint /var/folders/hp/gzm_7hs931v5kt53p6rywh5w00fqrl/T/tfhub_modules/c6f5954ffa065cdb2f2e604e740e8838bf21a2d3/variables/variables with SHARED_RANK_ANSWER/response_encoder_0/tanh_layer_2/bias\n",
            "INFO:tensorflow:Initialize variable dnn/input_from_feature_columns/input_layer/title_hub_module_embedding/module/SHARED_RANK_ANSWER/response_encoder_0/tanh_layer_2/weights:0 from checkpoint /var/folders/hp/gzm_7hs931v5kt53p6rywh5w00fqrl/T/tfhub_modules/c6f5954ffa065cdb2f2e604e740e8838bf21a2d3/variables/variables with SHARED_RANK_ANSWER/response_encoder_0/tanh_layer_2/weights\n"
          ]
        },
        {
          "name": "stderr",
          "output_type": "stream",
          "text": [
            "INFO:tensorflow:Initialize variable dnn/input_from_feature_columns/input_layer/title_hub_module_embedding/module/SNLI/Classifier/LinearLayer/bias:0 from checkpoint /var/folders/hp/gzm_7hs931v5kt53p6rywh5w00fqrl/T/tfhub_modules/c6f5954ffa065cdb2f2e604e740e8838bf21a2d3/variables/variables with SNLI/Classifier/LinearLayer/bias\n",
            "INFO:tensorflow:Initialize variable dnn/input_from_feature_columns/input_layer/title_hub_module_embedding/module/SNLI/Classifier/LinearLayer/weights:0 from checkpoint /var/folders/hp/gzm_7hs931v5kt53p6rywh5w00fqrl/T/tfhub_modules/c6f5954ffa065cdb2f2e604e740e8838bf21a2d3/variables/variables with SNLI/Classifier/LinearLayer/weights\n",
            "INFO:tensorflow:Initialize variable dnn/input_from_feature_columns/input_layer/title_hub_module_embedding/module/SNLI/Classifier/tanh_layer_0/bias:0 from checkpoint /var/folders/hp/gzm_7hs931v5kt53p6rywh5w00fqrl/T/tfhub_modules/c6f5954ffa065cdb2f2e604e740e8838bf21a2d3/variables/variables with SNLI/Classifier/tanh_layer_0/bias\n",
            "INFO:tensorflow:Initialize variable dnn/input_from_feature_columns/input_layer/title_hub_module_embedding/module/SNLI/Classifier/tanh_layer_0/weights:0 from checkpoint /var/folders/hp/gzm_7hs931v5kt53p6rywh5w00fqrl/T/tfhub_modules/c6f5954ffa065cdb2f2e604e740e8838bf21a2d3/variables/variables with SNLI/Classifier/tanh_layer_0/weights\n",
            "INFO:tensorflow:Initialize variable dnn/input_from_feature_columns/input_layer/title_hub_module_embedding/module/global_step:0 from checkpoint /var/folders/hp/gzm_7hs931v5kt53p6rywh5w00fqrl/T/tfhub_modules/c6f5954ffa065cdb2f2e604e740e8838bf21a2d3/variables/variables with global_step\n",
            "INFO:tensorflow:Done calling model_fn.\n",
            "INFO:tensorflow:Signatures INCLUDED in export for Classify: ['serving_default', 'classification']\n",
            "INFO:tensorflow:Signatures INCLUDED in export for Regress: None\n",
            "INFO:tensorflow:Signatures INCLUDED in export for Predict: ['predict']\n",
            "INFO:tensorflow:Restoring parameters from models/news/dnn_estimator_hub/model.ckpt-526\n",
            "INFO:tensorflow:Assets added to graph.\n",
            "INFO:tensorflow:No assets to write.\n",
            "INFO:tensorflow:SavedModel written to: models/news/dnn_estimator_hub/export/estimate/temp-1526293014/saved_model.pb\n",
            "INFO:tensorflow:Calling model_fn.\n",
            "INFO:tensorflow:Initialize variable dnn/input_from_feature_columns/input_layer/title_hub_module_embedding/module/Embeddings_en/sharded_0:0 from checkpoint /var/folders/hp/gzm_7hs931v5kt53p6rywh5w00fqrl/T/tfhub_modules/c6f5954ffa065cdb2f2e604e740e8838bf21a2d3/variables/variables with Embeddings_en/sharded_0\n",
            "INFO:tensorflow:Initialize variable dnn/input_from_feature_columns/input_layer/title_hub_module_embedding/module/Embeddings_en/sharded_1:0 from checkpoint /var/folders/hp/gzm_7hs931v5kt53p6rywh5w00fqrl/T/tfhub_modules/c6f5954ffa065cdb2f2e604e740e8838bf21a2d3/variables/variables with Embeddings_en/sharded_1\n",
            "INFO:tensorflow:Initialize variable dnn/input_from_feature_columns/input_layer/title_hub_module_embedding/module/Embeddings_en/sharded_10:0 from checkpoint /var/folders/hp/gzm_7hs931v5kt53p6rywh5w00fqrl/T/tfhub_modules/c6f5954ffa065cdb2f2e604e740e8838bf21a2d3/variables/variables with Embeddings_en/sharded_10\n",
            "INFO:tensorflow:Initialize variable dnn/input_from_feature_columns/input_layer/title_hub_module_embedding/module/Embeddings_en/sharded_11:0 from checkpoint /var/folders/hp/gzm_7hs931v5kt53p6rywh5w00fqrl/T/tfhub_modules/c6f5954ffa065cdb2f2e604e740e8838bf21a2d3/variables/variables with Embeddings_en/sharded_11\n",
            "INFO:tensorflow:Initialize variable dnn/input_from_feature_columns/input_layer/title_hub_module_embedding/module/Embeddings_en/sharded_12:0 from checkpoint /var/folders/hp/gzm_7hs931v5kt53p6rywh5w00fqrl/T/tfhub_modules/c6f5954ffa065cdb2f2e604e740e8838bf21a2d3/variables/variables with Embeddings_en/sharded_12\n",
            "INFO:tensorflow:Initialize variable dnn/input_from_feature_columns/input_layer/title_hub_module_embedding/module/Embeddings_en/sharded_13:0 from checkpoint /var/folders/hp/gzm_7hs931v5kt53p6rywh5w00fqrl/T/tfhub_modules/c6f5954ffa065cdb2f2e604e740e8838bf21a2d3/variables/variables with Embeddings_en/sharded_13\n",
            "INFO:tensorflow:Initialize variable dnn/input_from_feature_columns/input_layer/title_hub_module_embedding/module/Embeddings_en/sharded_14:0 from checkpoint /var/folders/hp/gzm_7hs931v5kt53p6rywh5w00fqrl/T/tfhub_modules/c6f5954ffa065cdb2f2e604e740e8838bf21a2d3/variables/variables with Embeddings_en/sharded_14\n",
            "INFO:tensorflow:Initialize variable dnn/input_from_feature_columns/input_layer/title_hub_module_embedding/module/Embeddings_en/sharded_15:0 from checkpoint /var/folders/hp/gzm_7hs931v5kt53p6rywh5w00fqrl/T/tfhub_modules/c6f5954ffa065cdb2f2e604e740e8838bf21a2d3/variables/variables with Embeddings_en/sharded_15\n",
            "INFO:tensorflow:Initialize variable dnn/input_from_feature_columns/input_layer/title_hub_module_embedding/module/Embeddings_en/sharded_16:0 from checkpoint /var/folders/hp/gzm_7hs931v5kt53p6rywh5w00fqrl/T/tfhub_modules/c6f5954ffa065cdb2f2e604e740e8838bf21a2d3/variables/variables with Embeddings_en/sharded_16\n",
            "INFO:tensorflow:Initialize variable dnn/input_from_feature_columns/input_layer/title_hub_module_embedding/module/Embeddings_en/sharded_2:0 from checkpoint /var/folders/hp/gzm_7hs931v5kt53p6rywh5w00fqrl/T/tfhub_modules/c6f5954ffa065cdb2f2e604e740e8838bf21a2d3/variables/variables with Embeddings_en/sharded_2\n",
            "INFO:tensorflow:Initialize variable dnn/input_from_feature_columns/input_layer/title_hub_module_embedding/module/Embeddings_en/sharded_3:0 from checkpoint /var/folders/hp/gzm_7hs931v5kt53p6rywh5w00fqrl/T/tfhub_modules/c6f5954ffa065cdb2f2e604e740e8838bf21a2d3/variables/variables with Embeddings_en/sharded_3\n",
            "INFO:tensorflow:Initialize variable dnn/input_from_feature_columns/input_layer/title_hub_module_embedding/module/Embeddings_en/sharded_4:0 from checkpoint /var/folders/hp/gzm_7hs931v5kt53p6rywh5w00fqrl/T/tfhub_modules/c6f5954ffa065cdb2f2e604e740e8838bf21a2d3/variables/variables with Embeddings_en/sharded_4\n",
            "INFO:tensorflow:Initialize variable dnn/input_from_feature_columns/input_layer/title_hub_module_embedding/module/Embeddings_en/sharded_5:0 from checkpoint /var/folders/hp/gzm_7hs931v5kt53p6rywh5w00fqrl/T/tfhub_modules/c6f5954ffa065cdb2f2e604e740e8838bf21a2d3/variables/variables with Embeddings_en/sharded_5\n",
            "INFO:tensorflow:Initialize variable dnn/input_from_feature_columns/input_layer/title_hub_module_embedding/module/Embeddings_en/sharded_6:0 from checkpoint /var/folders/hp/gzm_7hs931v5kt53p6rywh5w00fqrl/T/tfhub_modules/c6f5954ffa065cdb2f2e604e740e8838bf21a2d3/variables/variables with Embeddings_en/sharded_6\n",
            "INFO:tensorflow:Initialize variable dnn/input_from_feature_columns/input_layer/title_hub_module_embedding/module/Embeddings_en/sharded_7:0 from checkpoint /var/folders/hp/gzm_7hs931v5kt53p6rywh5w00fqrl/T/tfhub_modules/c6f5954ffa065cdb2f2e604e740e8838bf21a2d3/variables/variables with Embeddings_en/sharded_7\n",
            "INFO:tensorflow:Initialize variable dnn/input_from_feature_columns/input_layer/title_hub_module_embedding/module/Embeddings_en/sharded_8:0 from checkpoint /var/folders/hp/gzm_7hs931v5kt53p6rywh5w00fqrl/T/tfhub_modules/c6f5954ffa065cdb2f2e604e740e8838bf21a2d3/variables/variables with Embeddings_en/sharded_8\n",
            "INFO:tensorflow:Initialize variable dnn/input_from_feature_columns/input_layer/title_hub_module_embedding/module/Embeddings_en/sharded_9:0 from checkpoint /var/folders/hp/gzm_7hs931v5kt53p6rywh5w00fqrl/T/tfhub_modules/c6f5954ffa065cdb2f2e604e740e8838bf21a2d3/variables/variables with Embeddings_en/sharded_9\n",
            "INFO:tensorflow:Initialize variable dnn/input_from_feature_columns/input_layer/title_hub_module_embedding/module/Encoder_en/DNN/ResidualHidden_0/weights:0 from checkpoint /var/folders/hp/gzm_7hs931v5kt53p6rywh5w00fqrl/T/tfhub_modules/c6f5954ffa065cdb2f2e604e740e8838bf21a2d3/variables/variables with Encoder_en/DNN/ResidualHidden_0/weights\n",
            "INFO:tensorflow:Initialize variable dnn/input_from_feature_columns/input_layer/title_hub_module_embedding/module/Encoder_en/DNN/ResidualHidden_1/weights:0 from checkpoint /var/folders/hp/gzm_7hs931v5kt53p6rywh5w00fqrl/T/tfhub_modules/c6f5954ffa065cdb2f2e604e740e8838bf21a2d3/variables/variables with Encoder_en/DNN/ResidualHidden_1/weights\n",
            "INFO:tensorflow:Initialize variable dnn/input_from_feature_columns/input_layer/title_hub_module_embedding/module/Encoder_en/DNN/ResidualHidden_2/weights:0 from checkpoint /var/folders/hp/gzm_7hs931v5kt53p6rywh5w00fqrl/T/tfhub_modules/c6f5954ffa065cdb2f2e604e740e8838bf21a2d3/variables/variables with Encoder_en/DNN/ResidualHidden_2/weights\n"
          ]
        },
        {
          "name": "stderr",
          "output_type": "stream",
          "text": [
            "INFO:tensorflow:Initialize variable dnn/input_from_feature_columns/input_layer/title_hub_module_embedding/module/Encoder_en/DNN/ResidualHidden_3/projection:0 from checkpoint /var/folders/hp/gzm_7hs931v5kt53p6rywh5w00fqrl/T/tfhub_modules/c6f5954ffa065cdb2f2e604e740e8838bf21a2d3/variables/variables with Encoder_en/DNN/ResidualHidden_3/projection\n",
            "INFO:tensorflow:Initialize variable dnn/input_from_feature_columns/input_layer/title_hub_module_embedding/module/Encoder_en/DNN/ResidualHidden_3/weights:0 from checkpoint /var/folders/hp/gzm_7hs931v5kt53p6rywh5w00fqrl/T/tfhub_modules/c6f5954ffa065cdb2f2e604e740e8838bf21a2d3/variables/variables with Encoder_en/DNN/ResidualHidden_3/weights\n",
            "INFO:tensorflow:Initialize variable dnn/input_from_feature_columns/input_layer/title_hub_module_embedding/module/SHARED_RANK_ANSWER/response_encoder_0/tanh_layer_0/bias:0 from checkpoint /var/folders/hp/gzm_7hs931v5kt53p6rywh5w00fqrl/T/tfhub_modules/c6f5954ffa065cdb2f2e604e740e8838bf21a2d3/variables/variables with SHARED_RANK_ANSWER/response_encoder_0/tanh_layer_0/bias\n",
            "INFO:tensorflow:Initialize variable dnn/input_from_feature_columns/input_layer/title_hub_module_embedding/module/SHARED_RANK_ANSWER/response_encoder_0/tanh_layer_0/weights:0 from checkpoint /var/folders/hp/gzm_7hs931v5kt53p6rywh5w00fqrl/T/tfhub_modules/c6f5954ffa065cdb2f2e604e740e8838bf21a2d3/variables/variables with SHARED_RANK_ANSWER/response_encoder_0/tanh_layer_0/weights\n",
            "INFO:tensorflow:Initialize variable dnn/input_from_feature_columns/input_layer/title_hub_module_embedding/module/SHARED_RANK_ANSWER/response_encoder_0/tanh_layer_1/bias:0 from checkpoint /var/folders/hp/gzm_7hs931v5kt53p6rywh5w00fqrl/T/tfhub_modules/c6f5954ffa065cdb2f2e604e740e8838bf21a2d3/variables/variables with SHARED_RANK_ANSWER/response_encoder_0/tanh_layer_1/bias\n",
            "INFO:tensorflow:Initialize variable dnn/input_from_feature_columns/input_layer/title_hub_module_embedding/module/SHARED_RANK_ANSWER/response_encoder_0/tanh_layer_1/weights:0 from checkpoint /var/folders/hp/gzm_7hs931v5kt53p6rywh5w00fqrl/T/tfhub_modules/c6f5954ffa065cdb2f2e604e740e8838bf21a2d3/variables/variables with SHARED_RANK_ANSWER/response_encoder_0/tanh_layer_1/weights\n",
            "INFO:tensorflow:Initialize variable dnn/input_from_feature_columns/input_layer/title_hub_module_embedding/module/SHARED_RANK_ANSWER/response_encoder_0/tanh_layer_2/bias:0 from checkpoint /var/folders/hp/gzm_7hs931v5kt53p6rywh5w00fqrl/T/tfhub_modules/c6f5954ffa065cdb2f2e604e740e8838bf21a2d3/variables/variables with SHARED_RANK_ANSWER/response_encoder_0/tanh_layer_2/bias\n",
            "INFO:tensorflow:Initialize variable dnn/input_from_feature_columns/input_layer/title_hub_module_embedding/module/SHARED_RANK_ANSWER/response_encoder_0/tanh_layer_2/weights:0 from checkpoint /var/folders/hp/gzm_7hs931v5kt53p6rywh5w00fqrl/T/tfhub_modules/c6f5954ffa065cdb2f2e604e740e8838bf21a2d3/variables/variables with SHARED_RANK_ANSWER/response_encoder_0/tanh_layer_2/weights\n",
            "INFO:tensorflow:Initialize variable dnn/input_from_feature_columns/input_layer/title_hub_module_embedding/module/SNLI/Classifier/LinearLayer/bias:0 from checkpoint /var/folders/hp/gzm_7hs931v5kt53p6rywh5w00fqrl/T/tfhub_modules/c6f5954ffa065cdb2f2e604e740e8838bf21a2d3/variables/variables with SNLI/Classifier/LinearLayer/bias\n",
            "INFO:tensorflow:Initialize variable dnn/input_from_feature_columns/input_layer/title_hub_module_embedding/module/SNLI/Classifier/LinearLayer/weights:0 from checkpoint /var/folders/hp/gzm_7hs931v5kt53p6rywh5w00fqrl/T/tfhub_modules/c6f5954ffa065cdb2f2e604e740e8838bf21a2d3/variables/variables with SNLI/Classifier/LinearLayer/weights\n",
            "INFO:tensorflow:Initialize variable dnn/input_from_feature_columns/input_layer/title_hub_module_embedding/module/SNLI/Classifier/tanh_layer_0/bias:0 from checkpoint /var/folders/hp/gzm_7hs931v5kt53p6rywh5w00fqrl/T/tfhub_modules/c6f5954ffa065cdb2f2e604e740e8838bf21a2d3/variables/variables with SNLI/Classifier/tanh_layer_0/bias\n",
            "INFO:tensorflow:Initialize variable dnn/input_from_feature_columns/input_layer/title_hub_module_embedding/module/SNLI/Classifier/tanh_layer_0/weights:0 from checkpoint /var/folders/hp/gzm_7hs931v5kt53p6rywh5w00fqrl/T/tfhub_modules/c6f5954ffa065cdb2f2e604e740e8838bf21a2d3/variables/variables with SNLI/Classifier/tanh_layer_0/weights\n",
            "INFO:tensorflow:Initialize variable dnn/input_from_feature_columns/input_layer/title_hub_module_embedding/module/global_step:0 from checkpoint /var/folders/hp/gzm_7hs931v5kt53p6rywh5w00fqrl/T/tfhub_modules/c6f5954ffa065cdb2f2e604e740e8838bf21a2d3/variables/variables with global_step\n",
            "INFO:tensorflow:Done calling model_fn.\n",
            "INFO:tensorflow:Create CheckpointSaverHook.\n",
            "INFO:tensorflow:Graph was finalized.\n",
            "INFO:tensorflow:Restoring parameters from models/news/dnn_estimator_hub/model.ckpt-526\n",
            "INFO:tensorflow:Running local_init_op.\n",
            "INFO:tensorflow:Done running local_init_op.\n",
            "INFO:tensorflow:Saving checkpoints for 527 into models/news/dnn_estimator_hub/model.ckpt.\n",
            "INFO:tensorflow:loss = 598.4553, step = 527\n",
            "INFO:tensorflow:loss = 271.04803, step = 627 (11.545 sec)\n",
            "INFO:tensorflow:loss = 306.85114, step = 727 (11.273 sec)\n",
            "INFO:tensorflow:Saving checkpoints for 730 into models/news/dnn_estimator_hub/model.ckpt.\n",
            "INFO:tensorflow:Loss for final step: 320.52805.\n",
            "INFO:tensorflow:Calling model_fn.\n",
            "INFO:tensorflow:Initialize variable dnn/input_from_feature_columns/input_layer/title_hub_module_embedding/module/Embeddings_en/sharded_0:0 from checkpoint /var/folders/hp/gzm_7hs931v5kt53p6rywh5w00fqrl/T/tfhub_modules/c6f5954ffa065cdb2f2e604e740e8838bf21a2d3/variables/variables with Embeddings_en/sharded_0\n",
            "INFO:tensorflow:Initialize variable dnn/input_from_feature_columns/input_layer/title_hub_module_embedding/module/Embeddings_en/sharded_1:0 from checkpoint /var/folders/hp/gzm_7hs931v5kt53p6rywh5w00fqrl/T/tfhub_modules/c6f5954ffa065cdb2f2e604e740e8838bf21a2d3/variables/variables with Embeddings_en/sharded_1\n",
            "INFO:tensorflow:Initialize variable dnn/input_from_feature_columns/input_layer/title_hub_module_embedding/module/Embeddings_en/sharded_10:0 from checkpoint /var/folders/hp/gzm_7hs931v5kt53p6rywh5w00fqrl/T/tfhub_modules/c6f5954ffa065cdb2f2e604e740e8838bf21a2d3/variables/variables with Embeddings_en/sharded_10\n",
            "INFO:tensorflow:Initialize variable dnn/input_from_feature_columns/input_layer/title_hub_module_embedding/module/Embeddings_en/sharded_11:0 from checkpoint /var/folders/hp/gzm_7hs931v5kt53p6rywh5w00fqrl/T/tfhub_modules/c6f5954ffa065cdb2f2e604e740e8838bf21a2d3/variables/variables with Embeddings_en/sharded_11\n",
            "INFO:tensorflow:Initialize variable dnn/input_from_feature_columns/input_layer/title_hub_module_embedding/module/Embeddings_en/sharded_12:0 from checkpoint /var/folders/hp/gzm_7hs931v5kt53p6rywh5w00fqrl/T/tfhub_modules/c6f5954ffa065cdb2f2e604e740e8838bf21a2d3/variables/variables with Embeddings_en/sharded_12\n",
            "INFO:tensorflow:Initialize variable dnn/input_from_feature_columns/input_layer/title_hub_module_embedding/module/Embeddings_en/sharded_13:0 from checkpoint /var/folders/hp/gzm_7hs931v5kt53p6rywh5w00fqrl/T/tfhub_modules/c6f5954ffa065cdb2f2e604e740e8838bf21a2d3/variables/variables with Embeddings_en/sharded_13\n",
            "INFO:tensorflow:Initialize variable dnn/input_from_feature_columns/input_layer/title_hub_module_embedding/module/Embeddings_en/sharded_14:0 from checkpoint /var/folders/hp/gzm_7hs931v5kt53p6rywh5w00fqrl/T/tfhub_modules/c6f5954ffa065cdb2f2e604e740e8838bf21a2d3/variables/variables with Embeddings_en/sharded_14\n",
            "INFO:tensorflow:Initialize variable dnn/input_from_feature_columns/input_layer/title_hub_module_embedding/module/Embeddings_en/sharded_15:0 from checkpoint /var/folders/hp/gzm_7hs931v5kt53p6rywh5w00fqrl/T/tfhub_modules/c6f5954ffa065cdb2f2e604e740e8838bf21a2d3/variables/variables with Embeddings_en/sharded_15\n",
            "INFO:tensorflow:Initialize variable dnn/input_from_feature_columns/input_layer/title_hub_module_embedding/module/Embeddings_en/sharded_16:0 from checkpoint /var/folders/hp/gzm_7hs931v5kt53p6rywh5w00fqrl/T/tfhub_modules/c6f5954ffa065cdb2f2e604e740e8838bf21a2d3/variables/variables with Embeddings_en/sharded_16\n",
            "INFO:tensorflow:Initialize variable dnn/input_from_feature_columns/input_layer/title_hub_module_embedding/module/Embeddings_en/sharded_2:0 from checkpoint /var/folders/hp/gzm_7hs931v5kt53p6rywh5w00fqrl/T/tfhub_modules/c6f5954ffa065cdb2f2e604e740e8838bf21a2d3/variables/variables with Embeddings_en/sharded_2\n"
          ]
        },
        {
          "name": "stderr",
          "output_type": "stream",
          "text": [
            "INFO:tensorflow:Initialize variable dnn/input_from_feature_columns/input_layer/title_hub_module_embedding/module/Embeddings_en/sharded_3:0 from checkpoint /var/folders/hp/gzm_7hs931v5kt53p6rywh5w00fqrl/T/tfhub_modules/c6f5954ffa065cdb2f2e604e740e8838bf21a2d3/variables/variables with Embeddings_en/sharded_3\n",
            "INFO:tensorflow:Initialize variable dnn/input_from_feature_columns/input_layer/title_hub_module_embedding/module/Embeddings_en/sharded_4:0 from checkpoint /var/folders/hp/gzm_7hs931v5kt53p6rywh5w00fqrl/T/tfhub_modules/c6f5954ffa065cdb2f2e604e740e8838bf21a2d3/variables/variables with Embeddings_en/sharded_4\n",
            "INFO:tensorflow:Initialize variable dnn/input_from_feature_columns/input_layer/title_hub_module_embedding/module/Embeddings_en/sharded_5:0 from checkpoint /var/folders/hp/gzm_7hs931v5kt53p6rywh5w00fqrl/T/tfhub_modules/c6f5954ffa065cdb2f2e604e740e8838bf21a2d3/variables/variables with Embeddings_en/sharded_5\n",
            "INFO:tensorflow:Initialize variable dnn/input_from_feature_columns/input_layer/title_hub_module_embedding/module/Embeddings_en/sharded_6:0 from checkpoint /var/folders/hp/gzm_7hs931v5kt53p6rywh5w00fqrl/T/tfhub_modules/c6f5954ffa065cdb2f2e604e740e8838bf21a2d3/variables/variables with Embeddings_en/sharded_6\n",
            "INFO:tensorflow:Initialize variable dnn/input_from_feature_columns/input_layer/title_hub_module_embedding/module/Embeddings_en/sharded_7:0 from checkpoint /var/folders/hp/gzm_7hs931v5kt53p6rywh5w00fqrl/T/tfhub_modules/c6f5954ffa065cdb2f2e604e740e8838bf21a2d3/variables/variables with Embeddings_en/sharded_7\n",
            "INFO:tensorflow:Initialize variable dnn/input_from_feature_columns/input_layer/title_hub_module_embedding/module/Embeddings_en/sharded_8:0 from checkpoint /var/folders/hp/gzm_7hs931v5kt53p6rywh5w00fqrl/T/tfhub_modules/c6f5954ffa065cdb2f2e604e740e8838bf21a2d3/variables/variables with Embeddings_en/sharded_8\n",
            "INFO:tensorflow:Initialize variable dnn/input_from_feature_columns/input_layer/title_hub_module_embedding/module/Embeddings_en/sharded_9:0 from checkpoint /var/folders/hp/gzm_7hs931v5kt53p6rywh5w00fqrl/T/tfhub_modules/c6f5954ffa065cdb2f2e604e740e8838bf21a2d3/variables/variables with Embeddings_en/sharded_9\n",
            "INFO:tensorflow:Initialize variable dnn/input_from_feature_columns/input_layer/title_hub_module_embedding/module/Encoder_en/DNN/ResidualHidden_0/weights:0 from checkpoint /var/folders/hp/gzm_7hs931v5kt53p6rywh5w00fqrl/T/tfhub_modules/c6f5954ffa065cdb2f2e604e740e8838bf21a2d3/variables/variables with Encoder_en/DNN/ResidualHidden_0/weights\n",
            "INFO:tensorflow:Initialize variable dnn/input_from_feature_columns/input_layer/title_hub_module_embedding/module/Encoder_en/DNN/ResidualHidden_1/weights:0 from checkpoint /var/folders/hp/gzm_7hs931v5kt53p6rywh5w00fqrl/T/tfhub_modules/c6f5954ffa065cdb2f2e604e740e8838bf21a2d3/variables/variables with Encoder_en/DNN/ResidualHidden_1/weights\n",
            "INFO:tensorflow:Initialize variable dnn/input_from_feature_columns/input_layer/title_hub_module_embedding/module/Encoder_en/DNN/ResidualHidden_2/weights:0 from checkpoint /var/folders/hp/gzm_7hs931v5kt53p6rywh5w00fqrl/T/tfhub_modules/c6f5954ffa065cdb2f2e604e740e8838bf21a2d3/variables/variables with Encoder_en/DNN/ResidualHidden_2/weights\n",
            "INFO:tensorflow:Initialize variable dnn/input_from_feature_columns/input_layer/title_hub_module_embedding/module/Encoder_en/DNN/ResidualHidden_3/projection:0 from checkpoint /var/folders/hp/gzm_7hs931v5kt53p6rywh5w00fqrl/T/tfhub_modules/c6f5954ffa065cdb2f2e604e740e8838bf21a2d3/variables/variables with Encoder_en/DNN/ResidualHidden_3/projection\n",
            "INFO:tensorflow:Initialize variable dnn/input_from_feature_columns/input_layer/title_hub_module_embedding/module/Encoder_en/DNN/ResidualHidden_3/weights:0 from checkpoint /var/folders/hp/gzm_7hs931v5kt53p6rywh5w00fqrl/T/tfhub_modules/c6f5954ffa065cdb2f2e604e740e8838bf21a2d3/variables/variables with Encoder_en/DNN/ResidualHidden_3/weights\n",
            "INFO:tensorflow:Initialize variable dnn/input_from_feature_columns/input_layer/title_hub_module_embedding/module/SHARED_RANK_ANSWER/response_encoder_0/tanh_layer_0/bias:0 from checkpoint /var/folders/hp/gzm_7hs931v5kt53p6rywh5w00fqrl/T/tfhub_modules/c6f5954ffa065cdb2f2e604e740e8838bf21a2d3/variables/variables with SHARED_RANK_ANSWER/response_encoder_0/tanh_layer_0/bias\n",
            "INFO:tensorflow:Initialize variable dnn/input_from_feature_columns/input_layer/title_hub_module_embedding/module/SHARED_RANK_ANSWER/response_encoder_0/tanh_layer_0/weights:0 from checkpoint /var/folders/hp/gzm_7hs931v5kt53p6rywh5w00fqrl/T/tfhub_modules/c6f5954ffa065cdb2f2e604e740e8838bf21a2d3/variables/variables with SHARED_RANK_ANSWER/response_encoder_0/tanh_layer_0/weights\n",
            "INFO:tensorflow:Initialize variable dnn/input_from_feature_columns/input_layer/title_hub_module_embedding/module/SHARED_RANK_ANSWER/response_encoder_0/tanh_layer_1/bias:0 from checkpoint /var/folders/hp/gzm_7hs931v5kt53p6rywh5w00fqrl/T/tfhub_modules/c6f5954ffa065cdb2f2e604e740e8838bf21a2d3/variables/variables with SHARED_RANK_ANSWER/response_encoder_0/tanh_layer_1/bias\n",
            "INFO:tensorflow:Initialize variable dnn/input_from_feature_columns/input_layer/title_hub_module_embedding/module/SHARED_RANK_ANSWER/response_encoder_0/tanh_layer_1/weights:0 from checkpoint /var/folders/hp/gzm_7hs931v5kt53p6rywh5w00fqrl/T/tfhub_modules/c6f5954ffa065cdb2f2e604e740e8838bf21a2d3/variables/variables with SHARED_RANK_ANSWER/response_encoder_0/tanh_layer_1/weights\n",
            "INFO:tensorflow:Initialize variable dnn/input_from_feature_columns/input_layer/title_hub_module_embedding/module/SHARED_RANK_ANSWER/response_encoder_0/tanh_layer_2/bias:0 from checkpoint /var/folders/hp/gzm_7hs931v5kt53p6rywh5w00fqrl/T/tfhub_modules/c6f5954ffa065cdb2f2e604e740e8838bf21a2d3/variables/variables with SHARED_RANK_ANSWER/response_encoder_0/tanh_layer_2/bias\n",
            "INFO:tensorflow:Initialize variable dnn/input_from_feature_columns/input_layer/title_hub_module_embedding/module/SHARED_RANK_ANSWER/response_encoder_0/tanh_layer_2/weights:0 from checkpoint /var/folders/hp/gzm_7hs931v5kt53p6rywh5w00fqrl/T/tfhub_modules/c6f5954ffa065cdb2f2e604e740e8838bf21a2d3/variables/variables with SHARED_RANK_ANSWER/response_encoder_0/tanh_layer_2/weights\n",
            "INFO:tensorflow:Initialize variable dnn/input_from_feature_columns/input_layer/title_hub_module_embedding/module/SNLI/Classifier/LinearLayer/bias:0 from checkpoint /var/folders/hp/gzm_7hs931v5kt53p6rywh5w00fqrl/T/tfhub_modules/c6f5954ffa065cdb2f2e604e740e8838bf21a2d3/variables/variables with SNLI/Classifier/LinearLayer/bias\n",
            "INFO:tensorflow:Initialize variable dnn/input_from_feature_columns/input_layer/title_hub_module_embedding/module/SNLI/Classifier/LinearLayer/weights:0 from checkpoint /var/folders/hp/gzm_7hs931v5kt53p6rywh5w00fqrl/T/tfhub_modules/c6f5954ffa065cdb2f2e604e740e8838bf21a2d3/variables/variables with SNLI/Classifier/LinearLayer/weights\n",
            "INFO:tensorflow:Initialize variable dnn/input_from_feature_columns/input_layer/title_hub_module_embedding/module/SNLI/Classifier/tanh_layer_0/bias:0 from checkpoint /var/folders/hp/gzm_7hs931v5kt53p6rywh5w00fqrl/T/tfhub_modules/c6f5954ffa065cdb2f2e604e740e8838bf21a2d3/variables/variables with SNLI/Classifier/tanh_layer_0/bias\n",
            "INFO:tensorflow:Initialize variable dnn/input_from_feature_columns/input_layer/title_hub_module_embedding/module/SNLI/Classifier/tanh_layer_0/weights:0 from checkpoint /var/folders/hp/gzm_7hs931v5kt53p6rywh5w00fqrl/T/tfhub_modules/c6f5954ffa065cdb2f2e604e740e8838bf21a2d3/variables/variables with SNLI/Classifier/tanh_layer_0/weights\n",
            "INFO:tensorflow:Initialize variable dnn/input_from_feature_columns/input_layer/title_hub_module_embedding/module/global_step:0 from checkpoint /var/folders/hp/gzm_7hs931v5kt53p6rywh5w00fqrl/T/tfhub_modules/c6f5954ffa065cdb2f2e604e740e8838bf21a2d3/variables/variables with global_step\n",
            "INFO:tensorflow:Done calling model_fn.\n",
            "INFO:tensorflow:Starting evaluation at 2018-05-14-10:18:09\n",
            "INFO:tensorflow:Graph was finalized.\n",
            "INFO:tensorflow:Restoring parameters from models/news/dnn_estimator_hub/model.ckpt-730\n",
            "INFO:tensorflow:Running local_init_op.\n",
            "INFO:tensorflow:Done running local_init_op.\n",
            "INFO:tensorflow:Finished evaluation at 2018-05-14-10:18:23\n",
            "INFO:tensorflow:Saving dict for global step 730: accuracy = 0.80796397, average_loss = 0.4452137, global_step = 730, loss = 428.12863\n"
          ]
        },
        {
          "name": "stderr",
          "output_type": "stream",
          "text": [
            "INFO:tensorflow:Calling model_fn.\n",
            "INFO:tensorflow:Initialize variable dnn/input_from_feature_columns/input_layer/title_hub_module_embedding/module/Embeddings_en/sharded_0:0 from checkpoint /var/folders/hp/gzm_7hs931v5kt53p6rywh5w00fqrl/T/tfhub_modules/c6f5954ffa065cdb2f2e604e740e8838bf21a2d3/variables/variables with Embeddings_en/sharded_0\n",
            "INFO:tensorflow:Initialize variable dnn/input_from_feature_columns/input_layer/title_hub_module_embedding/module/Embeddings_en/sharded_1:0 from checkpoint /var/folders/hp/gzm_7hs931v5kt53p6rywh5w00fqrl/T/tfhub_modules/c6f5954ffa065cdb2f2e604e740e8838bf21a2d3/variables/variables with Embeddings_en/sharded_1\n",
            "INFO:tensorflow:Initialize variable dnn/input_from_feature_columns/input_layer/title_hub_module_embedding/module/Embeddings_en/sharded_10:0 from checkpoint /var/folders/hp/gzm_7hs931v5kt53p6rywh5w00fqrl/T/tfhub_modules/c6f5954ffa065cdb2f2e604e740e8838bf21a2d3/variables/variables with Embeddings_en/sharded_10\n",
            "INFO:tensorflow:Initialize variable dnn/input_from_feature_columns/input_layer/title_hub_module_embedding/module/Embeddings_en/sharded_11:0 from checkpoint /var/folders/hp/gzm_7hs931v5kt53p6rywh5w00fqrl/T/tfhub_modules/c6f5954ffa065cdb2f2e604e740e8838bf21a2d3/variables/variables with Embeddings_en/sharded_11\n",
            "INFO:tensorflow:Initialize variable dnn/input_from_feature_columns/input_layer/title_hub_module_embedding/module/Embeddings_en/sharded_12:0 from checkpoint /var/folders/hp/gzm_7hs931v5kt53p6rywh5w00fqrl/T/tfhub_modules/c6f5954ffa065cdb2f2e604e740e8838bf21a2d3/variables/variables with Embeddings_en/sharded_12\n",
            "INFO:tensorflow:Initialize variable dnn/input_from_feature_columns/input_layer/title_hub_module_embedding/module/Embeddings_en/sharded_13:0 from checkpoint /var/folders/hp/gzm_7hs931v5kt53p6rywh5w00fqrl/T/tfhub_modules/c6f5954ffa065cdb2f2e604e740e8838bf21a2d3/variables/variables with Embeddings_en/sharded_13\n",
            "INFO:tensorflow:Initialize variable dnn/input_from_feature_columns/input_layer/title_hub_module_embedding/module/Embeddings_en/sharded_14:0 from checkpoint /var/folders/hp/gzm_7hs931v5kt53p6rywh5w00fqrl/T/tfhub_modules/c6f5954ffa065cdb2f2e604e740e8838bf21a2d3/variables/variables with Embeddings_en/sharded_14\n",
            "INFO:tensorflow:Initialize variable dnn/input_from_feature_columns/input_layer/title_hub_module_embedding/module/Embeddings_en/sharded_15:0 from checkpoint /var/folders/hp/gzm_7hs931v5kt53p6rywh5w00fqrl/T/tfhub_modules/c6f5954ffa065cdb2f2e604e740e8838bf21a2d3/variables/variables with Embeddings_en/sharded_15\n",
            "INFO:tensorflow:Initialize variable dnn/input_from_feature_columns/input_layer/title_hub_module_embedding/module/Embeddings_en/sharded_16:0 from checkpoint /var/folders/hp/gzm_7hs931v5kt53p6rywh5w00fqrl/T/tfhub_modules/c6f5954ffa065cdb2f2e604e740e8838bf21a2d3/variables/variables with Embeddings_en/sharded_16\n",
            "INFO:tensorflow:Initialize variable dnn/input_from_feature_columns/input_layer/title_hub_module_embedding/module/Embeddings_en/sharded_2:0 from checkpoint /var/folders/hp/gzm_7hs931v5kt53p6rywh5w00fqrl/T/tfhub_modules/c6f5954ffa065cdb2f2e604e740e8838bf21a2d3/variables/variables with Embeddings_en/sharded_2\n",
            "INFO:tensorflow:Initialize variable dnn/input_from_feature_columns/input_layer/title_hub_module_embedding/module/Embeddings_en/sharded_3:0 from checkpoint /var/folders/hp/gzm_7hs931v5kt53p6rywh5w00fqrl/T/tfhub_modules/c6f5954ffa065cdb2f2e604e740e8838bf21a2d3/variables/variables with Embeddings_en/sharded_3\n",
            "INFO:tensorflow:Initialize variable dnn/input_from_feature_columns/input_layer/title_hub_module_embedding/module/Embeddings_en/sharded_4:0 from checkpoint /var/folders/hp/gzm_7hs931v5kt53p6rywh5w00fqrl/T/tfhub_modules/c6f5954ffa065cdb2f2e604e740e8838bf21a2d3/variables/variables with Embeddings_en/sharded_4\n",
            "INFO:tensorflow:Initialize variable dnn/input_from_feature_columns/input_layer/title_hub_module_embedding/module/Embeddings_en/sharded_5:0 from checkpoint /var/folders/hp/gzm_7hs931v5kt53p6rywh5w00fqrl/T/tfhub_modules/c6f5954ffa065cdb2f2e604e740e8838bf21a2d3/variables/variables with Embeddings_en/sharded_5\n",
            "INFO:tensorflow:Initialize variable dnn/input_from_feature_columns/input_layer/title_hub_module_embedding/module/Embeddings_en/sharded_6:0 from checkpoint /var/folders/hp/gzm_7hs931v5kt53p6rywh5w00fqrl/T/tfhub_modules/c6f5954ffa065cdb2f2e604e740e8838bf21a2d3/variables/variables with Embeddings_en/sharded_6\n",
            "INFO:tensorflow:Initialize variable dnn/input_from_feature_columns/input_layer/title_hub_module_embedding/module/Embeddings_en/sharded_7:0 from checkpoint /var/folders/hp/gzm_7hs931v5kt53p6rywh5w00fqrl/T/tfhub_modules/c6f5954ffa065cdb2f2e604e740e8838bf21a2d3/variables/variables with Embeddings_en/sharded_7\n",
            "INFO:tensorflow:Initialize variable dnn/input_from_feature_columns/input_layer/title_hub_module_embedding/module/Embeddings_en/sharded_8:0 from checkpoint /var/folders/hp/gzm_7hs931v5kt53p6rywh5w00fqrl/T/tfhub_modules/c6f5954ffa065cdb2f2e604e740e8838bf21a2d3/variables/variables with Embeddings_en/sharded_8\n",
            "INFO:tensorflow:Initialize variable dnn/input_from_feature_columns/input_layer/title_hub_module_embedding/module/Embeddings_en/sharded_9:0 from checkpoint /var/folders/hp/gzm_7hs931v5kt53p6rywh5w00fqrl/T/tfhub_modules/c6f5954ffa065cdb2f2e604e740e8838bf21a2d3/variables/variables with Embeddings_en/sharded_9\n",
            "INFO:tensorflow:Initialize variable dnn/input_from_feature_columns/input_layer/title_hub_module_embedding/module/Encoder_en/DNN/ResidualHidden_0/weights:0 from checkpoint /var/folders/hp/gzm_7hs931v5kt53p6rywh5w00fqrl/T/tfhub_modules/c6f5954ffa065cdb2f2e604e740e8838bf21a2d3/variables/variables with Encoder_en/DNN/ResidualHidden_0/weights\n",
            "INFO:tensorflow:Initialize variable dnn/input_from_feature_columns/input_layer/title_hub_module_embedding/module/Encoder_en/DNN/ResidualHidden_1/weights:0 from checkpoint /var/folders/hp/gzm_7hs931v5kt53p6rywh5w00fqrl/T/tfhub_modules/c6f5954ffa065cdb2f2e604e740e8838bf21a2d3/variables/variables with Encoder_en/DNN/ResidualHidden_1/weights\n",
            "INFO:tensorflow:Initialize variable dnn/input_from_feature_columns/input_layer/title_hub_module_embedding/module/Encoder_en/DNN/ResidualHidden_2/weights:0 from checkpoint /var/folders/hp/gzm_7hs931v5kt53p6rywh5w00fqrl/T/tfhub_modules/c6f5954ffa065cdb2f2e604e740e8838bf21a2d3/variables/variables with Encoder_en/DNN/ResidualHidden_2/weights\n",
            "INFO:tensorflow:Initialize variable dnn/input_from_feature_columns/input_layer/title_hub_module_embedding/module/Encoder_en/DNN/ResidualHidden_3/projection:0 from checkpoint /var/folders/hp/gzm_7hs931v5kt53p6rywh5w00fqrl/T/tfhub_modules/c6f5954ffa065cdb2f2e604e740e8838bf21a2d3/variables/variables with Encoder_en/DNN/ResidualHidden_3/projection\n",
            "INFO:tensorflow:Initialize variable dnn/input_from_feature_columns/input_layer/title_hub_module_embedding/module/Encoder_en/DNN/ResidualHidden_3/weights:0 from checkpoint /var/folders/hp/gzm_7hs931v5kt53p6rywh5w00fqrl/T/tfhub_modules/c6f5954ffa065cdb2f2e604e740e8838bf21a2d3/variables/variables with Encoder_en/DNN/ResidualHidden_3/weights\n",
            "INFO:tensorflow:Initialize variable dnn/input_from_feature_columns/input_layer/title_hub_module_embedding/module/SHARED_RANK_ANSWER/response_encoder_0/tanh_layer_0/bias:0 from checkpoint /var/folders/hp/gzm_7hs931v5kt53p6rywh5w00fqrl/T/tfhub_modules/c6f5954ffa065cdb2f2e604e740e8838bf21a2d3/variables/variables with SHARED_RANK_ANSWER/response_encoder_0/tanh_layer_0/bias\n",
            "INFO:tensorflow:Initialize variable dnn/input_from_feature_columns/input_layer/title_hub_module_embedding/module/SHARED_RANK_ANSWER/response_encoder_0/tanh_layer_0/weights:0 from checkpoint /var/folders/hp/gzm_7hs931v5kt53p6rywh5w00fqrl/T/tfhub_modules/c6f5954ffa065cdb2f2e604e740e8838bf21a2d3/variables/variables with SHARED_RANK_ANSWER/response_encoder_0/tanh_layer_0/weights\n",
            "INFO:tensorflow:Initialize variable dnn/input_from_feature_columns/input_layer/title_hub_module_embedding/module/SHARED_RANK_ANSWER/response_encoder_0/tanh_layer_1/bias:0 from checkpoint /var/folders/hp/gzm_7hs931v5kt53p6rywh5w00fqrl/T/tfhub_modules/c6f5954ffa065cdb2f2e604e740e8838bf21a2d3/variables/variables with SHARED_RANK_ANSWER/response_encoder_0/tanh_layer_1/bias\n",
            "INFO:tensorflow:Initialize variable dnn/input_from_feature_columns/input_layer/title_hub_module_embedding/module/SHARED_RANK_ANSWER/response_encoder_0/tanh_layer_1/weights:0 from checkpoint /var/folders/hp/gzm_7hs931v5kt53p6rywh5w00fqrl/T/tfhub_modules/c6f5954ffa065cdb2f2e604e740e8838bf21a2d3/variables/variables with SHARED_RANK_ANSWER/response_encoder_0/tanh_layer_1/weights\n"
          ]
        },
        {
          "name": "stderr",
          "output_type": "stream",
          "text": [
            "INFO:tensorflow:Initialize variable dnn/input_from_feature_columns/input_layer/title_hub_module_embedding/module/SHARED_RANK_ANSWER/response_encoder_0/tanh_layer_2/bias:0 from checkpoint /var/folders/hp/gzm_7hs931v5kt53p6rywh5w00fqrl/T/tfhub_modules/c6f5954ffa065cdb2f2e604e740e8838bf21a2d3/variables/variables with SHARED_RANK_ANSWER/response_encoder_0/tanh_layer_2/bias\n",
            "INFO:tensorflow:Initialize variable dnn/input_from_feature_columns/input_layer/title_hub_module_embedding/module/SHARED_RANK_ANSWER/response_encoder_0/tanh_layer_2/weights:0 from checkpoint /var/folders/hp/gzm_7hs931v5kt53p6rywh5w00fqrl/T/tfhub_modules/c6f5954ffa065cdb2f2e604e740e8838bf21a2d3/variables/variables with SHARED_RANK_ANSWER/response_encoder_0/tanh_layer_2/weights\n",
            "INFO:tensorflow:Initialize variable dnn/input_from_feature_columns/input_layer/title_hub_module_embedding/module/SNLI/Classifier/LinearLayer/bias:0 from checkpoint /var/folders/hp/gzm_7hs931v5kt53p6rywh5w00fqrl/T/tfhub_modules/c6f5954ffa065cdb2f2e604e740e8838bf21a2d3/variables/variables with SNLI/Classifier/LinearLayer/bias\n",
            "INFO:tensorflow:Initialize variable dnn/input_from_feature_columns/input_layer/title_hub_module_embedding/module/SNLI/Classifier/LinearLayer/weights:0 from checkpoint /var/folders/hp/gzm_7hs931v5kt53p6rywh5w00fqrl/T/tfhub_modules/c6f5954ffa065cdb2f2e604e740e8838bf21a2d3/variables/variables with SNLI/Classifier/LinearLayer/weights\n",
            "INFO:tensorflow:Initialize variable dnn/input_from_feature_columns/input_layer/title_hub_module_embedding/module/SNLI/Classifier/tanh_layer_0/bias:0 from checkpoint /var/folders/hp/gzm_7hs931v5kt53p6rywh5w00fqrl/T/tfhub_modules/c6f5954ffa065cdb2f2e604e740e8838bf21a2d3/variables/variables with SNLI/Classifier/tanh_layer_0/bias\n",
            "INFO:tensorflow:Initialize variable dnn/input_from_feature_columns/input_layer/title_hub_module_embedding/module/SNLI/Classifier/tanh_layer_0/weights:0 from checkpoint /var/folders/hp/gzm_7hs931v5kt53p6rywh5w00fqrl/T/tfhub_modules/c6f5954ffa065cdb2f2e604e740e8838bf21a2d3/variables/variables with SNLI/Classifier/tanh_layer_0/weights\n",
            "INFO:tensorflow:Initialize variable dnn/input_from_feature_columns/input_layer/title_hub_module_embedding/module/global_step:0 from checkpoint /var/folders/hp/gzm_7hs931v5kt53p6rywh5w00fqrl/T/tfhub_modules/c6f5954ffa065cdb2f2e604e740e8838bf21a2d3/variables/variables with global_step\n",
            "INFO:tensorflow:Done calling model_fn.\n",
            "INFO:tensorflow:Signatures INCLUDED in export for Classify: ['serving_default', 'classification']\n",
            "INFO:tensorflow:Signatures INCLUDED in export for Regress: None\n",
            "INFO:tensorflow:Signatures INCLUDED in export for Predict: ['predict']\n",
            "INFO:tensorflow:Restoring parameters from models/news/dnn_estimator_hub/model.ckpt-730\n",
            "INFO:tensorflow:Assets added to graph.\n",
            "INFO:tensorflow:No assets to write.\n",
            "INFO:tensorflow:SavedModel written to: models/news/dnn_estimator_hub/export/estimate/temp-1526293109/saved_model.pb\n"
          ]
        },
        {
          "name": "stdout",
          "output_type": "stream",
          "text": [
            ".......................................\n",
            "Experiment finished at 10:18:37\n",
            "\n",
            "Experiment elapsed time: 311.751493 seconds\n"
          ]
        }
      ],
      "source": [
        "from datetime import datetime\n",
        "import shutil\n",
        "\n",
        "if Params.TRAIN:\n",
        "    if not Params.RESUME_TRAINING:\n",
        "        print(\"Removing previous training artefacts...\")\n",
        "        shutil.rmtree(model_dir, ignore_errors=True)\n",
        "    else:\n",
        "        print(\"Resuming training...\") \n",
        "\n",
        "\n",
        "    tf.logging.set_verbosity(tf.logging.INFO)\n",
        "\n",
        "    time_start = datetime.utcnow() \n",
        "    print(\"Experiment started at {}\".format(time_start.strftime(\"%H:%M:%S\")))\n",
        "    print(\".......................................\") \n",
        "\n",
        "    estimator = create_estimator_hub(hparams, run_config)\n",
        "\n",
        "    tf.estimator.train_and_evaluate(\n",
        "        estimator=estimator,\n",
        "        train_spec=train_spec, \n",
        "        eval_spec=eval_spec\n",
        "    )\n",
        "\n",
        "    time_end = datetime.utcnow() \n",
        "    print(\".......................................\")\n",
        "    print(\"Experiment finished at {}\".format(time_end.strftime(\"%H:%M:%S\")))\n",
        "    print(\"\")\n",
        "    time_elapsed = time_end - time_start\n",
        "    print(\"Experiment elapsed time: {} seconds\".format(time_elapsed.total_seconds()))\n",
        "else:\n",
        "    print \"Training was skipped!\""
      ]
    },
    {
      "cell_type": "markdown",
      "metadata": {
        "id": "Icu0XsK546LM"
      },
      "source": [
        "### 6. Avalie o modelo"
      ]
    },
    {
      "cell_type": "code",
      "execution_count": null,
      "metadata": {
        "id": "SDfbqiE946LN",
        "outputId": "0bcecad9-67f2-4b5e-df8e-ac27e216d737"
      },
      "outputs": [
        {
          "name": "stdout",
          "output_type": "stream",
          "text": [
            "feature columns: \n",
            " [_ModuleEmbeddingColumn(key='title', module_spec=<tensorflow_hub.native_module._ModuleSpec object at 0x10bfaa410>, trainable=False)]\n",
            "\n",
            "############################################################################################\n",
            "# Train Measures: {'average_loss': 0.41785577, 'accuracy': 0.81907445, 'global_step': 730, 'loss': 30555.285}\n",
            "############################################################################################\n",
            "\n",
            "############################################################################################\n",
            "# Valid Measures: {'average_loss': 0.44521362, 'accuracy': 0.80796397, 'global_step': 730, 'loss': 10275.085}\n",
            "############################################################################################\n"
          ]
        }
      ],
      "source": [
        "TRAIN_SIZE = 73124\n",
        "VALID_SIZE = 23079\n",
        "\n",
        "tf.logging.set_verbosity(tf.logging.ERROR)\n",
        "\n",
        "estimator = create_estimator_hub(hparams, run_config)\n",
        "\n",
        "train_metrics = estimator.evaluate(\n",
        "    input_fn = generate_tsv_input_fn(\n",
        "        files_pattern= Params.RAW_TRAIN_DATA_FILE_PREFEX+\"*\", \n",
        "        mode= tf.estimator.ModeKeys.EVAL,\n",
        "        batch_size= TRAIN_SIZE), \n",
        "    steps=1\n",
        ")\n",
        "\n",
        "\n",
        "print(\"############################################################################################\")\n",
        "print(\"# Train Measures: {}\".format(train_metrics))\n",
        "print(\"############################################################################################\")\n",
        "\n",
        "eval_metrics = estimator.evaluate(\n",
        "    input_fn=generate_tsv_input_fn(\n",
        "        files_pattern=Params.RAW_EVAL_DATA_FILE_PREFEX+\"*\", \n",
        "        mode= tf.estimator.ModeKeys.EVAL,\n",
        "        batch_size= TRAIN_SIZE), \n",
        "    steps=1\n",
        ")\n",
        "print(\"\")\n",
        "print(\"############################################################################################\")\n",
        "print(\"# Valid Measures: {}\".format(eval_metrics))\n",
        "print(\"############################################################################################\")\n"
      ]
    },
    {
      "cell_type": "markdown",
      "metadata": {
        "id": "doN0hell46LN"
      },
      "source": [
        "\n",
        "### 7. Use SavedModel para previsões"
      ]
    },
    {
      "cell_type": "code",
      "execution_count": null,
      "metadata": {
        "id": "_WUtEMaU46LO",
        "outputId": "1cde350c-146b-478e-b7d4-bc26a2eff858"
      },
      "outputs": [
        {
          "name": "stdout",
          "output_type": "stream",
          "text": [
            "models/news/dnn_estimator_hub/export/estimate/1526293109\n",
            "\n",
            "{u'probabilities': array([[0.00792912, 0.21930656, 0.7727643 ],\n",
            "       [0.96785396, 0.00633955, 0.02580654],\n",
            "       [0.00833155, 0.73318887, 0.25847965]], dtype=float32), u'logits': array([[-3.566102  , -0.24617395,  1.0133296 ],\n",
            "       [ 3.0685568 , -1.9597167 , -0.55589646],\n",
            "       [-3.0780482 ,  1.3993053 ,  0.35671908]], dtype=float32), u'classes': array([['techcrunch'],\n",
            "       ['github'],\n",
            "       ['nytimes']], dtype=object), u'class_ids': array([[2],\n",
            "       [0],\n",
            "       [1]])}\n"
          ]
        }
      ],
      "source": [
        "import os\n",
        "\n",
        "export_dir = model_dir +\"/export/estimate/\"\n",
        "saved_model_dir = os.path.join(export_dir, os.listdir(export_dir)[0])\n",
        "\n",
        "print(saved_model_dir)\n",
        "print(\"\")\n",
        "\n",
        "predictor_fn = tf.contrib.predictor.from_saved_model(\n",
        "    export_dir = saved_model_dir,\n",
        "    signature_def_key=\"predict\"\n",
        ")\n",
        "\n",
        "output = predictor_fn(\n",
        "    {\n",
        "        'title':[\n",
        "            'Microsoft and Google are joining forces for a new AI framework',\n",
        "            'A new version of Python is mind blowing',\n",
        "            'EU is investigating new data privacy policies'\n",
        "        ]\n",
        "        \n",
        "    }\n",
        ")\n",
        "print(output)"
      ]
    },
    {
      "cell_type": "code",
      "execution_count": null,
      "metadata": {
        "id": "e4aXNoH446LO"
      },
      "outputs": [],
      "source": []
    }
  ],
  "metadata": {
    "kernelspec": {
      "display_name": "Python 2",
      "language": "python",
      "name": "python2"
    },
    "language_info": {
      "codemirror_mode": {
        "name": "ipython",
        "version": 2
      },
      "file_extension": ".py",
      "mimetype": "text/x-python",
      "name": "python",
      "nbconvert_exporter": "python",
      "pygments_lexer": "ipython2",
      "version": "2.7.10"
    },
    "colab": {
      "provenance": []
    }
  },
  "nbformat": 4,
  "nbformat_minor": 0
}