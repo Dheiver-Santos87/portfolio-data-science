{
  "cells": [
    {
      "cell_type": "code",
      "execution_count": null,
      "metadata": {
        "collapsed": true,
        "id": "flEhI4Fyy6tI"
      },
      "outputs": [],
      "source": [
        "import os\n",
        "import re\n",
        "import sys\n",
        "import tarfile\n",
        "from six.moves import urllib\n",
        "\n",
        "def maybe_download_and_extract(\n",
        "  dest_directory='data',\n",
        "  data_url='http://www.cs.toronto.edu/~kriz/cifar-10-binary.tar.gz'):\n",
        "  \n",
        "  \"\"\"Download and extract the tarball from Alex's website.\"\"\"\n",
        "  dest_directory = dest_directory\n",
        "  if not os.path.exists(dest_directory):\n",
        "    os.makedirs(dest_directory)\n",
        "  filename = data_url.split('/')[-1]\n",
        "  filepath = os.path.join(dest_directory, filename)\n",
        "  if not os.path.exists(filepath):\n",
        "    def _progress(count, block_size, total_size):\n",
        "      sys.stdout.write('\\r>> Downloading %s %.1f%%' % (\n",
        "          filename, float(count * block_size) / float(total_size) * 100.0))\n",
        "      sys.stdout.flush()\n",
        "    filepath, _ = urllib.request.urlretrieve(DATA_URL, filepath, _progress)\n",
        "    print()\n",
        "    statinfo = os.stat(filepath)\n",
        "    print('Successfully downloaded', filename, statinfo.st_size, 'bytes.')\n",
        "  extracted_dir_path = os.path.join(dest_directory, 'cifar-10-batches-bin')\n",
        "  if not os.path.exists(extracted_dir_path):\n",
        "    tarfile.open(filepath, 'r:gz').extractall(dest_directory)"
      ]
    },
    {
      "cell_type": "code",
      "execution_count": null,
      "metadata": {
        "collapsed": true,
        "id": "SlGAJyrVy6tM"
      },
      "outputs": [],
      "source": [
        "DATA_DIR = 'data'\n",
        "DATA_URL = 'http://www.cs.toronto.edu/~kriz/cifar-10-binary.tar.gz'\n",
        "maybe_download_and_extract(DATA_DIR, DATA_URL)"
      ]
    },
    {
      "cell_type": "code",
      "execution_count": null,
      "metadata": {
        "collapsed": true,
        "id": "3yFqlaoRy6tO"
      },
      "outputs": [],
      "source": [
        "import numpy as np\n",
        "import matplotlib.pyplot as plt\n",
        "\n",
        "def extract_data(index=0, filepath='data/cifar-10-batches-bin/data_batch_5.bin'):\n",
        "  bytestream = open(filepath, mode='rb')\n",
        "\n",
        "  label_bytes_length = 1\n",
        "  image_bytes_length = (32 ** 2) * 3\n",
        "  record_bytes_length = label_bytes_length + image_bytes_length\n",
        "\n",
        "  bytestream.seek(record_bytes_length * index, 0)\n",
        "  label_bytes = bytestream.read(label_bytes_length)\n",
        "  image_bytes = bytestream.read(image_bytes_length)\n",
        "\n",
        "  label = np.frombuffer(label_bytes, dtype=np.uint8)  \n",
        "  image = np.frombuffer(image_bytes, dtype=np.uint8)\n",
        "  \n",
        "  image = np.reshape(image, [3, 32, 32])\n",
        "  image = np.transpose(image, [1, 2, 0])\n",
        "  image = image.astype(np.float32)\n",
        "  \n",
        "  result = {\n",
        "    'image': image,\n",
        "    'label': label,\n",
        "  }\n",
        "  bytestream.close()\n",
        "  return result"
      ]
    },
    {
      "cell_type": "code",
      "execution_count": null,
      "metadata": {
        "id": "GZUzISORy6tP",
        "outputId": "f98f497c-3c4d-4768-f96a-1b54f6f4da7d"
      },
      "outputs": [
        {
          "data": {
            "text/plain": [
              "<matplotlib.image.AxesImage at 0x7f29221f2b90>"
            ]
          },
          "execution_count": 4,
          "metadata": {},
          "output_type": "execute_result"
        },
        {
          "data": {
            "image/png": "[encoded data removed]",
            "text/plain": [
              "<matplotlib.figure.Figure at 0x7f295c58d610>"
            ]
          },
          "metadata": {},
          "output_type": "display_data"
        }
      ],
      "source": [
        "%matplotlib inline\n",
        "result = extract_data(np.random.randint(1000), filepath='data/cifar-10-batches-bin/test_batch.bin')\n",
        "plt.imshow(result['image'])"
      ]
    },
    {
      "cell_type": "markdown",
      "metadata": {
        "id": "Y78u0gAoy6tT"
      },
      "source": [
        "## Etapas para usar as APIs do TF Estimator\n",
        "1. Defina o conjunto de dados **metadados** e **constantes globais**\n",
        "2. Defina **função de entrada de dados** para ler os dados da fonte + **aplicar pré-processamento**\n",
        "3. Crie **colunas de recursos** do TF com base em metadados + **colunas de recursos estendidos**\n",
        "4. Instancie uma **função de modelo** com as **colunas de recursos, EstimatorSpecs e parâmetros** necessários\n",
        "5. Defina uma **função de veiculação**\n",
        "6. Execute o **Experimento** fornecendo dados de treinamento e validação, bem como os parâmetros necessários\n",
        "7. **Avalie** o modelo usando dados de teste\n",
        "8. Realize **previsões**"
      ]
    },
    {
      "cell_type": "code",
      "execution_count": null,
      "metadata": {
        "id": "1X4mtTUIy6tU",
        "outputId": "5e177c89-c5de-4a79-d790-8e648a13b48f"
      },
      "outputs": [
        {
          "name": "stdout",
          "output_type": "stream",
          "text": [
            "1.4.0\n"
          ]
        }
      ],
      "source": [
        "import math\n",
        "import shutil\n",
        "import tensorflow as tf\n",
        "\n",
        "from datetime import datetime\n",
        "from tensorflow.python.feature_column import feature_column\n",
        "\n",
        "from tensorflow.contrib.learn import learn_runner\n",
        "from tensorflow.contrib.learn import make_export_strategy\n",
        "\n",
        "print(tf.__version__)"
      ]
    },
    {
      "cell_type": "code",
      "execution_count": null,
      "metadata": {
        "collapsed": true,
        "id": "pXZQeqzmy6tV"
      },
      "outputs": [],
      "source": [
        "train_data_files = ['data/cifar-10-batches-bin/data_batch_{}.bin'.format(i) for i in range(1,5)]\n",
        "valid_data_files = ['data/cifar-10-batches-bin/data_batch_5.bin']\n",
        "test_data_files = ['data/cifar-10-batches-bin/test_batch.bin']"
      ]
    },
    {
      "cell_type": "markdown",
      "metadata": {
        "id": "Tkcd7L1uy6tW"
      },
      "source": [
        "## 1. Definir metadados do conjunto de dados e constantes globais"
      ]
    },
    {
      "cell_type": "code",
      "execution_count": null,
      "metadata": {
        "collapsed": true,
        "id": "J3MjVPWzy6tX"
      },
      "outputs": [],
      "source": [
        "# Process images of this size. Note that this differs from the original CIFAR\n",
        "# image size of 32 x 32. If one alters this number, then the entire model\n",
        "# architecture will change and any model would need to be retrained.\n",
        "IMAGE_HEIGHT = 32\n",
        "IMAGE_WIDTH = 32\n",
        "IMAGE_DEPTH = 3\n",
        "\n",
        "# Global constants describing the CIFAR-10 data set.\n",
        "NUM_CLASSES = 10\n",
        "NUM_EXAMPLES_PER_EPOCH_FOR_TRAIN = 50000\n",
        "NUM_EXAMPLES_PER_EPOCH_FOR_EVAL = 10000\n",
        "\n",
        "# If a model is trained with multiple GPUs, prefix all Op names with tower_name\n",
        "# to differentiate the operations. Note that this prefix is removed from the\n",
        "# names of the summaries when visualizing a model.\n",
        "TOWER_NAME = 'tower'\n",
        "\n",
        "# We use a weight decay of 0.0002, which performs better than the 0.0001 that\n",
        "# was originally suggested.\n",
        "WEIGHT_DECAY = 2e-4\n",
        "MOMENTUM = 0.9\n",
        "\n",
        "# Global constants describing model behaviors\n",
        "MODEL_NAME = 'cnn-model-03'\n",
        "USE_CHECKPOINT = False"
      ]
    },
    {
      "cell_type": "markdown",
      "metadata": {
        "id": "Ixjng_IVy6tY"
      },
      "source": [
        "## 2. Definir função de entrada de dados"
      ]
    },
    {
      "cell_type": "markdown",
      "metadata": {
        "id": "bWw_gujGy6tY"
      },
      "source": [
        "### a. analisando o conjunto de dados CIFAR-10"
      ]
    },
    {
      "cell_type": "code",
      "execution_count": null,
      "metadata": {
        "collapsed": true,
        "id": "lmtEdcYCy6tZ"
      },
      "outputs": [],
      "source": [
        "def parse_record(raw_record):\n",
        "  # Every record consists of a label followed by the image, with a fixed number\n",
        "  # of bytes for each.\n",
        "  label_bytes = 1\n",
        "  image_bytes = IMAGE_HEIGHT * IMAGE_WIDTH * IMAGE_DEPTH\n",
        "  record_bytes = label_bytes + image_bytes\n",
        "  \n",
        "  # Convert from a string to a vector of uint8 that is record_bytes long.\n",
        "  record_vector = tf.decode_raw(raw_record, tf.uint8)\n",
        "  \n",
        "  # The first byte represents the label, which we convert from uint8 to int32\n",
        "  # and then to one-hot.\n",
        "  label = tf.cast(record_vector[0], tf.int32)\n",
        "  label = tf.one_hot(label, NUM_CLASSES)\n",
        "  \n",
        "  # The remaining bytes after the label represent the image, which we reshape\n",
        "  # from [depth * height * width] to [depth, height, width].\n",
        "  depth_major = tf.reshape(\n",
        "    record_vector[label_bytes:record_bytes], [IMAGE_DEPTH, IMAGE_HEIGHT, IMAGE_WIDTH])\n",
        "  \n",
        "  # Convert from [depth, height, width] to [height, width, depth], and cast as\n",
        "  # float32.\n",
        "  image = tf.cast(tf.transpose(depth_major, [1, 2, 0]), tf.float32)\n",
        "  \n",
        "  return image, label"
      ]
    },
    {
      "cell_type": "markdown",
      "metadata": {
        "id": "4oDC6V18y6ta"
      },
      "source": [
        "### b. pré-processamento do conjunto de dados CIFAR-10"
      ]
    },
    {
      "cell_type": "code",
      "execution_count": null,
      "metadata": {
        "collapsed": true,
        "id": "HrJsXMyLy6ta"
      },
      "outputs": [],
      "source": [
        "def preprocess_image(image, is_training=False):\n",
        "  \"\"\"Preprocess a single image of layout [height, width, depth].\"\"\"\n",
        "  if is_training:\n",
        "    # Resize the image to add four extra pixels on each side.\n",
        "    image = tf.image.resize_image_with_crop_or_pad(\n",
        "        image, IMAGE_HEIGHT + 8, IMAGE_WIDTH + 8)\n",
        "\n",
        "    # Randomly crop a [_HEIGHT, _WIDTH] section of the image.\n",
        "    image = tf.random_crop(image, [IMAGE_HEIGHT, IMAGE_WIDTH, IMAGE_DEPTH])\n",
        "\n",
        "    # Randomly flip the image horizontally.\n",
        "    image = tf.image.random_flip_left_right(image)\n",
        "\n",
        "  # Subtract off the mean and divide by the variance of the pixels.\n",
        "  image = tf.image.per_image_standardization(image)\n",
        "  return image"
      ]
    },
    {
      "cell_type": "markdown",
      "metadata": {
        "id": "NbJluC1yy6tb"
      },
      "source": [
        "### c. função para entrada / pipeline de dados\n",
        "\n"
      ]
    },
    {
      "cell_type": "code",
      "execution_count": null,
      "metadata": {
        "collapsed": true,
        "id": "tdO2zUPty6tb"
      },
      "outputs": [],
      "source": [
        "def generate_input_fn(file_names,\n",
        "                      mode=tf.estimator.ModeKeys.EVAL,\n",
        "                      num_epochs=None,\n",
        "                      batch_size=1):\n",
        "\n",
        "  def _input_fn():\n",
        "    label_bytes = 1\n",
        "    image_bytes = IMAGE_HEIGHT * IMAGE_WIDTH * IMAGE_DEPTH\n",
        "    record_bytes = label_bytes + image_bytes\n",
        "    dataset = tf.data.FixedLengthRecordDataset(filenames=file_names,\n",
        "                                               record_bytes=record_bytes)\n",
        "\n",
        "    is_training = (mode == tf.estimator.ModeKeys.TRAIN)\n",
        "    if is_training:\n",
        "      buffer_size = batch_size * 2 + 1\n",
        "      dataset = dataset.shuffle(buffer_size=buffer_size)\n",
        "\n",
        "    dataset = dataset.map(parse_record)\n",
        "    dataset = dataset.map(lambda image, label: (preprocess_image(image, is_training), label))\n",
        "\n",
        "    dataset = dataset.prefetch(2 * batch_size)\n",
        "\n",
        "    # We call repeat after shuffling, rather than before, to prevent separate\n",
        "    # epochs from blending together.\n",
        "    dataset = dataset.repeat(num_epochs)\n",
        "\n",
        "    # Batch results by up to batch_size, and then fetch the tuple from the\n",
        "    # iterator.\n",
        "    dataset = dataset.batch(batch_size)\n",
        "    iterator = dataset.make_one_shot_iterator()\n",
        "    images, labels = iterator.get_next()\n",
        "\n",
        "    features = {'images': images}\n",
        "    return features, labels\n",
        "  \n",
        "  return _input_fn"
      ]
    },
    {
      "cell_type": "markdown",
      "metadata": {
        "id": "uJbh5A9Dy6tc"
      },
      "source": [
        "## 3. Definir Recursos"
      ]
    },
    {
      "cell_type": "code",
      "execution_count": null,
      "metadata": {
        "collapsed": true,
        "id": "J4B1ngpry6tc"
      },
      "outputs": [],
      "source": [
        "def get_feature_columns():\n",
        "  feature_columns = {\n",
        "    'images': tf.feature_column.numeric_column('images', (IMAGE_HEIGHT, IMAGE_WIDTH, IMAGE_DEPTH)),\n",
        "  }\n",
        "  return feature_columns"
      ]
    },
    {
      "cell_type": "code",
      "execution_count": null,
      "metadata": {
        "id": "43hpuaMSy6td",
        "outputId": "954db2bf-f03f-432c-cea8-89e65de2bbdb"
      },
      "outputs": [
        {
          "name": "stdout",
          "output_type": "stream",
          "text": [
            "Feature Columns: {'images': _NumericColumn(key='images', shape=(32, 32, 3), default_value=None, dtype=tf.float32, normalizer_fn=None)}\n"
          ]
        }
      ],
      "source": [
        "feature_columns = get_feature_columns()\n",
        "print(\"Feature Columns: {}\".format(feature_columns))"
      ]
    },
    {
      "cell_type": "markdown",
      "metadata": {
        "id": "F8pkKjYzy6tf"
      },
      "source": [
        "## 4. Instanciar um estimador"
      ]
    },
    {
      "cell_type": "code",
      "execution_count": null,
      "metadata": {
        "collapsed": true,
        "id": "Pc77pfkNy6tg"
      },
      "outputs": [],
      "source": [
        "def get_model():\n",
        "  model = tf.keras.models.Sequential()\n",
        "  # Define input tensor in Keras world.\n",
        "  model.add(tf.keras.layers.InputLayer(\n",
        "    input_shape=(IMAGE_WIDTH, IMAGE_HEIGHT, IMAGE_DEPTH), name='images'))\n",
        "\n",
        "  # The first convolutional layer.\n",
        "  model.add(tf.keras.layers.Conv2D(\n",
        "    filters=32, kernel_size=(3, 3), padding='same', activation='relu'))\n",
        "  model.add(tf.keras.layers.MaxPool2D(pool_size=(2, 2), padding='same'))\n",
        "\n",
        "  # The second convolutional layer.\n",
        "  model.add(tf.keras.layers.Conv2D(\n",
        "    filters=32, kernel_size=(3, 3), padding='same', activation='relu'))\n",
        "  model.add(tf.keras.layers.MaxPool2D(pool_size=(2, 2), padding='same'))\n",
        "  model.add(tf.keras.layers.Dropout(0.25))\n",
        "    \n",
        "  # The third convolutional layer\n",
        "  model.add(tf.keras.layers.Conv2D(\n",
        "    filters=64, kernel_size=(3, 3), padding='same', activation='relu'))\n",
        "    \n",
        "  # The fourth convolutional layer\n",
        "  model.add(tf.keras.layers.Conv2D(\n",
        "    filters=64, kernel_size=(3, 3), padding='same', activation='relu'))\n",
        "  model.add(tf.keras.layers.Dropout(0.25))\n",
        "    \n",
        "  model.add(tf.keras.layers.Flatten())\n",
        "    \n",
        "  model.add(tf.keras.layers.Dense(512, activation='relu'))\n",
        "  model.add(tf.keras.layers.Dropout(0.5))\n",
        "\n",
        "  model.add(tf.keras.layers.Dense(NUM_CLASSES))\n",
        "  model.add(tf.keras.layers.Activation('softmax'))\n",
        "  \n",
        "  opt = tf.keras.optimizers.RMSprop(lr=0.0001, decay=1e-6)\n",
        "  model.compile(loss='categorical_crossentropy', optimizer=opt, metrics=['accuracy'])\n",
        "    \n",
        "  return model"
      ]
    },
    {
      "cell_type": "markdown",
      "metadata": {
        "id": "DT90uw4cy6th"
      },
      "source": [
        "## 5. Treinar, avaliar e exportar modelos de ML"
      ]
    },
    {
      "cell_type": "markdown",
      "metadata": {
        "id": "3hD2tWsNy6th"
      },
      "source": [
        "### a. Definir HParam e RunConfig"
      ]
    },
    {
      "cell_type": "code",
      "execution_count": null,
      "metadata": {
        "collapsed": true,
        "id": "4Ty42YV5y6th"
      },
      "outputs": [],
      "source": [
        "hparams = tf.contrib.training.HParams(\n",
        "  batch_size=200,\n",
        "  max_steps=100,\n",
        ")\n",
        "\n",
        "model_dir = 'trained_models/{}'.format(MODEL_NAME)\n",
        "\n",
        "run_config = tf.contrib.learn.RunConfig(\n",
        "  save_checkpoints_steps=200,\n",
        "  tf_random_seed=19851211,\n",
        "  model_dir=model_dir\n",
        ")"
      ]
    },
    {
      "cell_type": "markdown",
      "metadata": {
        "id": "rPql_nivy6ti"
      },
      "source": [
        "### b. Definir função de veiculação"
      ]
    },
    {
      "cell_type": "code",
      "execution_count": null,
      "metadata": {
        "collapsed": true,
        "id": "C6-Ix3JOy6ti"
      },
      "outputs": [],
      "source": [
        "# Cannot use this\n",
        "def serving_input_fn():\n",
        "\n",
        "  receiver_tensor = {'images': tf.placeholder(shape=[None, 32, 32, 3], dtype=tf.float32)}\n",
        "  features = {'images': tf.map_fn(preprocess_image, receiver_tensor['images'])}\n",
        "  \n",
        "  return tf.estimator.export.ServingInputReceiver(features, receiver_tensor)"
      ]
    },
    {
      "cell_type": "markdown",
      "metadata": {
        "id": "UCIvDTExy6tj"
      },
      "source": [
        "### c. Treinar e avaliar"
      ]
    },
    {
      "cell_type": "code",
      "execution_count": null,
      "metadata": {
        "id": "sW8UrCDXy6tj",
        "outputId": "161574cf-88f1-4578-ed14-8d7f6af52ab2"
      },
      "outputs": [
        {
          "name": "stdout",
          "output_type": "stream",
          "text": [
            "INFO:tensorflow:Using the Keras model from memory.\n",
            "INFO:tensorflow:Using default config.\n",
            "INFO:tensorflow:Using config: {'_save_checkpoints_secs': 600, '_session_config': None, '_keep_checkpoint_max': 5, '_task_type': 'worker', '_is_chief': True, '_cluster_spec': <tensorflow.python.training.server_lib.ClusterSpec object at 0x7f29067bebd0>, '_save_checkpoints_steps': None, '_keep_checkpoint_every_n_hours': 10000, '_service': None, '_num_ps_replicas': 0, '_tf_random_seed': None, '_master': '', '_num_worker_replicas': 1, '_task_id': 0, '_log_step_count_steps': 100, '_model_dir': 'trained_models/cnn-model-03', '_save_summary_steps': 100}\n"
          ]
        }
      ],
      "source": [
        "# Set learning phase as Training\n",
        "tf.keras.backend.set_learning_phase(True)\n",
        "\n",
        "# Get model defined with tf.keras\n",
        "keras_model = get_model()\n",
        "\n",
        "# Create estimator from keras model\n",
        "estimator = tf.keras.estimator.model_to_estimator(\n",
        "  keras_model=keras_model, model_dir=model_dir)\n",
        "\n",
        "# TF.Keras seems not to support exporter...\n",
        "exporter = None\n",
        "\n",
        "train_spec = tf.estimator.TrainSpec(\n",
        "  input_fn=generate_input_fn(file_names=train_data_files,\n",
        "                             mode=tf.contrib.learn.ModeKeys.TRAIN,\n",
        "                             batch_size=hparams.batch_size),\n",
        "  max_steps=hparams.max_steps,\n",
        "  hooks=None\n",
        ")\n",
        "\n",
        "eval_spec = tf.estimator.EvalSpec(\n",
        "  input_fn=generate_input_fn(file_names=valid_data_files,\n",
        "                             mode=tf.contrib.learn.ModeKeys.EVAL,\n",
        "                             batch_size=hparams.batch_size),\n",
        "  steps=50,\n",
        "  name=None,\n",
        "  hooks=None,\n",
        "  exporters=exporter, # Iterable of Exporters, or single one or None.\n",
        "  start_delay_secs=120,\n",
        "  throttle_secs=600\n",
        ")"
      ]
    },
    {
      "cell_type": "code",
      "execution_count": null,
      "metadata": {
        "id": "2olV8vs1y6tk",
        "outputId": "c637a652-7c05-41fe-d7f3-75fefbb35a7b"
      },
      "outputs": [
        {
          "name": "stdout",
          "output_type": "stream",
          "text": [
            "INFO:tensorflow:Running training and evaluation locally (non-distributed).\n",
            "INFO:tensorflow:Start train and evaluate loop. The evaluate will happen after 600 secs (eval_spec.throttle_secs) or training is finished.\n",
            "INFO:tensorflow:Skipping training since max_steps has already saved.\n",
            "INFO:tensorflow:Starting evaluation at 2017-11-30-03:33:13\n",
            "INFO:tensorflow:Restoring parameters from trained_models/cnn-model-03/model.ckpt-100\n",
            "INFO:tensorflow:Evaluation [1/50]\n",
            "INFO:tensorflow:Evaluation [2/50]\n",
            "INFO:tensorflow:Evaluation [3/50]\n",
            "INFO:tensorflow:Evaluation [4/50]\n",
            "INFO:tensorflow:Evaluation [5/50]\n",
            "INFO:tensorflow:Evaluation [6/50]\n",
            "INFO:tensorflow:Evaluation [7/50]\n",
            "INFO:tensorflow:Evaluation [8/50]\n",
            "INFO:tensorflow:Evaluation [9/50]\n",
            "INFO:tensorflow:Evaluation [10/50]\n",
            "INFO:tensorflow:Evaluation [11/50]\n",
            "INFO:tensorflow:Evaluation [12/50]\n",
            "INFO:tensorflow:Evaluation [13/50]\n",
            "INFO:tensorflow:Evaluation [14/50]\n",
            "INFO:tensorflow:Evaluation [15/50]\n",
            "INFO:tensorflow:Evaluation [16/50]\n",
            "INFO:tensorflow:Evaluation [17/50]\n",
            "INFO:tensorflow:Evaluation [18/50]\n",
            "INFO:tensorflow:Evaluation [19/50]\n",
            "INFO:tensorflow:Evaluation [20/50]\n",
            "INFO:tensorflow:Evaluation [21/50]\n",
            "INFO:tensorflow:Evaluation [22/50]\n",
            "INFO:tensorflow:Evaluation [23/50]\n",
            "INFO:tensorflow:Evaluation [24/50]\n",
            "INFO:tensorflow:Evaluation [25/50]\n",
            "INFO:tensorflow:Evaluation [26/50]\n",
            "INFO:tensorflow:Evaluation [27/50]\n",
            "INFO:tensorflow:Evaluation [28/50]\n",
            "INFO:tensorflow:Evaluation [29/50]\n",
            "INFO:tensorflow:Evaluation [30/50]\n",
            "INFO:tensorflow:Evaluation [31/50]\n",
            "INFO:tensorflow:Evaluation [32/50]\n",
            "INFO:tensorflow:Evaluation [33/50]\n",
            "INFO:tensorflow:Evaluation [34/50]\n",
            "INFO:tensorflow:Evaluation [35/50]\n",
            "INFO:tensorflow:Evaluation [36/50]\n",
            "INFO:tensorflow:Evaluation [37/50]\n",
            "INFO:tensorflow:Evaluation [38/50]\n",
            "INFO:tensorflow:Evaluation [39/50]\n",
            "INFO:tensorflow:Evaluation [40/50]\n",
            "INFO:tensorflow:Evaluation [41/50]\n",
            "INFO:tensorflow:Evaluation [42/50]\n",
            "INFO:tensorflow:Evaluation [43/50]\n",
            "INFO:tensorflow:Evaluation [44/50]\n",
            "INFO:tensorflow:Evaluation [45/50]\n",
            "INFO:tensorflow:Evaluation [46/50]\n",
            "INFO:tensorflow:Evaluation [47/50]\n",
            "INFO:tensorflow:Evaluation [48/50]\n",
            "INFO:tensorflow:Evaluation [49/50]\n",
            "INFO:tensorflow:Evaluation [50/50]\n",
            "INFO:tensorflow:Finished evaluation at 2017-11-30-03:33:17\n",
            "INFO:tensorflow:Saving dict for global step 100: accuracy = 0.3136, global_step = 100, loss = 1.88934\n"
          ]
        }
      ],
      "source": [
        "#if not USE_CHECKPOINT:\n",
        "#  print(\"Removing previous artifacts...\")\n",
        "#  shutil.rmtree(model_dir, ignore_errors=True)\n",
        "\n",
        "tf.estimator.train_and_evaluate(estimator, train_spec, eval_spec)"
      ]
    },
    {
      "cell_type": "markdown",
      "metadata": {
        "id": "KTZ5T1xLy6tl"
      },
      "source": [
        "## 6. Avalie o Modelo"
      ]
    },
    {
      "cell_type": "code",
      "execution_count": null,
      "metadata": {
        "id": "pTA23caVy6tl",
        "outputId": "55ccb80b-fae8-4ad7-b305-deae9638f63c"
      },
      "outputs": [
        {
          "name": "stdout",
          "output_type": "stream",
          "text": [
            "INFO:tensorflow:Starting evaluation at 2017-11-30-03:33:17\n",
            "INFO:tensorflow:Restoring parameters from trained_models/cnn-model-03/model.ckpt-100\n",
            "INFO:tensorflow:Evaluation [1/1]\n",
            "INFO:tensorflow:Finished evaluation at 2017-11-30-03:33:18\n",
            "INFO:tensorflow:Saving dict for global step 100: accuracy = 0.29, global_step = 100, loss = 1.95585\n",
            "######################################################################################\n",
            "# {'loss': 1.9558514, 'global_step': 100, 'accuracy': 0.28999999}\n",
            "######################################################################################\n",
            "INFO:tensorflow:Starting evaluation at 2017-11-30-03:33:18\n",
            "INFO:tensorflow:Restoring parameters from trained_models/cnn-model-03/model.ckpt-100\n",
            "INFO:tensorflow:Evaluation [1/1]\n",
            "INFO:tensorflow:Finished evaluation at 2017-11-30-03:33:19\n",
            "INFO:tensorflow:Saving dict for global step 100: accuracy = 0.311, global_step = 100, loss = 1.90885\n",
            "######################################################################################\n",
            "# {'loss': 1.9088508, 'global_step': 100, 'accuracy': 0.31099999}\n",
            "######################################################################################\n",
            "INFO:tensorflow:Starting evaluation at 2017-11-30-03:33:19\n",
            "INFO:tensorflow:Restoring parameters from trained_models/cnn-model-03/model.ckpt-100\n",
            "INFO:tensorflow:Evaluation [1/1]\n",
            "INFO:tensorflow:Finished evaluation at 2017-11-30-03:33:20\n",
            "INFO:tensorflow:Saving dict for global step 100: accuracy = 0.344, global_step = 100, loss = 1.88284\n",
            "######################################################################################\n",
            "# {'loss': 1.8828421, 'global_step': 100, 'accuracy': 0.34400001}\n",
            "######################################################################################\n"
          ]
        }
      ],
      "source": [
        "train_size = 1000\n",
        "valid_size = 1000\n",
        "test_size = 1000\n",
        "\n",
        "train_input_fn = generate_input_fn(file_names=train_data_files,\n",
        "                                   mode=tf.contrib.learn.ModeKeys.TRAIN,\n",
        "                                   batch_size=train_size)\n",
        "\n",
        "valid_input_fn = generate_input_fn(file_names=valid_data_files,\n",
        "                                   mode=tf.contrib.learn.ModeKeys.EVAL,\n",
        "                                   batch_size=valid_size)\n",
        "\n",
        "test_input_fn = generate_input_fn(file_names=test_data_files,\n",
        "                                  mode=tf.contrib.learn.ModeKeys.EVAL,\n",
        "                                  batch_size=test_size)\n",
        "\n",
        "train_results = estimator.evaluate(input_fn=train_input_fn, steps=1)\n",
        "print(\"######################################################################################\")\n",
        "print(\"# {}\".format(train_results))\n",
        "print(\"######################################################################################\")\n",
        "\n",
        "valid_results = estimator.evaluate(input_fn=valid_input_fn, steps=1)\n",
        "print(\"######################################################################################\")\n",
        "print(\"# {}\".format(valid_results))\n",
        "print(\"######################################################################################\")\n",
        "\n",
        "test_results = estimator.evaluate(input_fn=test_input_fn, steps=1)\n",
        "print(\"######################################################################################\")\n",
        "print(\"# {}\".format(test_results))\n",
        "print(\"######################################################################################\")"
      ]
    },
    {
      "cell_type": "markdown",
      "metadata": {
        "id": "mA55DjRhy6tm"
      },
      "source": [
        "## 7. Predição"
      ]
    },
    {
      "cell_type": "code",
      "execution_count": null,
      "metadata": {
        "id": "noq5kUHzy6tn",
        "outputId": "7f6ff802-f441-488e-dc2d-ce82e3d03b04"
      },
      "outputs": [
        {
          "name": "stdout",
          "output_type": "stream",
          "text": [
            "Removing previously exported model...\n",
            "INFO:tensorflow:No assets to save.\n",
            "INFO:tensorflow:No assets to write.\n",
            "INFO:tensorflow:SavedModel written to: trained_models/cnn-model-03/export/Servo/1/saved_model.pb\n",
            "INFO:tensorflow:Restoring parameters from trained_models/cnn-model-03/export/Servo/1/variables/variables\n"
          ]
        }
      ],
      "source": [
        "####\n",
        "# This cell doesn't work as intended.\n",
        "####\n",
        "\n",
        "export_dir = model_dir + '/export/Servo/'\n",
        "saved_model_dir = export_dir + '1'\n",
        "\n",
        "print(\"Removing previously exported model...\")\n",
        "shutil.rmtree(saved_model_dir, ignore_errors=True)\n",
        "\n",
        "test_type = 0\n",
        "\n",
        "if test_type == 0:\n",
        "  \"\"\"\n",
        "  This way doesn't reflect tf.keras.backend.set_learning_phase(False)\n",
        "  \"\"\"\n",
        "\n",
        "  tf.keras.backend.set_learning_phase(0)\n",
        "\n",
        "  builder = tf.saved_model.builder.SavedModelBuilder(saved_model_dir)\n",
        "\n",
        "  prediction_signature = tf.saved_model.signature_def_utils.predict_signature_def(\n",
        "    inputs={'images': keras_model.input},\n",
        "    outputs={'prediction': keras_model.output})\n",
        "\n",
        "  with tf.keras.backend.get_session() as sess:\n",
        "    builder.add_meta_graph_and_variables(\n",
        "      sess, [tf.saved_model.tag_constants.SERVING],\n",
        "      signature_def_map={\n",
        "        tf.saved_model.signature_constants.DEFAULT_SERVING_SIGNATURE_DEF_KEY:\n",
        "          prediction_signature,\n",
        "      })\n",
        "    builder.save()\n",
        "elif test_type == 1:\n",
        "  \"\"\"\n",
        "  This way reflects tf.keras.backend.set_learning_phase(False)\n",
        "  \"\"\"\n",
        "\n",
        "  tf.keras.backend.set_learning_phase(False)\n",
        "\n",
        "  config = keras_model.get_config()\n",
        "  weights = keras_model.get_weights()\n",
        "  export_model = tf.keras.models.Sequential.from_config(config)\n",
        "  export_model.set_weights(weights)\n",
        "\n",
        "  builder = tf.saved_model.builder.SavedModelBuilder(saved_model_dir)\n",
        "\n",
        "  prediction_signature = tf.saved_model.signature_def_utils.predict_signature_def(\n",
        "    inputs={'images': export_model.input},\n",
        "    outputs={'prediction': export_model.output})\n",
        "\n",
        "  with tf.keras.backend.get_session() as sess:\n",
        "    builder.add_meta_graph_and_variables(\n",
        "      sess, [tf.saved_model.tag_constants.SERVING],\n",
        "      signature_def_map={\n",
        "        tf.saved_model.signature_constants.DEFAULT_SERVING_SIGNATURE_DEF_KEY:\n",
        "          prediction_signature,\n",
        "      })\n",
        "    builder.save()\n",
        "\n",
        "# Create predictor function\n",
        "predictor_fn = tf.contrib.predictor.from_saved_model(\n",
        "  export_dir = saved_model_dir,\n",
        "  signature_def_key=tf.saved_model.signature_constants.DEFAULT_SERVING_SIGNATURE_DEF_KEY)"
      ]
    },
    {
      "cell_type": "code",
      "execution_count": null,
      "metadata": {
        "collapsed": true,
        "id": "29-m3nWBy6to"
      },
      "outputs": [],
      "source": [
        "def per_image_standardization(image):\n",
        "  \"\"\"\n",
        "  This is copy of tf.image.per_image_standardization\n",
        "  \"\"\"\n",
        "  image_mean = np.mean(image)\n",
        "  num_pixels = image.size\n",
        "  variance = (np.mean(image ** 2) - (image_mean ** 2))\n",
        "  variance = np.maximum(variance, 0)\n",
        "  stddev = np.sqrt(variance)\n",
        "  min_stddev = 1.0/np.sqrt(num_pixels)\n",
        "\n",
        "  pixel_value_scale = np.max([stddev, min_stddev])\n",
        "  pixel_value_offset = image_mean\n",
        "  image = image - pixel_value_offset\n",
        "  image = image / pixel_value_scale\n",
        "  return image\n",
        "\n",
        "def get_accuracy_via_predictor_function(predictor_fn,\n",
        "                                        N=1000,\n",
        "                                        filepath='data/cifar-10-batches-bin/test_batch.bin'):\n",
        "  labels = []\n",
        "  images = []\n",
        "\n",
        "  for i in range(N):\n",
        "    result = extract_data(i, filepath='data/cifar-10-batches-bin/test_batch.bin')\n",
        "    images.append(per_image_standardization(result['image']))\n",
        "    labels.append(result['label'][0])\n",
        "\n",
        "  output = predictor_fn(\n",
        "    {\n",
        "      'images': images,\n",
        "    }\n",
        "  )\n",
        "  \n",
        "  return output['prediction'], np.sum([a==r for a, r in zip(labels, np.argmax(output['prediction'], axis=1))]) / float(N)"
      ]
    },
    {
      "cell_type": "code",
      "execution_count": null,
      "metadata": {
        "id": "JECH-Dfby6tp",
        "outputId": "452dbe23-5acc-4401-b611-0fc20b96bfde"
      },
      "outputs": [
        {
          "name": "stdout",
          "output_type": "stream",
          "text": [
            "0.107\n"
          ]
        }
      ],
      "source": [
        "# OMG, accuracy is just the same as random predictions....\n",
        "# This might be caused by initialized weights. but how we can properly load learned weights?\n",
        "outputs_, accuracy = get_accuracy_via_predictor_function(predictor_fn=predictor_fn, N=1000)\n",
        "print(accuracy)"
      ]
    },
    {
      "cell_type": "code",
      "execution_count": null,
      "metadata": {
        "id": "s5ZIoyQKy6tq",
        "outputId": "086ad9c9-6155-440c-85ae-be37effc4338"
      },
      "outputs": [
        {
          "name": "stdout",
          "output_type": "stream",
          "text": [
            "WARNING:tensorflow:Input graph does not contain a QueueRunner. That means predict yields forever. This is probably a mistake.\n",
            "INFO:tensorflow:Restoring parameters from trained_models/cnn-model-03/model.ckpt-100\n"
          ]
        },
        {
          "data": {
            "text/plain": [
              "0.34399999999999997"
            ]
          },
          "execution_count": 48,
          "metadata": {},
          "output_type": "execute_result"
        }
      ],
      "source": [
        "outputs = []\n",
        "N = 1000\n",
        "\n",
        "test_results = estimator.predict(input_fn=test_input_fn)\n",
        "for i, output in enumerate(test_results):\n",
        "  if i == N:\n",
        "    break\n",
        "  outputs.append(output['activation_1'])\n",
        "  \n",
        "labels = []\n",
        "for i in range(N):\n",
        "  result = extract_data(i, filepath='data/cifar-10-batches-bin/test_batch.bin')\n",
        "  labels.append(result['label'][0])\n",
        "  \n",
        "np.sum([a==r for a, r in zip(labels, np.argmax(outputs, axis=1))]) / float(N)"
      ]
    },
    {
      "cell_type": "code",
      "execution_count": null,
      "metadata": {
        "collapsed": true,
        "id": "za4YPXEQy6tq"
      },
      "outputs": [],
      "source": [
        "image = extract_data(0)['image']"
      ]
    },
    {
      "cell_type": "code",
      "execution_count": null,
      "metadata": {
        "id": "lXt-czB2y6tr"
      },
      "outputs": [],
      "source": [
        "sess = tf.InteractiveSession()\n",
        "A = tf.image.per_image_standardization(tf.constant(image)).eval()\n",
        "B = per_image_standardization(image)\n",
        "sess.close()"
      ]
    },
    {
      "cell_type": "code",
      "execution_count": null,
      "metadata": {
        "id": "2Ou6Yygny6tr",
        "outputId": "f2f23e1b-dfd6-4db0-d80d-a48183479210"
      },
      "outputs": [
        {
          "data": {
            "text/plain": [
              "-1.3876706e-07"
            ]
          },
          "execution_count": 28,
          "metadata": {},
          "output_type": "execute_result"
        }
      ],
      "source": [
        "(A - B).sum()"
      ]
    },
    {
      "cell_type": "markdown",
      "metadata": {
        "id": "8W4SUXg6y6ts"
      },
      "source": [
        "## 8. TensorBoard"
      ]
    },
    {
      "cell_type": "code",
      "execution_count": null,
      "metadata": {
        "collapsed": true,
        "id": "H3M5Tn4Hy6ts"
      },
      "outputs": [],
      "source": [
        "from google.datalab.ml import TensorBoard\n",
        "TensorBoard().start(model_dir)"
      ]
    },
    {
      "cell_type": "code",
      "execution_count": null,
      "metadata": {
        "collapsed": true,
        "id": "F2J0tiHly6tt"
      },
      "outputs": [],
      "source": [
        "for pid in TensorBoard.list()['pid']:\n",
        "    TensorBoard().stop(pid)\n",
        "    print 'Stopped TensorBoard with pid {}'.format(pid)"
      ]
    },
    {
      "cell_type": "markdown",
      "metadata": {
        "id": "JZZ1JXBby6tt"
      },
      "source": [
        "## (Opcional) Como usar gRPC para obter previsão"
      ]
    },
    {
      "cell_type": "code",
      "execution_count": null,
      "metadata": {
        "collapsed": true,
        "id": "F5gRMtz9y6tu"
      },
      "outputs": [],
      "source": [
        "from __future__ import print_function\n",
        "\n",
        "from grpc.beta import implementations\n",
        "import numpy\n",
        "import tensorflow as tf\n",
        "\n",
        "from tensorflow_serving.apis import predict_pb2\n",
        "from tensorflow_serving.apis import prediction_service_pb2\n",
        "\n",
        "def predict_with_grpc():\n",
        "  \"\"\"                                                                                                                                     \n",
        "  Note that you are running TensorFlow Serving with below commands.                                                                       \n",
        "  tensorflow_model_server --port=9000 --model_name=cnn-model-01 --model_base_path=./cnn-model-01                                          \n",
        "\n",
        "  In addition, make sure cnn-model-01 directory is organized as follows:                                                                  \n",
        "\n",
        "  cnn-model-01/:                                                                                                                          \n",
        "  {random_value}                                                                                                                              \n",
        "\n",
        "  cnn-model-01/{randam_value}/:                                                                                                           \n",
        "  saved_model.pb  variables                                                                                                               \n",
        "  \"\"\"\n",
        "  host = 'localhost'\n",
        "  port = '9000'\n",
        "  channel = implementations.insecure_channel(host, int(port))\n",
        "  stub = prediction_service_pb2.beta_create_PredictionService_stub(channel)\n",
        "\n",
        "  result = extract_data(0)\n",
        "  request = predict_pb2.PredictRequest()\n",
        "  request.model_spec.name = 'cnn-model-01'\n",
        "  request.model_spec.signature_name = 'predictions'\n",
        "  image = result['image']\n",
        "  label = result['label']\n",
        "  request.inputs['images'].CopyFrom(\n",
        "      tf.contrib.util.make_tensor_proto(image, shape=[1, 32, 32, 3]))\n",
        "\n",
        "  result_future = stub.Predict.future(request, 5.0)\n",
        "  print(result_future.result().outputs['classes'].int64_val)\n",
        "  print(result_future.result().outputs['probabilities'].float_val)"
      ]
    }
  ],
  "metadata": {
    "kernelspec": {
      "display_name": "Python 2",
      "language": "python",
      "name": "python2"
    },
    "language_info": {
      "codemirror_mode": {
        "name": "ipython",
        "version": 2
      },
      "file_extension": ".py",
      "mimetype": "text/x-python",
      "name": "python",
      "nbconvert_exporter": "python",
      "pygments_lexer": "ipython2",
      "version": "2.7.13"
    },
    "colab": {
      "provenance": []
    }
  },
  "nbformat": 4,
  "nbformat_minor": 0
}